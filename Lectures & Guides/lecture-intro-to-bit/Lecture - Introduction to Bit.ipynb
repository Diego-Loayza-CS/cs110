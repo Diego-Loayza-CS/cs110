{
 "cells": [
  {
   "cell_type": "markdown",
   "id": "08237ddb",
   "metadata": {
    "slideshow": {
     "slide_type": "slide"
    }
   },
   "source": [
    "# Introduction to Bit"
   ]
  },
  {
   "cell_type": "markdown",
   "id": "7fb47b00",
   "metadata": {
    "slideshow": {
     "slide_type": "notes"
    }
   },
   "source": [
    "## Learning Outcomes\n",
    "- `pip install byubit`\n",
    "- Introduction to Bit\n",
    "  - `move`, `left`, `right`, `paint`\n",
    "- Overview of a Bit script\n",
    "  - `from byubit import Bit`\n",
    "  - `@Bit.worlds`\n",
    "  - call the function!\n",
    "- Syntax\n",
    "  - indentation\n",
    "  - quotes on strings\n",
    "  - `()` on function calls\n",
    "  - Casing\n",
    "- Running Bit scripts\n",
    "  - Example in PyCharm\n",
    "  - Demonstrate how to step through the code with the Bit UI\n",
    "  - Demonstrate what it looks like when something is incorrect"
   ]
  },
  {
   "cell_type": "markdown",
   "id": "37e7e097",
   "metadata": {
    "slideshow": {
     "slide_type": "slide"
    }
   },
   "source": [
    "We can install code that other people wrote (called a \"package\") using the `pip` command in our terminal.\n",
    "\n",
    "We'll use `pip` to install `byubit`:\n",
    "\n",
    "```\n",
    "conda run -n cs110 pip install byubit\n",
    "```"
   ]
  },
  {
   "cell_type": "markdown",
   "id": "3fba160c",
   "metadata": {
    "slideshow": {
     "slide_type": "slide"
    }
   },
   "source": [
    "Once we've installed a package, we can use it in a script."
   ]
  },
  {
   "cell_type": "markdown",
   "id": "01b89f2b",
   "metadata": {
    "slideshow": {
     "slide_type": "slide"
    }
   },
   "source": [
    "## Bit"
   ]
  },
  {
   "cell_type": "markdown",
   "id": "3670cc0a",
   "metadata": {
    "slideshow": {
     "slide_type": "slide"
    }
   },
   "source": [
    "Bit lives in a grid world, like a chessboard.\n",
    "\n",
    "He can do four actions: `move`, `left`, `right`, and `paint`. \n",
    "\n",
    "### `hello_bit.py`"
   ]
  },
  {
   "cell_type": "code",
   "execution_count": 2,
   "id": "16167abb",
   "metadata": {
    "slideshow": {
     "slide_type": "skip"
    }
   },
   "outputs": [],
   "source": [
    "! mkdir -p for_class"
   ]
  },
  {
   "cell_type": "code",
   "execution_count": 2,
   "id": "ced73071",
   "metadata": {
    "slideshow": {
     "slide_type": "skip"
    }
   },
   "outputs": [
    {
     "name": "stdout",
     "output_type": "stream",
     "text": [
      "Overwriting for_class/hello_bit.py\n"
     ]
    }
   ],
   "source": [
    "%%file for_class/hello_bit.py\n",
    "from byubit import Bit\n",
    "\n",
    "\n",
    "@Bit.empty_world(5,3)\n",
    "def move_around(bit):\n",
    "    bit.move()\n",
    "    bit.move()\n",
    "    bit.paint(\"red\")\n",
    "    \n",
    "    bit.left()\n",
    "    bit.move()\n",
    "    bit.paint(\"green\")\n",
    "    \n",
    "    bit.right()\n",
    "    bit.move()\n",
    "    bit.paint(\"blue\")\n",
    "    \n",
    "    \n",
    "if __name__ == '__main__':\n",
    "    move_around(Bit.new_bit)\n",
    "    "
   ]
  },
  {
   "cell_type": "markdown",
   "id": "6213c4a7",
   "metadata": {
    "slideshow": {
     "slide_type": "slide"
    }
   },
   "source": [
    "```python\n",
    "from byubit import Bit\n",
    "```\n",
    "\n",
    "This means that `byubit` (what we `pip install`ed) has a thing called `Bit`, and we want to use it."
   ]
  },
  {
   "cell_type": "markdown",
   "id": "9ea55ea4",
   "metadata": {
    "slideshow": {
     "slide_type": "slide"
    }
   },
   "source": [
    "```python\n",
    "def move_around(bit):\n",
    "    ...\n",
    "```\n",
    "\n",
    "Here we define a **function** that will tell Bit what to do.\n",
    "\n",
    "In this case, we named the function parameter `bit`, but we could have named it `robot` or `Sally` or `cosmo`. \n",
    "\n",
    "e.g.\n",
    "\n",
    "```python\n",
    "def move_around(cosmo):\n",
    "    cosmo.move()\n",
    "    ...\n",
    "```\n",
    "\n",
    "We'll talk more about functions in a few lectures."
   ]
  },
  {
   "cell_type": "markdown",
   "id": "59cee65b",
   "metadata": {
    "slideshow": {
     "slide_type": "slide"
    }
   },
   "source": [
    "```python\n",
    "@Bit.empty_world(5,3)\n",
    "```\n",
    "\n",
    "This means that we want `Bit` (the thing we imported from `byubit`) to run our function. \n",
    "\n",
    "In this case, `Bit` will create an empty world that is 5 spaces wide and 3 spaces tall.\n",
    "\n",
    "When Bit starts in an empty world, it always starts in the **bottom-left** corner **facing right**."
   ]
  },
  {
   "cell_type": "markdown",
   "id": "7ef24acb",
   "metadata": {
    "slideshow": {
     "slide_type": "slide"
    }
   },
   "source": [
    "```python\n",
    "    bit.move()\n",
    "    bit.paint(\"red\")\n",
    "```\n",
    "\n",
    "These lines are the instructions we have for `bit`.\n",
    "\n",
    "`bit.move` is a function. Including `()` at the end means we want to **call** that function.\n",
    "\n",
    "Calling `bit.move()` makes the bit move one space in the direction it is facing.\n",
    "\n",
    "`bit.paint` is a function. Including `(\"red\")` at the end means we want to call that function with `\"red\"` as a **parameter**.\n",
    "\n",
    "Calling `bit.paint(\"red\")` will paint the current space the specified color.\n",
    "\n",
    "Valid colors are `\"red\"`, `\"blue\"`, and `\"green\"`. (Notice the quotes `\"`)"
   ]
  },
  {
   "cell_type": "markdown",
   "id": "d4de92c5",
   "metadata": {
    "slideshow": {
     "slide_type": "slide"
    }
   },
   "source": [
    "```python\n",
    "move_around(Bit.new_bit)\n",
    "```\n",
    "\n",
    "This line is where we tell python we want to run the `move_around` function we defined. \n",
    "\n",
    "The `def` line is where we defined the recipe, and the `move_around(Bit.new_bit)` line is where we tell it to actually bake the cake.\n",
    "\n",
    "`Bit.new_bit` is the bit that will explore the empty world we requested in `@Bit.empty_world(5,3)`"
   ]
  },
  {
   "cell_type": "markdown",
   "id": "b875bcc3",
   "metadata": {
    "slideshow": {
     "slide_type": "slide"
    }
   },
   "source": [
    "**Indentation Matters!**\n",
    "\n",
    "```python\n",
    "def move_around(bit):\n",
    "    bit.move()\n",
    "    bit.move()\n",
    "    bit.paint(\"red\")\n",
    "####\n",
    "```\n",
    "\n",
    "You'll notice that the lines inside the function are indented 4 spaces. **This matters.**\n",
    "\n",
    "Be sure to indent the code that belongs to a function. Later, we'll talk more about this, but this is enough to get you started."
   ]
  },
  {
   "cell_type": "markdown",
   "id": "f68255e5",
   "metadata": {
    "slideshow": {
     "slide_type": "slide"
    }
   },
   "source": [
    "```python\n",
    "if __name__ == '__main__':\n",
    "```\n",
    "\n",
    "We'll learn more about what this means later. For now, include it before the line where you call your primary function.\n",
    "\n",
    "```python\n",
    "@Bit.empty_world(5, 3)\n",
    "def move_around(bit):  # <-- Call this function...\n",
    "    ...\n",
    "\n",
    "if __name__ == '__main__':\n",
    "    move_around(Bit.new_bit)  # ...down here!\n",
    "```"
   ]
  },
  {
   "cell_type": "markdown",
   "id": "ebd5413b",
   "metadata": {
    "slideshow": {
     "slide_type": "slide"
    }
   },
   "source": [
    "What picture will `move_around.py` produce?\n",
    "\n",
    "### `move_around.py`"
   ]
  },
  {
   "cell_type": "code",
   "execution_count": 3,
   "id": "bdc3046f",
   "metadata": {
    "slideshow": {
     "slide_type": "skip"
    }
   },
   "outputs": [
    {
     "name": "stdout",
     "output_type": "stream",
     "text": [
      "Overwriting for_class/move_around.py\n"
     ]
    }
   ],
   "source": [
    "%%file for_class/move_around.py\n",
    "from byubit import Bit\n",
    "\n",
    "\n",
    "@Bit.empty_world(5,3)\n",
    "def move_around(bit):\n",
    "    bit.move()\n",
    "    bit.left()\n",
    "    bit.move()\n",
    "    bit.paint(\"green\")\n",
    "    \n",
    "    bit.right()\n",
    "    bit.move()\n",
    "    bit.paint(\"red\")\n",
    "    \n",
    "    bit.right()\n",
    "    bit.move()\n",
    "    bit.paint(\"blue\")\n",
    "\n",
    "    \n",
    "if __name__ == '__main__':\n",
    "    move_around(Bit.new_bit)\n",
    "    "
   ]
  },
  {
   "cell_type": "markdown",
   "id": "230466c9",
   "metadata": {
    "slideshow": {
     "slide_type": "slide"
    }
   },
   "source": [
    "The `first`, `prev`, `next`, and `last` buttons let you step through your code line by line.\n",
    "\n",
    "### `move_around.py`"
   ]
  },
  {
   "cell_type": "markdown",
   "id": "f978a76d",
   "metadata": {
    "slideshow": {
     "slide_type": "slide"
    }
   },
   "source": [
    "What code would you write to produce the following picture?\n",
    "\n",
    "Sketch out your strategy on a piece of paper."
   ]
  },
  {
   "cell_type": "code",
   "execution_count": 5,
   "id": "9faa34cb",
   "metadata": {
    "slideshow": {
     "slide_type": "skip"
    }
   },
   "outputs": [],
   "source": [
    "! mkdir -p images for_class/worlds"
   ]
  },
  {
   "cell_type": "markdown",
   "id": "e0c3c645",
   "metadata": {},
   "source": [
    "<img src='images/green-square.svg'/>"
   ]
  },
  {
   "cell_type": "code",
   "execution_count": 4,
   "id": "02638767",
   "metadata": {
    "slideshow": {
     "slide_type": "skip"
    }
   },
   "outputs": [
    {
     "name": "stdout",
     "output_type": "stream",
     "text": [
      "Overwriting for_class/green_square.py\n"
     ]
    }
   ],
   "source": [
    "%%file for_class/green_square.py\n",
    "from byubit import Bit\n",
    "\n",
    "\n",
    "@Bit.empty_world(5, 3)\n",
    "def make_green_square(bit):\n",
    "    pass\n",
    "\n",
    "\n",
    "if __name__ == '__main__':\n",
    "    make_green_square(Bit.new_bit)\n",
    "    "
   ]
  },
  {
   "cell_type": "code",
   "execution_count": 1,
   "id": "2cb54539",
   "metadata": {
    "slideshow": {
     "slide_type": "skip"
    }
   },
   "outputs": [
    {
     "name": "stdout",
     "output_type": "stream",
     "text": [
      "Saving bit world to images/green-square.svg\n"
     ]
    }
   ],
   "source": [
    "from byubit import Bit, use_text_renderer\n",
    "use_text_renderer()\n",
    "\n",
    "\n",
    "@Bit.empty_world(5,3)\n",
    "def make_green_square(bit):\n",
    "    bit.move()\n",
    "    bit.move()\n",
    "    bit.move()\n",
    "    bit.left()\n",
    "    bit.move()\n",
    "    bit.paint(\"green\")\n",
    "    bit.draw('images/green-square.svg', message=' ')\n",
    "    \n",
    "    \n",
    "if __name__ == '__main__':\n",
    "    make_green_square(Bit.new_bit)\n",
    "    "
   ]
  },
  {
   "cell_type": "markdown",
   "id": "6a6ecd1d",
   "metadata": {
    "slideshow": {
     "slide_type": "slide"
    }
   },
   "source": [
    "What picture does `no_cake.py` create?\n",
    "\n",
    "### `no_cake.py`"
   ]
  },
  {
   "cell_type": "code",
   "execution_count": 5,
   "id": "162f021d",
   "metadata": {
    "slideshow": {
     "slide_type": "skip"
    }
   },
   "outputs": [
    {
     "name": "stdout",
     "output_type": "stream",
     "text": [
      "Overwriting for_class/no_cake.py\n"
     ]
    }
   ],
   "source": [
    "%%file for_class/no_cake.py\n",
    "from byubit import Bit\n",
    "\n",
    "\n",
    "@Bit.empty_world(5,3)\n",
    "def make_a_cake(bit):\n",
    "    bit.move()\n",
    "    bit.paint('red')\n",
    "    bit.move()\n",
    "    bit.paint('green')\n"
   ]
  },
  {
   "cell_type": "markdown",
   "id": "0fff11f5",
   "metadata": {
    "slideshow": {
     "slide_type": "slide"
    }
   },
   "source": [
    "What picture does `get_moving.py` create?\n",
    "\n",
    "### `get_moving.py`"
   ]
  },
  {
   "cell_type": "code",
   "execution_count": 6,
   "id": "282663fa",
   "metadata": {
    "slideshow": {
     "slide_type": "skip"
    }
   },
   "outputs": [
    {
     "name": "stdout",
     "output_type": "stream",
     "text": [
      "Overwriting for_class/get_moving.py\n"
     ]
    }
   ],
   "source": [
    "%%file for_class/get_moving.py\n",
    "from byubit import Bit\n",
    "\n",
    "\n",
    "@Bit.empty_world(5,3)\n",
    "def main(bit):\n",
    "    bit.move\n",
    "    bit.move\n",
    "    bit.paint(\"green\")\n",
    "\n",
    "    \n",
    "if __name__ == '__main__':\n",
    "    main(Bit.new_bit)\n",
    "    "
   ]
  },
  {
   "cell_type": "markdown",
   "id": "04b06ba6",
   "metadata": {
    "slideshow": {
     "slide_type": "fragment"
    }
   },
   "source": [
    "Was this what you expected?"
   ]
  },
  {
   "cell_type": "markdown",
   "id": "7e856ca6",
   "metadata": {
    "slideshow": {
     "slide_type": "slide"
    }
   },
   "source": [
    "When you type the name of a fuction, but don't include the `()` at the end, it's like saying:\n",
    "\n",
    "> Hey computer, did you know there is a function named `bit.move`?\n",
    "\n",
    "And the computer says\n",
    "\n",
    "> Yep.\n",
    "\n",
    "When you include the `()`, it's like saying:\n",
    "\n",
    "> Hey computer, run the function named `bit.move`"
   ]
  },
  {
   "cell_type": "markdown",
   "id": "9cbe29f4",
   "metadata": {
    "slideshow": {
     "slide_type": "slide"
    }
   },
   "source": [
    "What picture does `go_the_distance.py` create?\n",
    "\n",
    "### `go_the_distance.py`"
   ]
  },
  {
   "cell_type": "code",
   "execution_count": 7,
   "id": "1e0e6148",
   "metadata": {
    "slideshow": {
     "slide_type": "skip"
    }
   },
   "outputs": [
    {
     "name": "stdout",
     "output_type": "stream",
     "text": [
      "Overwriting for_class/go_the_distance.py\n"
     ]
    }
   ],
   "source": [
    "%%file for_class/go_the_distance.py\n",
    "from byubit import Bit\n",
    "\n",
    "\n",
    "@Bit.empty_world(5,3)\n",
    "def go_go_go(bit):\n",
    "    bit.move()\n",
    "    bit.move()\n",
    "    bit.move()\n",
    "    bit.move()\n",
    "    bit.move()\n",
    "    bit.paint('green')\n",
    "\n",
    "    \n",
    "if __name__ == '__main__':\n",
    "    go_go_go(Bit.new_bit)\n",
    "    "
   ]
  },
  {
   "cell_type": "markdown",
   "id": "b7141ff8",
   "metadata": {
    "slideshow": {
     "slide_type": "slide"
    }
   },
   "source": [
    "When you try to move the bit to an invalid space, you get an error."
   ]
  },
  {
   "cell_type": "markdown",
   "id": "79972ef8",
   "metadata": {
    "slideshow": {
     "slide_type": "slide"
    }
   },
   "source": [
    "What picture does `colorful.py` create?\n",
    "\n",
    "### `colorful.py`"
   ]
  },
  {
   "cell_type": "code",
   "execution_count": 8,
   "id": "158ce9f8",
   "metadata": {
    "slideshow": {
     "slide_type": "skip"
    }
   },
   "outputs": [
    {
     "name": "stdout",
     "output_type": "stream",
     "text": [
      "Overwriting for_class/colorful.py\n"
     ]
    }
   ],
   "source": [
    "%%file for_class/colorful.py\n",
    "from byubit import Bit\n",
    "\n",
    "\n",
    "@Bit.empty_world(5,3)\n",
    "def paint_stuff(bit):\n",
    "    bit.move()\n",
    "    bit.paint()\n",
    "\n",
    "    \n",
    "if __name__ == '__main__':\n",
    "    paint_stuff(Bit.new_bit)\n",
    "    "
   ]
  },
  {
   "cell_type": "markdown",
   "id": "38240daf",
   "metadata": {
    "slideshow": {
     "slide_type": "slide"
    }
   },
   "source": [
    "`bit.paint` requires one argument: the 'color'.\n",
    "\n",
    "Remember the valid values are:\n",
    "- `\"red\"`\n",
    "- `\"blue\"`\n",
    "- `\"green\"`\n",
    "\n",
    "You can also use single quotes:\n",
    "- `'red'`\n",
    "- `'blue'`\n",
    "- `'green'`"
   ]
  },
  {
   "cell_type": "markdown",
   "id": "d37910c7",
   "metadata": {
    "slideshow": {
     "slide_type": "slide"
    }
   },
   "source": [
    "What picture does `red.py` create?\n",
    "\n",
    "### `red.py`"
   ]
  },
  {
   "cell_type": "code",
   "execution_count": 9,
   "id": "883b8d74",
   "metadata": {
    "slideshow": {
     "slide_type": "skip"
    }
   },
   "outputs": [
    {
     "name": "stdout",
     "output_type": "stream",
     "text": [
      "Overwriting for_class/red.py\n"
     ]
    }
   ],
   "source": [
    "%%file for_class/red.py\n",
    "from byubit import Bit\n",
    "\n",
    "\n",
    "@Bit.empty_world(5,3)\n",
    "def paint_stuff(bit):\n",
    "    bit.move()\n",
    "    bit.paint(red)\n",
    "\n",
    "    \n",
    "if __name__ == '__main__':\n",
    "    paint_stuff(Bit.new_bit)\n",
    "    "
   ]
  },
  {
   "cell_type": "markdown",
   "id": "9369630b",
   "metadata": {
    "slideshow": {
     "slide_type": "fragment"
    }
   },
   "source": [
    "Remember the quotes!"
   ]
  },
  {
   "cell_type": "markdown",
   "id": "7c13d491",
   "metadata": {
    "slideshow": {
     "slide_type": "slide"
    }
   },
   "source": [
    "What picture does `big_move.py` produce?\n",
    "\n",
    "### `big_move.py`"
   ]
  },
  {
   "cell_type": "code",
   "execution_count": 10,
   "id": "becb2a84",
   "metadata": {
    "slideshow": {
     "slide_type": "skip"
    }
   },
   "outputs": [
    {
     "name": "stdout",
     "output_type": "stream",
     "text": [
      "Overwriting for_class/big_move.py\n"
     ]
    }
   ],
   "source": [
    "%%file for_class/big_move.py\n",
    "from byubit import Bit\n",
    "\n",
    "\n",
    "@Bit.empty_world(5,3)\n",
    "def go(bit):\n",
    "    bit.paint('green')    \n",
    "    bit.Move()\n",
    "    bit.paint('blue')\n",
    "\n",
    "    \n",
    "if __name__ == '__main__':\n",
    "    go(Bit.new_bit)\n"
   ]
  },
  {
   "cell_type": "markdown",
   "id": "c840f1e0",
   "metadata": {
    "slideshow": {
     "slide_type": "slide"
    }
   },
   "source": [
    "The **casing** (i.e. \"upper-case\" or \"lower-case\") matters!\n",
    "\n",
    "`Paint` is not the same as `paint`"
   ]
  },
  {
   "cell_type": "code",
   "execution_count": 13,
   "id": "875272f0",
   "metadata": {
    "slideshow": {
     "slide_type": "skip"
    }
   },
   "outputs": [
    {
     "name": "stdout",
     "output_type": "stream",
     "text": [
      "Writing for_class/worlds/grassy_field.start.txt\n"
     ]
    }
   ],
   "source": [
    "%%file for_class/worlds/grassy_field.start.txt\n",
    "------\n",
    "------\n",
    "------\n",
    "gggggg\n",
    "0 1\n",
    "0"
   ]
  },
  {
   "cell_type": "code",
   "execution_count": 14,
   "id": "007a1832",
   "metadata": {
    "slideshow": {
     "slide_type": "skip"
    }
   },
   "outputs": [
    {
     "name": "stdout",
     "output_type": "stream",
     "text": [
      "Writing for_class/worlds/grassy_field.finish.txt\n"
     ]
    }
   ],
   "source": [
    "%%file for_class/worlds/grassy_field.finish.txt\n",
    "------\n",
    "------\n",
    "bbbbbb\n",
    "gggggg\n",
    "5 1\n",
    "0"
   ]
  },
  {
   "cell_type": "code",
   "execution_count": 17,
   "id": "2c0b93e6",
   "metadata": {
    "slideshow": {
     "slide_type": "skip"
    }
   },
   "outputs": [
    {
     "name": "stdout",
     "output_type": "stream",
     "text": [
      "Saving bit world to images/grassy_field.start.svg\n",
      "Saving bit world to images/grassy_field.finish.svg\n"
     ]
    }
   ],
   "source": [
    "Bit.load('for_class/worlds/grassy_field.start.txt').draw('images/grassy_field.start.svg', message='Grass')\n",
    "Bit.load('for_class/worlds/grassy_field.finish.txt').draw('images/grassy_field.finish.svg', message='Some sky')"
   ]
  },
  {
   "cell_type": "markdown",
   "id": "4bebd8c1",
   "metadata": {
    "slideshow": {
     "slide_type": "slide"
    }
   },
   "source": [
    "You can also run Bit in predefined worlds.\n",
    "\n",
    "For example, `'grassy_field'` starts Bit in a world like this:\n",
    "\n",
    "<img src=\"images/grassy_field.start.svg\" width=\"300px\" />\n",
    "\n",
    "And it expects that by the time your function finishes, the world will look like this:\n",
    "\n",
    "<img src=\"images/grassy_field.finish.svg\" width=\"300px\" />\n",
    "\n",
    "### `grassy_field.py`"
   ]
  },
  {
   "cell_type": "code",
   "execution_count": 11,
   "id": "fa1565d4",
   "metadata": {
    "slideshow": {
     "slide_type": "skip"
    }
   },
   "outputs": [
    {
     "name": "stdout",
     "output_type": "stream",
     "text": [
      "Overwriting for_class/grassy_field.py\n"
     ]
    }
   ],
   "source": [
    "%%file for_class/grassy_field.py\n",
    "from byubit import Bit\n",
    "\n",
    "\n",
    "@Bit.worlds(\"grassy_field\")\n",
    "def make_sky(bit):\n",
    "    bit.paint('blue')\n",
    "\n",
    "    \n",
    "if __name__ == '__main__':\n",
    "    make_sky(Bit.new_bit)\n",
    "    "
   ]
  },
  {
   "cell_type": "markdown",
   "id": "acc7d71e",
   "metadata": {
    "slideshow": {
     "slide_type": "slide"
    }
   },
   "source": [
    "You can see that our function didn't quite deliver on the expected result.\n",
    "\n",
    "What code could we use to finish the picture?"
   ]
  },
  {
   "cell_type": "markdown",
   "id": "06c5a856",
   "metadata": {
    "slideshow": {
     "slide_type": "slide"
    }
   },
   "source": [
    "## Key Ideas\n",
    "\n",
    "- `from byubit import Bit` let's us use `Bit` in our script\n",
    "- `bit.move`, `bit.left`, `bit.right`, and `bit.paint` are functions that make bit do something\n",
    "  - But remember the `()`!\n",
    "  - `bit.paint` needs a color: `'red'`, `'blue'`, `'green'`, e.g. `bit.paint('red')`\n",
    "- `@Bit.worlds` takes a string that indicates a predefined Bit world to use\n",
    "- Be sure to call your main function (or nothing happens!)\n",
    "- You can step through the action one step at a time"
   ]
  }
 ],
 "metadata": {
  "celltoolbar": "Slideshow",
  "kernelspec": {
   "display_name": "Python 3 (ipykernel)",
   "language": "python",
   "name": "python3"
  },
  "language_info": {
   "codemirror_mode": {
    "name": "ipython",
    "version": 3
   },
   "file_extension": ".py",
   "mimetype": "text/x-python",
   "name": "python",
   "nbconvert_exporter": "python",
   "pygments_lexer": "ipython3",
   "version": "3.11.5"
  },
  "toc": {
   "base_numbering": 1,
   "nav_menu": {},
   "number_sections": false,
   "sideBar": true,
   "skip_h1_title": true,
   "title_cell": "Table of Contents",
   "title_sidebar": "Contents",
   "toc_cell": false,
   "toc_position": {},
   "toc_section_display": true,
   "toc_window_display": false
  }
 },
 "nbformat": 4,
 "nbformat_minor": 5
}
