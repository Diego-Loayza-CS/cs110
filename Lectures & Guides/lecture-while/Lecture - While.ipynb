{
 "cells": [
  {
   "cell_type": "markdown",
   "id": "6d3e649b",
   "metadata": {
    "slideshow": {
     "slide_type": "slide"
    }
   },
   "source": [
    "# `while`"
   ]
  },
  {
   "cell_type": "markdown",
   "id": "639e792a",
   "metadata": {
    "slideshow": {
     "slide_type": "skip"
    }
   },
   "source": [
    "**Learning Objectives**\n",
    "\n",
    "- `while` syntax\n",
    "- Boundary conditions\n",
    "- `not` syntax\n",
    "- Infinite loops\n",
    "  - Concept\n",
    "  - Bit handling of infinite loops\n",
    "- `front_clear(), left_clear(), right_clear(), is_green(), is_red(), is_blue()`\n",
    "- Practice with `while` and decomposition\n",
    "  - `fix_tree.py`"
   ]
  },
  {
   "cell_type": "code",
   "execution_count": 1,
   "id": "ba9bfb96",
   "metadata": {
    "slideshow": {
     "slide_type": "skip"
    }
   },
   "outputs": [],
   "source": [
    "! mkdir -p images/ for_class/worlds"
   ]
  },
  {
   "cell_type": "code",
   "execution_count": 2,
   "id": "9143b111",
   "metadata": {
    "slideshow": {
     "slide_type": "skip"
    }
   },
   "outputs": [
    {
     "name": "stdout",
     "output_type": "stream",
     "text": [
      "Saving bit world to images/empty.svg\n",
      "Saving bit world to images/green.svg\n"
     ]
    }
   ],
   "source": [
    "from byubit import Bit, use_text_renderer\n",
    "use_text_renderer()\n",
    "\n",
    "\n",
    "@Bit.empty_world(5,3)\n",
    "def go_green(bit):\n",
    "    bit.draw('images/empty.svg', message='Empty')\n",
    "    bit.paint('green')\n",
    "    bit.move()\n",
    "    bit.paint('green')\n",
    "    bit.move()\n",
    "    bit.paint('green')\n",
    "    bit.move()\n",
    "    bit.paint('green')\n",
    "    bit.move()\n",
    "    bit.paint('green')\n",
    "    bit.draw('images/green.svg', message='Green')\n",
    "\n",
    "    \n",
    "if __name__ == '__main__':\n",
    "    go_green(Bit.new_bit)\n",
    "    "
   ]
  },
  {
   "cell_type": "markdown",
   "id": "431e8e3a",
   "metadata": {
    "slideshow": {
     "slide_type": "slide"
    }
   },
   "source": [
    "Consider the following task: fill the bottom row of a bit world with green."
   ]
  },
  {
   "cell_type": "markdown",
   "id": "d9b478d1",
   "metadata": {},
   "source": [
    "<img src=\"images/empty.svg\" width=\"300px\" />\n",
    "\n",
    "<img src=\"images/green.svg\" width=\"300px\" />"
   ]
  },
  {
   "cell_type": "markdown",
   "id": "3a0bfbb0",
   "metadata": {
    "slideshow": {
     "slide_type": "slide"
    }
   },
   "source": [
    "## 🎨 `while`"
   ]
  },
  {
   "cell_type": "code",
   "execution_count": 1,
   "id": "fda615e4",
   "metadata": {
    "slideshow": {
     "slide_type": "skip"
    }
   },
   "outputs": [
    {
     "name": "stdout",
     "output_type": "stream",
     "text": [
      "Overwriting for_class/ever_green.py\n"
     ]
    }
   ],
   "source": [
    "%%file for_class/ever_green.py\n",
    "from byubit import Bit\n",
    "\n",
    "\n",
    "@Bit.empty_world(5, 3)\n",
    "def go_green(bit):\n",
    "    while True:\n",
    "        bit.paint('green')\n",
    "        bit.move()\n",
    "\n",
    "        \n",
    "if __name__ == '__main__':\n",
    "    go_green(Bit.new_bit)\n",
    "    "
   ]
  },
  {
   "cell_type": "markdown",
   "id": "c40daed4",
   "metadata": {
    "slideshow": {
     "slide_type": "slide"
    }
   },
   "source": [
    "### `ever_green.py`"
   ]
  },
  {
   "cell_type": "markdown",
   "id": "451c1fff",
   "metadata": {
    "slideshow": {
     "slide_type": "notes"
    }
   },
   "source": [
    "Change `True` to `False` - what happens?"
   ]
  },
  {
   "cell_type": "markdown",
   "id": "3c4b2c13",
   "metadata": {
    "cell_style": "split",
    "slideshow": {
     "slide_type": "slide"
    }
   },
   "source": [
    "```\n",
    "while <condition>:\n",
    "    if the condition was True\n",
    "    run these lines\n",
    "    then check the condition again\n",
    "```"
   ]
  },
  {
   "cell_type": "markdown",
   "id": "b7288202",
   "metadata": {
    "cell_style": "split",
    "slideshow": {
     "slide_type": "-"
    }
   },
   "source": [
    "Repeating the same lines of code is called a **loop**.\n",
    "\n",
    "A loop **body** contains the instructions we want to run multiple times.\n",
    "\n",
    "The loop **condition** determines whether the loop body will be run.\n",
    "\n",
    "The loop body is indented 4 spaces relative to the `while` statement."
   ]
  },
  {
   "cell_type": "markdown",
   "id": "4baf5629",
   "metadata": {
    "slideshow": {
     "slide_type": "slide"
    }
   },
   "source": [
    "Ideally, we would have something that was `True` when it was ok for Bit to move and `False` when Bit was blocked."
   ]
  },
  {
   "cell_type": "markdown",
   "id": "d26600a1",
   "metadata": {
    "slideshow": {
     "slide_type": "slide"
    }
   },
   "source": [
    "### Helpful Bit Fact #1\n",
    "\n",
    "Bit has a method for checking whether the front of Bit is clear (i.e. a move will not go out of bounds).\n",
    "\n",
    "```python\n",
    "bit.front_clear()\n",
    "```\n",
    "\n",
    "It **returns** `True` when the space in front of Bit is clear and `False` when the space in front is blocked."
   ]
  },
  {
   "cell_type": "markdown",
   "id": "b8b24a62",
   "metadata": {
    "slideshow": {
     "slide_type": "slide"
    }
   },
   "source": [
    "### `go_green.py`"
   ]
  },
  {
   "cell_type": "markdown",
   "id": "dfa1f503",
   "metadata": {
    "slideshow": {
     "slide_type": "notes"
    }
   },
   "source": [
    "**NOTES**\n",
    "\n",
    "Step through the code, one step at a time.\n",
    "\n",
    "Point out how the loop condition is checked before each run of the body.\n",
    "\n",
    "Show how the loop body is skipped when the condition is `False`.\n",
    "\n",
    "If necessary, change the last line to `bit.paint('blue')` to clarify that the body is completely skipped when the condition is false.\n",
    "\n",
    "Follow a similar approach for each of the demonstrations in this lesson."
   ]
  },
  {
   "cell_type": "code",
   "execution_count": 2,
   "id": "40beb428",
   "metadata": {
    "slideshow": {
     "slide_type": "skip"
    }
   },
   "outputs": [
    {
     "name": "stdout",
     "output_type": "stream",
     "text": [
      "Overwriting for_class/go_green.py\n"
     ]
    }
   ],
   "source": [
    "%%file for_class/go_green.py\n",
    "from byubit import Bit\n",
    "\n",
    "\n",
    "@Bit.empty_world(5, 3)\n",
    "def go_green(bit):\n",
    "    while bit.front_clear():\n",
    "        bit.paint('green')\n",
    "        bit.move()\n",
    "    bit.paint('green')\n",
    "\n",
    "    \n",
    "if __name__ == '__main__':\n",
    "    go_green(Bit.new_bit)\n"
   ]
  },
  {
   "cell_type": "markdown",
   "id": "a4926152",
   "metadata": {
    "slideshow": {
     "slide_type": "slide"
    }
   },
   "source": [
    "### `green_blue.py`"
   ]
  },
  {
   "cell_type": "code",
   "execution_count": 3,
   "id": "d9d37f86",
   "metadata": {
    "cell_style": "center",
    "slideshow": {
     "slide_type": "skip"
    }
   },
   "outputs": [
    {
     "name": "stdout",
     "output_type": "stream",
     "text": [
      "Overwriting for_class/green_blue.py\n"
     ]
    }
   ],
   "source": [
    "%%file for_class/green_blue.py\n",
    "from byubit import Bit\n",
    "\n",
    "\n",
    "@Bit.empty_world(5, 3)\n",
    "def go_green(bit):\n",
    "    while bit.front_clear():\n",
    "        bit.paint('green')\n",
    "        bit.move()\n",
    "        bit.paint('blue')\n",
    "        \n",
    "        \n",
    "if __name__ == '__main__':\n",
    "    go_green(Bit.new_bit)\n",
    "    "
   ]
  },
  {
   "cell_type": "markdown",
   "id": "a1c50b03",
   "metadata": {
    "slideshow": {
     "slide_type": "slide"
    }
   },
   "source": [
    "## Conditions"
   ]
  },
  {
   "cell_type": "markdown",
   "id": "a3dbf948",
   "metadata": {
    "slideshow": {
     "slide_type": "slide"
    }
   },
   "source": [
    "A **condition** is something that is either **true** or **false**.\n",
    "\n",
    "We can represent the concept of **true** or **false** in python using the values `True` and `False`.\n",
    "\n",
    "A thing that is either `True` or `False` is called a **boolean** (named after George Boole)."
   ]
  },
  {
   "cell_type": "markdown",
   "id": "417472ec",
   "metadata": {
    "slideshow": {
     "slide_type": "slide"
    }
   },
   "source": [
    "## Boundary Conditions"
   ]
  },
  {
   "cell_type": "markdown",
   "id": "c46e1505",
   "metadata": {
    "slideshow": {
     "slide_type": "slide"
    }
   },
   "source": [
    "### `paint_move.py`"
   ]
  },
  {
   "cell_type": "code",
   "execution_count": 4,
   "id": "1c4ae1f4",
   "metadata": {
    "cell_style": "center",
    "slideshow": {
     "slide_type": "skip"
    }
   },
   "outputs": [
    {
     "name": "stdout",
     "output_type": "stream",
     "text": [
      "Overwriting for_class/paint_move.py\n"
     ]
    }
   ],
   "source": [
    "%%file for_class/paint_move.py\n",
    "from byubit import Bit\n",
    "\n",
    "\n",
    "@Bit.empty_world(5, 3)\n",
    "def go_green(bit):\n",
    "    while bit.front_clear():\n",
    "        bit.paint('green')\n",
    "        bit.move()\n",
    "\n",
    "        \n",
    "if __name__ == '__main__':\n",
    "    go_green(Bit.new_bit)\n",
    "    "
   ]
  },
  {
   "cell_type": "markdown",
   "id": "6a973498",
   "metadata": {
    "slideshow": {
     "slide_type": "notes"
    }
   },
   "source": [
    "In `paint_move.py`, why isn't the last square painted?\n",
    "\n",
    "Change the order of the `paint` and `move` statements. What happens?"
   ]
  },
  {
   "cell_type": "markdown",
   "id": "3d5004e2",
   "metadata": {
    "slideshow": {
     "slide_type": "slide"
    }
   },
   "source": [
    "When using `while` loops, always consider the **boundary conditions**.\n",
    "\n",
    "A boundary condition is the state of your program when a loop starts or finishes.\n",
    "\n",
    "For example:\n",
    "- Where is Bit when the loop starts?\n",
    "- Where will Bit be when the loop ends?\n",
    "- What squares will be colored? Which squares will *not* be colored?\n",
    "- Which direction is Bit facing at the beginning? at the end?"
   ]
  },
  {
   "cell_type": "markdown",
   "id": "e486c171",
   "metadata": {
    "slideshow": {
     "slide_type": "slide"
    }
   },
   "source": [
    "<div class='alert alert-info'>\n",
    "        When writing a <code>while</code> loop, be clear about the boundary conditions.\n",
    "</div>\n",
    "    "
   ]
  },
  {
   "cell_type": "code",
   "execution_count": 10,
   "id": "491563cc",
   "metadata": {
    "slideshow": {
     "slide_type": "skip"
    }
   },
   "outputs": [
    {
     "name": "stdout",
     "output_type": "stream",
     "text": [
      "Writing for_class/worlds/blocked.start.txt\n"
     ]
    }
   ],
   "source": [
    "%%file for_class/worlds/blocked.start.txt\n",
    "----\n",
    "----\n",
    "-k--\n",
    "0 0\n",
    "0"
   ]
  },
  {
   "cell_type": "code",
   "execution_count": 12,
   "id": "21fca820",
   "metadata": {
    "slideshow": {
     "slide_type": "skip"
    }
   },
   "outputs": [
    {
     "name": "stdout",
     "output_type": "stream",
     "text": [
      "Saving bit world to images/blocked.start.svg\n"
     ]
    }
   ],
   "source": [
    "Bit.load('for_class/worlds/blocked.start.txt').draw('images/blocked.start.svg', message='Blocked')"
   ]
  },
  {
   "cell_type": "markdown",
   "id": "2708820d",
   "metadata": {
    "slideshow": {
     "slide_type": "slide"
    }
   },
   "source": [
    "### Helpful Bit Fact #2\n",
    "\n",
    "Sometimes a Bit world includes black squares. These squares are blocked; Bit cannot move onto them.\n",
    "\n",
    "<img src='images/blocked.start.svg' width='300px' />"
   ]
  },
  {
   "cell_type": "code",
   "execution_count": 5,
   "id": "af98e981",
   "metadata": {
    "slideshow": {
     "slide_type": "skip"
    }
   },
   "outputs": [
    {
     "name": "stdout",
     "output_type": "stream",
     "text": [
      "Overwriting for_class/blocked.py\n"
     ]
    }
   ],
   "source": [
    "%%file for_class/blocked.py\n",
    "from byubit import Bit\n",
    "\n",
    "\n",
    "@Bit.worlds('blocked')\n",
    "def blocked(bit):\n",
    "    bit.move()\n",
    "\n",
    "    \n",
    "if __name__ == '__main__':\n",
    "    blocked(Bit.new_bit)\n"
   ]
  },
  {
   "cell_type": "code",
   "execution_count": 14,
   "id": "2c25610e",
   "metadata": {
    "slideshow": {
     "slide_type": "skip"
    }
   },
   "outputs": [
    {
     "name": "stdout",
     "output_type": "stream",
     "text": [
      "Writing for_class/worlds/black-row.start.txt\n"
     ]
    }
   ],
   "source": [
    "%%file for_class/worlds/black-row.start.txt\n",
    "-----\n",
    "-----\n",
    "---kk\n",
    "0 1\n",
    "0"
   ]
  },
  {
   "cell_type": "code",
   "execution_count": 15,
   "id": "1ebdb316",
   "metadata": {
    "slideshow": {
     "slide_type": "skip"
    }
   },
   "outputs": [
    {
     "name": "stdout",
     "output_type": "stream",
     "text": [
      "Writing for_class/worlds/black-row.finish.txt\n"
     ]
    }
   ],
   "source": [
    "%%file for_class/worlds/black-row.finish.txt\n",
    "-----\n",
    "-----\n",
    "---kk\n",
    "3 1\n",
    "0"
   ]
  },
  {
   "cell_type": "code",
   "execution_count": 16,
   "id": "254888e2",
   "metadata": {
    "slideshow": {
     "slide_type": "skip"
    }
   },
   "outputs": [
    {
     "name": "stdout",
     "output_type": "stream",
     "text": [
      "Saving bit world to images/black-row.start.svg\n",
      "Saving bit world to images/black-row.finish.svg\n"
     ]
    }
   ],
   "source": [
    "Bit.load('for_class/worlds/black-row.start.txt').draw('images/black-row.start.svg', message='Start')\n",
    "Bit.load('for_class/worlds/black-row.finish.txt').draw('images/black-row.finish.svg', message='Finish')"
   ]
  },
  {
   "cell_type": "markdown",
   "id": "75043270",
   "metadata": {
    "slideshow": {
     "slide_type": "slide"
    }
   },
   "source": [
    "Besides `front_clear()`, Bit can also check `left_clear()` and `right_clear()`."
   ]
  },
  {
   "cell_type": "markdown",
   "id": "d2ed23bf",
   "metadata": {
    "slideshow": {
     "slide_type": "slide"
    }
   },
   "source": [
    "### `black_row.py`\n",
    "\n",
    "How can we move the bit to be next to the first black square?\n",
    "\n",
    "<img src=\"images/black-row.start.svg\" width=\"300px\" />\n",
    "<img src=\"images/black-row.finish.svg\" width=\"300px\" />"
   ]
  },
  {
   "cell_type": "code",
   "execution_count": 6,
   "id": "8cecbef2",
   "metadata": {
    "slideshow": {
     "slide_type": "skip"
    }
   },
   "outputs": [
    {
     "name": "stdout",
     "output_type": "stream",
     "text": [
      "Overwriting for_class/black_row.py\n"
     ]
    }
   ],
   "source": [
    "%%file for_class/black_row.py\n",
    "from byubit import Bit\n",
    "\n",
    "\n",
    "@Bit.worlds('black-row')\n",
    "def go(bit):\n",
    "    while bit.right_clear():\n",
    "        bit.move()\n",
    "\n",
    "        \n",
    "if __name__ == '__main__':\n",
    "    go(Bit.new_bit)\n"
   ]
  },
  {
   "cell_type": "markdown",
   "id": "7ce0bde5",
   "metadata": {
    "slideshow": {
     "slide_type": "slide"
    }
   },
   "source": [
    "## 🎨 `not`"
   ]
  },
  {
   "cell_type": "markdown",
   "id": "94f311c2",
   "metadata": {
    "slideshow": {
     "slide_type": "fragment"
    }
   },
   "source": [
    "You can turn a `True` to `False` and a `False` to `True` using the `not` keyword."
   ]
  },
  {
   "cell_type": "code",
   "execution_count": 18,
   "id": "d93413e0",
   "metadata": {
    "slideshow": {
     "slide_type": "skip"
    }
   },
   "outputs": [
    {
     "name": "stdout",
     "output_type": "stream",
     "text": [
      "Writing for_class/worlds/another-black-row.start.txt\n"
     ]
    }
   ],
   "source": [
    "%%file for_class/worlds/another-black-row.start.txt\n",
    "-----\n",
    "-----\n",
    "kkk--\n",
    "0 1\n",
    "0"
   ]
  },
  {
   "cell_type": "code",
   "execution_count": 19,
   "id": "0a0d2fe8",
   "metadata": {
    "slideshow": {
     "slide_type": "skip"
    }
   },
   "outputs": [
    {
     "name": "stdout",
     "output_type": "stream",
     "text": [
      "Writing for_class/worlds/another-black-row.finish.txt\n"
     ]
    }
   ],
   "source": [
    "%%file for_class/worlds/another-black-row.finish.txt\n",
    "-----\n",
    "-----\n",
    "kkk--\n",
    "3 1\n",
    "0"
   ]
  },
  {
   "cell_type": "code",
   "execution_count": 20,
   "id": "f7d09816",
   "metadata": {
    "slideshow": {
     "slide_type": "skip"
    }
   },
   "outputs": [
    {
     "name": "stdout",
     "output_type": "stream",
     "text": [
      "Saving bit world to images/another-black-row.start.svg\n",
      "Saving bit world to images/another-black-row.finish.svg\n"
     ]
    }
   ],
   "source": [
    "Bit.load('for_class/worlds/another-black-row.start.txt').draw('images/another-black-row.start.svg', message='Start')\n",
    "Bit.load('for_class/worlds/another-black-row.finish.txt').draw('images/another-black-row.finish.svg', message='Finish')"
   ]
  },
  {
   "cell_type": "markdown",
   "id": "08b7ca2a",
   "metadata": {
    "slideshow": {
     "slide_type": "slide"
    }
   },
   "source": [
    "### `another_black_row.py`\n",
    "\n",
    "Move Bit past the black squares.\n",
    "\n",
    "<img src='images/another-black-row.start.svg' width='300px' />\n",
    "<img src='images/another-black-row.finish.svg' width='300px' />"
   ]
  },
  {
   "cell_type": "markdown",
   "id": "e3bc01a2",
   "metadata": {
    "slideshow": {
     "slide_type": "notes"
    }
   },
   "source": [
    "**NOTES**\n",
    "\n",
    "Point out how `right_clear()` returns `False`, but `not` turns it into `True`."
   ]
  },
  {
   "cell_type": "code",
   "execution_count": 7,
   "id": "8b084084",
   "metadata": {
    "slideshow": {
     "slide_type": "skip"
    }
   },
   "outputs": [
    {
     "name": "stdout",
     "output_type": "stream",
     "text": [
      "Overwriting for_class/another_black_row.py\n"
     ]
    }
   ],
   "source": [
    "%%file for_class/another_black_row.py\n",
    "from byubit import Bit\n",
    "\n",
    "\n",
    "@Bit.worlds('another-black-row')\n",
    "def go(bit):\n",
    "    while not bit.right_clear():\n",
    "        bit.move()\n",
    "\n",
    "        \n",
    "if __name__ == '__main__':\n",
    "    go(Bit.new_bit)\n"
   ]
  },
  {
   "cell_type": "markdown",
   "id": "dba7bfbc",
   "metadata": {
    "slideshow": {
     "slide_type": "slide"
    }
   },
   "source": [
    "### Helpful Bit Fact #3\n",
    "\n",
    "Bit can tell you what color it is sitting on.\n",
    "\n",
    "```python\n",
    "bit.is_blue()\n",
    "bit.is_green()\n",
    "bit.is_red()\n",
    "bit.is_empty()\n",
    "```"
   ]
  },
  {
   "cell_type": "code",
   "execution_count": 22,
   "id": "095e73ec",
   "metadata": {
    "slideshow": {
     "slide_type": "skip"
    }
   },
   "outputs": [
    {
     "name": "stdout",
     "output_type": "stream",
     "text": [
      "Writing for_class/worlds/green-path.start.txt\n"
     ]
    }
   ],
   "source": [
    "%%file for_class/worlds/green-path.start.txt\n",
    "-----\n",
    "ggg--\n",
    "-----\n",
    "0 1 \n",
    "0"
   ]
  },
  {
   "cell_type": "code",
   "execution_count": 23,
   "id": "4c282873",
   "metadata": {
    "slideshow": {
     "slide_type": "skip"
    }
   },
   "outputs": [
    {
     "name": "stdout",
     "output_type": "stream",
     "text": [
      "Writing for_class/worlds/green-path.finish.txt\n"
     ]
    }
   ],
   "source": [
    "%%file for_class/worlds/green-path.finish.txt\n",
    "-----\n",
    "ggg--\n",
    "-----\n",
    "3 1 \n",
    "0"
   ]
  },
  {
   "cell_type": "code",
   "execution_count": 24,
   "id": "adcc1ca7",
   "metadata": {
    "slideshow": {
     "slide_type": "skip"
    }
   },
   "outputs": [
    {
     "name": "stdout",
     "output_type": "stream",
     "text": [
      "Saving bit world to images/green-path.start.svg\n",
      "Saving bit world to images/green-path.finish.svg\n"
     ]
    }
   ],
   "source": [
    "Bit.load('for_class/worlds/green-path.start.txt').draw('images/green-path.start.svg', message='Start')\n",
    "Bit.load('for_class/worlds/green-path.finish.txt').draw('images/green-path.finish.svg', message='Finish')"
   ]
  },
  {
   "cell_type": "markdown",
   "id": "d6577e0d",
   "metadata": {
    "slideshow": {
     "slide_type": "slide"
    }
   },
   "source": [
    "###  `green_path.py`\n",
    "\n",
    "Move Bit to the first clear square after the green squares.\n",
    "\n",
    "<img src=\"images/green-path.start.svg\" width=\"300px\" />\n",
    "<img src=\"images/green-path.finish.svg\" width=\"300px\" />\n"
   ]
  },
  {
   "cell_type": "code",
   "execution_count": 8,
   "id": "ce921d3c",
   "metadata": {
    "slideshow": {
     "slide_type": "skip"
    }
   },
   "outputs": [
    {
     "name": "stdout",
     "output_type": "stream",
     "text": [
      "Overwriting for_class/green_path.py\n"
     ]
    }
   ],
   "source": [
    "%%file for_class/green_path.py\n",
    "from byubit import Bit\n",
    "\n",
    "\n",
    "@Bit.worlds('green-path')\n",
    "def walk(bit):\n",
    "    while bit.is_green():\n",
    "        bit.move()\n",
    "\n",
    "        \n",
    "if __name__ == '__main__':\n",
    "    walk(Bit.new_bit)\n"
   ]
  },
  {
   "cell_type": "code",
   "execution_count": 26,
   "id": "c4971744",
   "metadata": {
    "slideshow": {
     "slide_type": "skip"
    }
   },
   "outputs": [
    {
     "name": "stdout",
     "output_type": "stream",
     "text": [
      "Writing for_class/worlds/blue-dot.start.txt\n"
     ]
    }
   ],
   "source": [
    "%%file for_class/worlds/blue-dot.start.txt\n",
    "-----\n",
    "---b-\n",
    "-----\n",
    "0 1\n",
    "0"
   ]
  },
  {
   "cell_type": "code",
   "execution_count": 27,
   "id": "40d844d7",
   "metadata": {
    "slideshow": {
     "slide_type": "skip"
    }
   },
   "outputs": [
    {
     "name": "stdout",
     "output_type": "stream",
     "text": [
      "Writing for_class/worlds/blue-dot.finish.txt\n"
     ]
    }
   ],
   "source": [
    "%%file for_class/worlds/blue-dot.finish.txt\n",
    "-----\n",
    "---b-\n",
    "-----\n",
    "3 1\n",
    "0"
   ]
  },
  {
   "cell_type": "code",
   "execution_count": 2,
   "id": "c41e41ee",
   "metadata": {
    "slideshow": {
     "slide_type": "skip"
    }
   },
   "outputs": [
    {
     "name": "stdout",
     "output_type": "stream",
     "text": [
      "Saving bit world to images/blue-dot.start.svg\n",
      "Saving bit world to images/blue-dot.finish.svg\n"
     ]
    }
   ],
   "source": [
    "from byubit import Bit\n",
    "Bit.load('for_class/worlds/blue-dot.start.txt').draw('images/blue-dot.start.svg', message='Start')\n",
    "Bit.load('for_class/worlds/blue-dot.finish.txt').draw('images/blue-dot.finish.svg', message='Finish')"
   ]
  },
  {
   "cell_type": "markdown",
   "id": "c63154ea",
   "metadata": {
    "slideshow": {
     "slide_type": "slide"
    }
   },
   "source": [
    "Move Bit to the blue square.\n",
    "\n",
    "<img src=\"images/blue-dot.start.svg\" width=\"300px\" />\n",
    "<img src=\"images/blue-dot.finish.svg\" width=\"300px\" />\n",
    "\n",
    "### `blue_dot.py`"
   ]
  },
  {
   "cell_type": "code",
   "execution_count": 9,
   "id": "e81fe682",
   "metadata": {
    "slideshow": {
     "slide_type": "skip"
    }
   },
   "outputs": [
    {
     "name": "stdout",
     "output_type": "stream",
     "text": [
      "Overwriting for_class/blue_dot.py\n"
     ]
    }
   ],
   "source": [
    "%%file for_class/blue_dot.py\n",
    "from byubit import Bit\n",
    "\n",
    "\n",
    "@Bit.worlds('blue-dot')\n",
    "def go_to_blue(bit):\n",
    "    while not bit.is_blue():\n",
    "        bit.move()\n",
    "\n",
    "        \n",
    "if __name__ == '__main__':\n",
    "    go_to_blue(Bit.new_bit)\n",
    "    "
   ]
  },
  {
   "cell_type": "markdown",
   "id": "84c54f79",
   "metadata": {
    "slideshow": {
     "slide_type": "slide"
    }
   },
   "source": [
    "## 🖌 `while True`"
   ]
  },
  {
   "cell_type": "markdown",
   "id": "c23e17ea",
   "metadata": {
    "slideshow": {
     "slide_type": "fragment"
    }
   },
   "source": [
    "What happens when the condition of a `while` loop is always `True`?"
   ]
  },
  {
   "cell_type": "markdown",
   "id": "9575976a",
   "metadata": {
    "slideshow": {
     "slide_type": "fragment"
    }
   },
   "source": [
    "<div class='big centered'> 🤔 </div>"
   ]
  },
  {
   "cell_type": "markdown",
   "id": "5a2685f9",
   "metadata": {
    "slideshow": {
     "slide_type": "slide"
    }
   },
   "source": [
    "### `infinite_loop.py`"
   ]
  },
  {
   "cell_type": "markdown",
   "id": "07c2ec7a",
   "metadata": {
    "slideshow": {
     "slide_type": "notes"
    }
   },
   "source": [
    "**NOTES**\n",
    "\n",
    "Bit has an \"infinite loop detection\" feature, so if you make a mistake and create an infinite loop, it won't be too much of a hassle.\n",
    "\n",
    "Getting stuck in an infinite loop is not problem (your computer will not explode), only an inconvenience. Even experienced programmers still run into them from time to time.\n",
    "\n",
    "Also, not all infinite loops are mistakes. Sometimes you actually do want a loop to run forever (or close to it)."
   ]
  },
  {
   "cell_type": "code",
   "execution_count": 10,
   "id": "abb1e4d8",
   "metadata": {
    "slideshow": {
     "slide_type": "skip"
    }
   },
   "outputs": [
    {
     "name": "stdout",
     "output_type": "stream",
     "text": [
      "Overwriting for_class/infinite_loop.py\n"
     ]
    }
   ],
   "source": [
    "%%file for_class/infinite_loop.py \n",
    "from byubit import Bit\n",
    "\n",
    "\n",
    "@Bit.empty_world(3, 3)\n",
    "def run(bit):\n",
    "    while bit.front_clear():\n",
    "        bit.move()\n",
    "        bit.paint('blue')\n",
    "        bit.move()\n",
    "        bit.paint('blue')\n",
    "        bit.left()\n",
    "\n",
    "        \n",
    "if __name__ == '__main__':\n",
    "    run(Bit.new_bit)\n"
   ]
  },
  {
   "cell_type": "markdown",
   "id": "4c8a32f9",
   "metadata": {
    "slideshow": {
     "slide_type": "slide"
    }
   },
   "source": [
    "Now that you have these colors and tools at your command, let's paint something.\n",
    "\n",
    "<div style='font-size: 100px'> 👩🏾‍🎨 👨🏼‍🎨 </div>"
   ]
  },
  {
   "cell_type": "markdown",
   "id": "893c9ae4",
   "metadata": {
    "slideshow": {
     "slide_type": "slide"
    }
   },
   "source": [
    "## 👨🏼‍🎨 Fix the Tree"
   ]
  },
  {
   "cell_type": "code",
   "execution_count": 5,
   "id": "0fe23ad7",
   "metadata": {
    "slideshow": {
     "slide_type": "skip"
    }
   },
   "outputs": [
    {
     "name": "stdout",
     "output_type": "stream",
     "text": [
      "Writing for_class/worlds/fix-another-tree.start.txt\n"
     ]
    }
   ],
   "source": [
    "%%file for_class/worlds/fix-another-tree.start.txt\n",
    "----------\n",
    "--ggggg---\n",
    "-ggggggg--\n",
    "gg-----gg-\n",
    "----------\n",
    "----------\n",
    "----r-----\n",
    "kkkkkkkkkk\n",
    "0 1\n",
    "0"
   ]
  },
  {
   "cell_type": "code",
   "execution_count": 6,
   "id": "778b0f8c",
   "metadata": {
    "slideshow": {
     "slide_type": "skip"
    }
   },
   "outputs": [
    {
     "name": "stdout",
     "output_type": "stream",
     "text": [
      "Writing for_class/worlds/fix-another-tree.finish.txt\n"
     ]
    }
   ],
   "source": [
    "%%file for_class/worlds/fix-another-tree.finish.txt\n",
    "----------\n",
    "--ggggg---\n",
    "-ggggggg--\n",
    "gg--r--gg-\n",
    "----r-----\n",
    "----r-----\n",
    "----r-----\n",
    "kkkkkkkkkk\n",
    "4 5\n",
    "1"
   ]
  },
  {
   "cell_type": "code",
   "execution_count": 7,
   "id": "1f9860db",
   "metadata": {
    "slideshow": {
     "slide_type": "skip"
    }
   },
   "outputs": [
    {
     "name": "stdout",
     "output_type": "stream",
     "text": [
      "Writing for_class/worlds/fix-tree.start.txt\n"
     ]
    }
   ],
   "source": [
    "%%file for_class/worlds/fix-tree.start.txt\n",
    "-------------\n",
    "-ggggggggggg-\n",
    "---ggggggg---\n",
    "-------------\n",
    "-------------\n",
    "-------------\n",
    "-------------\n",
    "-------------\n",
    "------r------\n",
    "kkkkkkkkkkkkk\n",
    "0 1\n",
    "0"
   ]
  },
  {
   "cell_type": "code",
   "execution_count": 8,
   "id": "0ac48990",
   "metadata": {
    "slideshow": {
     "slide_type": "skip"
    }
   },
   "outputs": [
    {
     "name": "stdout",
     "output_type": "stream",
     "text": [
      "Writing for_class/worlds/fix-tree.finish.txt\n"
     ]
    }
   ],
   "source": [
    "%%file for_class/worlds/fix-tree.finish.txt\n",
    "-------------\n",
    "-ggggggggggg-\n",
    "---ggggggg---\n",
    "------r------\n",
    "------r------\n",
    "------r------\n",
    "------r------\n",
    "------r------\n",
    "------r------\n",
    "kkkkkkkkkkkkk\n",
    "6 7\n",
    "1"
   ]
  },
  {
   "cell_type": "code",
   "execution_count": 9,
   "id": "dab17e81",
   "metadata": {
    "slideshow": {
     "slide_type": "skip"
    }
   },
   "outputs": [
    {
     "name": "stdout",
     "output_type": "stream",
     "text": [
      "Saving bit world to images/fix-tree.start.svg\n",
      "Saving bit world to images/fix-tree.finish.svg\n"
     ]
    }
   ],
   "source": [
    "from byubit import Bit\n",
    "Bit.load('for_class/worlds/fix-tree.start.txt').draw('images/fix-tree.start.svg', message='Broken Tree')\n",
    "Bit.load('for_class/worlds/fix-tree.finish.txt').draw('images/fix-tree.finish.svg', message='Happy Tree')"
   ]
  },
  {
   "cell_type": "markdown",
   "id": "5d093672",
   "metadata": {
    "cell_style": "split",
    "slideshow": {
     "slide_type": "slide"
    }
   },
   "source": [
    "### `fix_tree.py`\n",
    "\n",
    "Bit has a nice tree in his yard, but it is missing its trunk!\n",
    "\n",
    "Help Bit fix the tree by adding the trunk.\n",
    "\n",
    "<div style='width: 600px' />\n",
    "<div style='float:left'><img src='images/fix-tree.start.svg' width='300px'/></div>\n",
    "<div style='float:right'><img src='images/fix-tree.finish.svg' width='300px'/></div>\n",
    "</div>"
   ]
  },
  {
   "cell_type": "markdown",
   "id": "1e665636",
   "metadata": {
    "cell_style": "split",
    "slideshow": {
     "slide_type": "fragment"
    }
   },
   "source": [
    "### When solving complex problems:\n",
    "\n",
    "- Break the problem into smaller pieces\n",
    "  - What is the first goal? What is the second goal?\n",
    "  - Solve the first piece before you start the second piece. Make sure the first piece is working correctly.\n",
    "  - Do **NOT** try to solve the whole problem all at the same time.\n",
    "- Don't try to do it all in your head!\n",
    "  - **DRAW PICTURES**"
   ]
  },
  {
   "cell_type": "markdown",
   "id": "3f6a6472",
   "metadata": {
    "slideshow": {
     "slide_type": "notes"
    }
   },
   "source": [
    "**NOTES**\n",
    "\n",
    "Make sure to draw this out. Demonstrate how the students can use drawing to grasp the nature of the problem and design a strategy.\n",
    "\n",
    "Demonstrate how drawing can be used to clarify boundary conditions.\n",
    "\n",
    "Give the students time to discuss together (in pairs) how they would break the problem up. \n",
    "\n",
    "Demonstrate the process of going from abstract stages to concrete, technical requirements. For example, getting to the red square is an abstract stage. Deciding that you need a `while` loop with an looping condition of `not bit.is_red()` and a body with `bit.move()` but no painting are the technical requirements. \n",
    "\n",
    "Where will the state be after the first stage completes? Where will Bit be? What direction will he be facing?"
   ]
  },
  {
   "cell_type": "markdown",
   "id": "63b915ed",
   "metadata": {
    "slideshow": {
     "slide_type": "slide"
    }
   },
   "source": [
    "### Goal #0\n",
    "\n",
    "Setup the file.\n",
    "\n",
    "Map out the general strategy. Use code comments to capture your thoughts.\n",
    "\n",
    "#### `fix_tree.py`"
   ]
  },
  {
   "cell_type": "code",
   "execution_count": 11,
   "id": "7dc4daa5",
   "metadata": {
    "slideshow": {
     "slide_type": "skip"
    }
   },
   "outputs": [
    {
     "name": "stdout",
     "output_type": "stream",
     "text": [
      "Overwriting for_class/fix_tree.py\n"
     ]
    }
   ],
   "source": [
    "%%file for_class/fix_tree.py\n",
    "from byubit import Bit\n",
    "\n",
    "\n",
    "@Bit.worlds('fix-tree', 'fix-another-tree')\n",
    "def fix_the_tree(bit):\n",
    "    # Implement\n",
    "    pass\n",
    "\n",
    "\n",
    "if __name__ == '__main__':\n",
    "    fix_the_tree(Bit.new_bit)\n",
    "    "
   ]
  },
  {
   "cell_type": "markdown",
   "id": "2fd953f6",
   "metadata": {
    "slideshow": {
     "slide_type": "slide"
    }
   },
   "source": [
    "### Goal #1\n",
    "\n",
    "Get Bit to the red square"
   ]
  },
  {
   "cell_type": "markdown",
   "id": "554ef5aa",
   "metadata": {
    "slideshow": {
     "slide_type": "notes"
    }
   },
   "source": [
    "**NOTES**\n",
    "\n",
    "Write functions for the high-level goals: get to trunk, fix the trunk\n",
    "\n",
    "What is the condition? `bit.is_red()`? `bit.is_empty()`? `not bit.is_red()`?\n",
    "\n",
    "What if there were little green bushes in the way? Would `bit.is_empty()` still work? \n",
    "\n",
    "What if the base of the tree were blue? Would `not bit.is_red()` still work?\n",
    "\n",
    "There are many ways to solve a problem. If the nature of the problem changes, even a little, you will likely need to adapt your code (e.g. change `bit.is_empty()` to `not bit.is_red()`). This is a natural, essential part of the programming experience."
   ]
  },
  {
   "cell_type": "markdown",
   "id": "3e417e25",
   "metadata": {
    "slideshow": {
     "slide_type": "slide"
    }
   },
   "source": [
    "### Goal #2\n",
    "\n",
    "Fill in the trunk"
   ]
  },
  {
   "cell_type": "markdown",
   "id": "6d8fcf98",
   "metadata": {
    "slideshow": {
     "slide_type": "notes"
    }
   },
   "source": [
    "**NOTES**\n",
    "\n",
    "What is the loop condition? \n",
    "\n",
    "Try first:\n",
    "```python\n",
    "bit.move()\n",
    "bit.paint('red')\n",
    "```\n",
    "\n",
    "Use the stepper to back off the error and observe where the problem occurred.\n",
    "\n",
    "Observe how the `paint('red')` clobbers the square and colludes with the loop condition.\n",
    "\n",
    "Note how the loop body and condition interact. Planning out and thinking through this interaction is important.\n",
    "\n",
    "With move-then-paint, do you move first to get off the original red square, or do you simply repaint it?\n",
    "\n",
    "Sometimes it is more convenient to repaint a square or two. That's fine. But avoid recless repainting (i.e. inserting paint statements all over your code) as a workaround to poorly-understood boundary conditions. \n",
    "\n",
    "Use the snapshot feature to show how the students can coordinate stages of their solution with positions in their code.\n",
    "\n",
    "Finally, show how the code works on both problems (switch between the two tabs). "
   ]
  },
  {
   "cell_type": "code",
   "execution_count": 1,
   "id": "202b4a63",
   "metadata": {
    "slideshow": {
     "slide_type": "skip"
    }
   },
   "outputs": [
    {
     "name": "stdout",
     "output_type": "stream",
     "text": [
      "Overwriting for_class/fix_tree_complete.py\n"
     ]
    }
   ],
   "source": [
    "%%file for_class/fix_tree_complete.py\n",
    "from byubit import Bit\n",
    "\n",
    "\n",
    "def go_to_red(bit):\n",
    "    while not bit.is_red():\n",
    "        bit.move()\n",
    "    \n",
    "    \n",
    "def paint_to_green(bit):\n",
    "    # What happens when you do move-then-paint?\n",
    "    while not bit.is_green():\n",
    "        bit.paint('red')\n",
    "        bit.move()\n",
    "    \n",
    "    \n",
    "@Bit.worlds('fix-tree', 'fix-another-tree')\n",
    "def fix_the_tree(bit):\n",
    "    # Move Bit to the red square\n",
    "    go_to_red(bit)\n",
    "    bit.snapshot('Reached the trunk')\n",
    "    \n",
    "    # Fill in the trunk\n",
    "    bit.left()\n",
    "    paint_to_green(bit)\n",
    "    \n",
    "\n",
    "if __name__ == '__main__':\n",
    "    fix_the_tree(Bit.new_bit)\n"
   ]
  },
  {
   "cell_type": "markdown",
   "id": "7ad5ec5b",
   "metadata": {
    "slideshow": {
     "slide_type": "slide"
    }
   },
   "source": [
    "## 🧑🏼‍🎨 Blue Ocean"
   ]
  },
  {
   "cell_type": "markdown",
   "id": "ff7ff67a",
   "metadata": {
    "slideshow": {
     "slide_type": "slide"
    }
   },
   "source": [
    "### `blue_ocean.py`\n",
    "\n",
    "Fill the world with blue.\n",
    "\n",
    "<div style='width: 510px'>\n",
    "    <div style='float:left'><img src='images/Blue Ocean.start.svg' width='250px'/></div>\n",
    "    <div style='float:right'><img src='images/Blue Ocean.finish.svg' width='250px'/></div>\n",
    "</div>"
   ]
  },
  {
   "cell_type": "markdown",
   "id": "2a17ffa6",
   "metadata": {
    "slideshow": {
     "slide_type": "fragment"
    }
   },
   "source": [
    "Bit gives us `move`, `paint`, etc.\n",
    "\n",
    "What new verbs would make this job even easier?"
   ]
  },
  {
   "cell_type": "code",
   "execution_count": 3,
   "id": "5da5ae2b",
   "metadata": {
    "slideshow": {
     "slide_type": "skip"
    }
   },
   "outputs": [
    {
     "name": "stdout",
     "output_type": "stream",
     "text": [
      "Writing for_class/blue_ocean.py\n"
     ]
    }
   ],
   "source": [
    "%%file for_class/blue_ocean.py\n",
    "from byubit import Bit\n",
    "\n",
    "\n",
    "@Bit.empty_world(6, 6)\n",
    "def run(bit):\n",
    "    # Implement \n",
    "    pass\n",
    "\n",
    "\n",
    "if __name__ == '__main__':\n",
    "    run(Bit.new_bit)\n"
   ]
  },
  {
   "cell_type": "code",
   "execution_count": 1,
   "id": "54f00afb",
   "metadata": {
    "slideshow": {
     "slide_type": "skip"
    }
   },
   "outputs": [
    {
     "name": "stdout",
     "output_type": "stream",
     "text": [
      "Writing blue_ocean_solution.py\n"
     ]
    }
   ],
   "source": [
    "%%file blue_ocean_solution.py\n",
    "# Solution\n",
    "from byubit import Bit, use_text_renderer\n",
    "use_text_renderer()\n",
    "\n",
    "\n",
    "def go(bit):\n",
    "    while bit.front_clear():\n",
    "        bit.move()\n",
    "\n",
    "        \n",
    "def go_blue(bit):\n",
    "    bit.paint('blue')\n",
    "    while bit.front_clear():\n",
    "        bit.move()\n",
    "        bit.paint('blue')\n",
    "        \n",
    "        \n",
    "def turn_around(bit):\n",
    "    bit.left()\n",
    "    bit.left()\n",
    "    \n",
    "    \n",
    "def fill_column_with_blue(bit):\n",
    "    \"\"\"\n",
    "    Bit starts facing up\n",
    "    Bit turns right and fills the row with blue\n",
    "    Bit returns to the left and turns to face up\n",
    "    \"\"\"\n",
    "    bit.left()\n",
    "    go_blue(bit)\n",
    "    turn_around(bit)\n",
    "    go(bit)\n",
    "    bit.left()\n",
    "    \n",
    "\n",
    "@Bit.empty_world(6, 6, name='Blue Ocean')\n",
    "@Bit.pictures('images/', ext='svg', title='Blue Ocean')\n",
    "def run(bit):\n",
    "\n",
    "    fill_column_with_blue(bit)\n",
    "    while bit.front_clear():\n",
    "        bit.move()\n",
    "        fill_column_with_blue(bit)\n",
    "        \n",
    "    turn_around(bit)\n",
    "    go(bit)\n",
    "    turn_around(bit)\n",
    "    \n",
    "\n",
    "if __name__ == '__main__':\n",
    "    run(Bit.new_bit)\n"
   ]
  },
  {
   "cell_type": "code",
   "execution_count": 2,
   "id": "65a11e1a",
   "metadata": {
    "slideshow": {
     "slide_type": "skip"
    }
   },
   "outputs": [
    {
     "name": "stdout",
     "output_type": "stream",
     "text": [
      "Saving bit world to images/Blue Ocean.start.svg\n",
      "Saving bit world to images/Blue Ocean.finish.svg\n"
     ]
    }
   ],
   "source": [
    "%%bash\n",
    "python blue_ocean_solution.py \\\n",
    "&& cat blue_ocean_solution.py \\\n",
    "| grep -v '@Bit.pi' \\\n",
    "| sed -e 's#for_class/worlds/##g' \\\n",
    "| sed -e 's/, use_text_renderer//' \\\n",
    "| sed -e 's/use_text_renderer()//' \\\n",
    "> for_class/blue_ocean_solution.py"
   ]
  },
  {
   "cell_type": "markdown",
   "id": "761a1025",
   "metadata": {
    "slideshow": {
     "slide_type": "notes"
    }
   },
   "source": [
    "**NOTES**\n",
    "\n",
    "We've done problems like this before (nested while, etc.), but this is the first time we are using functions to define the pieces. The emphasis of this exercise is on the decomposition and abstraction of the parts, and then putting those parts together.\n",
    "\n",
    "Several strategies to consider:\n",
    "- Row-by-row, zig-zag\n",
    "- Row-by-row, down-and-back\n",
    "- Column-by-column\n",
    "- Spiral\n",
    "\n",
    "Which seems easiest? Why?\n",
    "\n",
    "- Computers (and humans!) don't do well will uncertainty. We like strategies with 0% uncertainty.\n",
    "- When we loop through a block of code, we want to know exactly where Bit will be before and after each iteration.\n",
    "- When we call a function, we want to know exactly where Bit will be before and after the function call.\n",
    "\n",
    "**Activity**\n",
    "\n",
    "- implement `go` using `fill_row_with_blue(bit)` (even though it isn't defined yet)\n",
    "- Then define and implement `fill_row_with_blue`\n",
    "\n",
    "- What are the boundary conditions of `fill_row_with_blue`?\n",
    "  - Where does bit start?\n",
    "  - Where does bit end?\n",
    "  - Notice how the prep (turn up) and the down-and-back make the problem easier"
   ]
  },
  {
   "cell_type": "markdown",
   "id": "f33b244f",
   "metadata": {
    "slideshow": {
     "slide_type": "slide"
    }
   },
   "source": [
    "### Remember\n",
    "\n",
    "- Choose strategies that **minimize uncertainty**\n",
    "- Pick concise but accurate and helpful names for your functions\n",
    "- Document the purpose and boundary conditions of the function\n",
    "  - What does the function accomplish?\n",
    "  - Where does Bit start? What direction is he facing?\n",
    "  - Where does Bit end? What direction is he facing?\n"
   ]
  },
  {
   "cell_type": "markdown",
   "id": "711961e0",
   "metadata": {
    "slideshow": {
     "slide_type": "slide"
    }
   },
   "source": [
    "## Key ideas\n",
    "\n",
    "- Identifying technical requirements by comparing inputs to a problem\n",
    "- Practice decomposing complex problems\n"
   ]
  },
  {
   "cell_type": "markdown",
   "id": "cfa688b4",
   "metadata": {
    "slideshow": {
     "slide_type": "slide"
    }
   },
   "source": [
    "## Key Ideas\n",
    "\n",
    "- `while`\n",
    "- `not`\n",
    "- Boundary conditions\n",
    "- Infinite loops\n",
    "\n",
    "**New Bit methods**\n",
    "```python\n",
    "bit.front_clear()\n",
    "bit.left_clear()\n",
    "bit.right_clear()\n",
    "bit.is_blue()\n",
    "bit.is_green()\n",
    "bit.is_red()\n",
    "bit.is_empty()\n",
    "```"
   ]
  }
 ],
 "metadata": {
  "celltoolbar": "Slideshow",
  "kernelspec": {
   "display_name": "Python 3 (ipykernel)",
   "language": "python",
   "name": "python3"
  },
  "language_info": {
   "codemirror_mode": {
    "name": "ipython",
    "version": 3
   },
   "file_extension": ".py",
   "mimetype": "text/x-python",
   "name": "python",
   "nbconvert_exporter": "python",
   "pygments_lexer": "ipython3",
   "version": "3.11.5"
  },
  "toc": {
   "base_numbering": 1,
   "nav_menu": {},
   "number_sections": false,
   "sideBar": true,
   "skip_h1_title": true,
   "title_cell": "Table of Contents",
   "title_sidebar": "Contents",
   "toc_cell": false,
   "toc_position": {},
   "toc_section_display": true,
   "toc_window_display": false
  }
 },
 "nbformat": 4,
 "nbformat_minor": 5
}
