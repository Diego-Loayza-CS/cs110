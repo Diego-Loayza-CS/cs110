{
 "cells": [
  {
   "cell_type": "markdown",
   "id": "ed3b9ce2",
   "metadata": {
    "slideshow": {
     "slide_type": "slide"
    }
   },
   "source": [
    "# `if` and `else`"
   ]
  },
  {
   "cell_type": "code",
   "execution_count": 1,
   "id": "293416bb",
   "metadata": {
    "slideshow": {
     "slide_type": "skip"
    }
   },
   "outputs": [],
   "source": [
    "! mkdir -p images for_class/worlds"
   ]
  },
  {
   "cell_type": "markdown",
   "id": "f844c743",
   "metadata": {
    "slideshow": {
     "slide_type": "notes"
    }
   },
   "source": [
    "**NOTES**\n",
    "\n",
    "Today we're going to look at some more of the fundamental tools in programming."
   ]
  },
  {
   "cell_type": "markdown",
   "id": "6c028215",
   "metadata": {
    "slideshow": {
     "slide_type": "slide"
    }
   },
   "source": [
    "## 🎨 `if`"
   ]
  },
  {
   "cell_type": "code",
   "execution_count": 2,
   "id": "775c4822",
   "metadata": {
    "slideshow": {
     "slide_type": "skip"
    }
   },
   "outputs": [
    {
     "name": "stdout",
     "output_type": "stream",
     "text": [
      "Writing for_class/worlds/red-dots.start.txt\n"
     ]
    }
   ],
   "source": [
    "%%file for_class/worlds/red-dots.start.txt\n",
    "-------\n",
    "-r-r-r-\n",
    "-------\n",
    "0 1\n",
    "0"
   ]
  },
  {
   "cell_type": "code",
   "execution_count": 3,
   "id": "bcf8238f",
   "metadata": {
    "slideshow": {
     "slide_type": "skip"
    }
   },
   "outputs": [
    {
     "name": "stdout",
     "output_type": "stream",
     "text": [
      "Writing for_class/worlds/red-dots.finish.txt\n"
     ]
    }
   ],
   "source": [
    "%%file for_class/worlds/red-dots.finish.txt\n",
    "-------\n",
    "-b-b-b-\n",
    "-------\n",
    "6 1\n",
    "0"
   ]
  },
  {
   "cell_type": "code",
   "execution_count": 4,
   "id": "2ca56511",
   "metadata": {
    "slideshow": {
     "slide_type": "skip"
    }
   },
   "outputs": [
    {
     "name": "stdout",
     "output_type": "stream",
     "text": [
      "Saving bit world to images/red-dots.start.svg\n",
      "Saving bit world to images/red-dots.finish.svg\n"
     ]
    }
   ],
   "source": [
    "from byubit import Bit\n",
    "Bit.load('for_class/worlds/red-dots.start.txt').draw('images/red-dots.start.svg', message='Red')\n",
    "Bit.load('for_class/worlds/red-dots.finish.txt').draw('images/red-dots.finish.svg', message='Blue')"
   ]
  },
  {
   "cell_type": "markdown",
   "id": "b0153009",
   "metadata": {
    "slideshow": {
     "slide_type": "slide"
    }
   },
   "source": [
    "### `red_dots.py`\n",
    "\n",
    "Turn the red dots into blue dots.\n",
    "\n",
    "<img src='images/red-dots.start.svg'>\n",
    "<img src='images/red-dots.finish.svg'>"
   ]
  },
  {
   "cell_type": "markdown",
   "id": "7dae8329",
   "metadata": {
    "slideshow": {
     "slide_type": "notes"
    }
   },
   "source": [
    "**NOTES**\n",
    "\n",
    "- Step through `red_dots.py`\n",
    "- Look at control flow\n",
    "  - When does the if block run? When is it skipped?\n",
    "  \n",
    "- Comment on *event stream pattern*: the outer loop moves Bit along towards a goal, while the `if` handles events that come up along the way."
   ]
  },
  {
   "cell_type": "code",
   "execution_count": 9,
   "id": "02ed00d3",
   "metadata": {
    "slideshow": {
     "slide_type": "skip"
    }
   },
   "outputs": [
    {
     "name": "stdout",
     "output_type": "stream",
     "text": [
      "Overwriting for_class/red_dots.py\n"
     ]
    }
   ],
   "source": [
    "%%file for_class/red_dots.py\n",
    "from byubit import Bit\n",
    "\n",
    "\n",
    "def process_square(bit):\n",
    "    if bit.is_red():\n",
    "        bit.paint('blue')\n",
    "\n",
    "        \n",
    "@Bit.worlds('red-dots')\n",
    "def go(bit):\n",
    "    while bit.front_clear():\n",
    "        bit.move()\n",
    "        process_square(bit)\n",
    "    \n",
    "    \n",
    "if __name__ == '__main__':\n",
    "    go(Bit.new_bit)\n"
   ]
  },
  {
   "cell_type": "code",
   "execution_count": 52,
   "id": "cdba6254",
   "metadata": {
    "slideshow": {
     "slide_type": "skip"
    }
   },
   "outputs": [],
   "source": [
    "! cd for_class && python red_dots.py && cd .."
   ]
  },
  {
   "cell_type": "markdown",
   "id": "59edb302",
   "metadata": {
    "slideshow": {
     "slide_type": "slide"
    }
   },
   "source": [
    "## 🎨 `else`"
   ]
  },
  {
   "cell_type": "code",
   "execution_count": 11,
   "id": "22a3ffec",
   "metadata": {
    "slideshow": {
     "slide_type": "skip"
    }
   },
   "outputs": [
    {
     "name": "stdout",
     "output_type": "stream",
     "text": [
      "Writing for_class/worlds/more-red-dots.start.txt\n"
     ]
    }
   ],
   "source": [
    "%%file for_class/worlds/more-red-dots.start.txt\n",
    "-------\n",
    "gr-r-r-\n",
    "-------\n",
    "0 1\n",
    "0"
   ]
  },
  {
   "cell_type": "code",
   "execution_count": 12,
   "id": "edd248cb",
   "metadata": {
    "slideshow": {
     "slide_type": "skip"
    }
   },
   "outputs": [
    {
     "name": "stdout",
     "output_type": "stream",
     "text": [
      "Writing for_class/worlds/more-red-dots.finish.txt\n"
     ]
    }
   ],
   "source": [
    "%%file for_class/worlds/more-red-dots.finish.txt\n",
    "-------\n",
    "gbgbgbg\n",
    "-------\n",
    "6 1\n",
    "0"
   ]
  },
  {
   "cell_type": "code",
   "execution_count": 13,
   "id": "74fb86f0",
   "metadata": {
    "slideshow": {
     "slide_type": "skip"
    }
   },
   "outputs": [
    {
     "name": "stdout",
     "output_type": "stream",
     "text": [
      "Saving bit world to images/more-red-dots.start.svg\n",
      "Saving bit world to images/more-red-dots.finish.svg\n"
     ]
    }
   ],
   "source": [
    "from byubit import Bit\n",
    "Bit.load('for_class/worlds/more-red-dots.start.txt').draw('images/more-red-dots.start.svg', message='Before')\n",
    "Bit.load('for_class/worlds/more-red-dots.finish.txt').draw('images/more-red-dots.finish.svg', message='After')"
   ]
  },
  {
   "cell_type": "markdown",
   "id": "3ce9c173",
   "metadata": {
    "slideshow": {
     "slide_type": "slide"
    }
   },
   "source": [
    "### `more_red_dots.py`\n",
    "\n",
    "Turn the red into blue and the empty spaces into green.\n",
    "\n",
    "<img src='images/more-red-dots.start.svg'>\n",
    "<img src='images/more-red-dots.finish.svg'>"
   ]
  },
  {
   "cell_type": "markdown",
   "id": "379695d6",
   "metadata": {
    "slideshow": {
     "slide_type": "notes"
    }
   },
   "source": [
    "**NOTES**\n",
    "\n",
    "- Step through \n",
    "- When is the `if` block run? When is the `else` block run?\n",
    "- Note the exclusivity of the two blocks"
   ]
  },
  {
   "cell_type": "code",
   "execution_count": 8,
   "id": "cef9dcf9",
   "metadata": {
    "slideshow": {
     "slide_type": "skip"
    }
   },
   "outputs": [
    {
     "name": "stdout",
     "output_type": "stream",
     "text": [
      "Overwriting for_class/more_red_dots.py\n"
     ]
    }
   ],
   "source": [
    "%%file for_class/more_red_dots.py\n",
    "from byubit import Bit\n",
    "\n",
    "\n",
    "def process_square(bit):\n",
    "    if bit.is_red():\n",
    "        bit.paint('blue')\n",
    "    else:\n",
    "        bit.paint('green')\n",
    "        \n",
    "        \n",
    "@Bit.worlds('more-red-dots')\n",
    "def go(bit):\n",
    "    while bit.front_clear():\n",
    "        bit.move()\n",
    "        process_square(bit)\n",
    "        \n",
    "        \n",
    "if __name__ == '__main__':\n",
    "    go(Bit.new_bit)\n"
   ]
  },
  {
   "cell_type": "code",
   "execution_count": 54,
   "id": "5406ba45",
   "metadata": {
    "slideshow": {
     "slide_type": "skip"
    }
   },
   "outputs": [],
   "source": [
    "! cd for_class && python more_red_dots.py && cd .."
   ]
  },
  {
   "cell_type": "markdown",
   "id": "dce3c4fb",
   "metadata": {
    "slideshow": {
     "slide_type": "slide"
    }
   },
   "source": [
    "## 🎨 `elif`"
   ]
  },
  {
   "cell_type": "code",
   "execution_count": 16,
   "id": "ba83c3dd",
   "metadata": {
    "slideshow": {
     "slide_type": "skip"
    }
   },
   "outputs": [
    {
     "name": "stdout",
     "output_type": "stream",
     "text": [
      "Writing for_class/worlds/turns.start.txt\n"
     ]
    }
   ],
   "source": [
    "%%file for_class/worlds/turns.start.txt\n",
    "---g-\n",
    "-----\n",
    "-g-r-\n",
    "-----\n",
    "-r---\n",
    "0 0\n",
    "0"
   ]
  },
  {
   "cell_type": "code",
   "execution_count": 17,
   "id": "277c11a9",
   "metadata": {
    "slideshow": {
     "slide_type": "skip"
    }
   },
   "outputs": [
    {
     "name": "stdout",
     "output_type": "stream",
     "text": [
      "Writing for_class/worlds/turns.finish.txt\n"
     ]
    }
   ],
   "source": [
    "%%file for_class/worlds/turns.finish.txt\n",
    "---gb\n",
    "---b-\n",
    "-gbr-\n",
    "-b---\n",
    "br---\n",
    "4 4\n",
    "0"
   ]
  },
  {
   "cell_type": "code",
   "execution_count": 18,
   "id": "bfecbe13",
   "metadata": {
    "slideshow": {
     "slide_type": "skip"
    }
   },
   "outputs": [
    {
     "name": "stdout",
     "output_type": "stream",
     "text": [
      "Saving bit world to images/turns.start.svg\n",
      "Saving bit world to images/turns.finish.svg\n"
     ]
    }
   ],
   "source": [
    "from byubit import Bit\n",
    "Bit.load('for_class/worlds/turns.start.txt').draw('images/turns.start.svg', message='Before')\n",
    "Bit.load('for_class/worlds/turns.finish.txt').draw('images/turns.finish.svg', message='After')"
   ]
  },
  {
   "cell_type": "markdown",
   "id": "3cc6fb0e",
   "metadata": {
    "slideshow": {
     "slide_type": "slide"
    }
   },
   "source": [
    "### `turns.py`\n",
    "\n",
    "- While Bit is not blocked, move forward\n",
    "- If the square is red, turn left\n",
    "- If the square is green, turn right\n",
    "- Otherwise, paint the square blue\n",
    "\n",
    "<div style='width: 650px'>\n",
    "    <div style='float: left'><img src='images/turns.start.svg' width='300px' /></div>\n",
    "    <div style='float: right'><img src='images/turns.finish.svg' width='300px' /></div>\n",
    "</div>"
   ]
  },
  {
   "cell_type": "markdown",
   "id": "24bf1562",
   "metadata": {
    "slideshow": {
     "slide_type": "notes"
    }
   },
   "source": [
    "**NOTES**\n",
    "\n",
    "- Step through\n",
    "- Show that `elif` block checks conditions\n",
    "- Show that `else` block doesn't check a condition\n",
    "- All blocks are exclusive"
   ]
  },
  {
   "cell_type": "code",
   "execution_count": 2,
   "id": "15388b13",
   "metadata": {
    "slideshow": {
     "slide_type": "skip"
    }
   },
   "outputs": [
    {
     "name": "stdout",
     "output_type": "stream",
     "text": [
      "Overwriting for_class/turns.py\n"
     ]
    }
   ],
   "source": [
    "%%file for_class/turns.py\n",
    "from byubit import Bit\n",
    "\n",
    "\n",
    "def handle_turns(bit):\n",
    "    if bit.is_red():\n",
    "        bit.left()\n",
    "        \n",
    "    elif bit.is_green():\n",
    "        bit.right()\n",
    "        \n",
    "    else:\n",
    "        bit.paint('blue')\n",
    "\n",
    "        \n",
    "@Bit.worlds('turns')\n",
    "def go(bit):\n",
    "    bit.paint('blue')\n",
    "    while bit.front_clear():\n",
    "        bit.move()\n",
    "        handle_turns(bit)\n",
    "            \n",
    "            \n",
    "if __name__ == '__main__':\n",
    "    go(Bit.new_bit)\n"
   ]
  },
  {
   "cell_type": "code",
   "execution_count": 58,
   "id": "ea7e4474",
   "metadata": {
    "slideshow": {
     "slide_type": "skip"
    }
   },
   "outputs": [],
   "source": [
    "! cd for_class && python turns.py && cd .."
   ]
  },
  {
   "cell_type": "markdown",
   "id": "107af4cb",
   "metadata": {
    "slideshow": {
     "slide_type": "slide"
    }
   },
   "source": [
    "## Holes 👩🏼‍🎨"
   ]
  },
  {
   "cell_type": "code",
   "execution_count": 28,
   "id": "5720f4fa",
   "metadata": {
    "slideshow": {
     "slide_type": "skip"
    }
   },
   "outputs": [
    {
     "name": "stdout",
     "output_type": "stream",
     "text": [
      "Overwriting for_class/worlds/holes.start.txt\n"
     ]
    }
   ],
   "source": [
    "%%file for_class/worlds/holes.start.txt\n",
    "kkkkkkkk-k-kkk\n",
    "--------------\n",
    "kkk-kk-kkkkkkk\n",
    "0 1\n",
    "0"
   ]
  },
  {
   "cell_type": "code",
   "execution_count": 29,
   "id": "3ce2c736",
   "metadata": {
    "slideshow": {
     "slide_type": "skip"
    }
   },
   "outputs": [
    {
     "name": "stdout",
     "output_type": "stream",
     "text": [
      "Overwriting for_class/worlds/holes.finish.txt\n"
     ]
    }
   ],
   "source": [
    "%%file for_class/worlds/holes.finish.txt\n",
    "kkkkkkkk-k-kkk\n",
    "bbbrbbrbgbgbbb\n",
    "kkk-kk-kkkkkkk\n",
    "13 1\n",
    "0"
   ]
  },
  {
   "cell_type": "code",
   "execution_count": 3,
   "id": "3d7d8ce6",
   "metadata": {
    "slideshow": {
     "slide_type": "skip"
    }
   },
   "outputs": [
    {
     "name": "stdout",
     "output_type": "stream",
     "text": [
      "Overwriting holes_solution.py\n"
     ]
    }
   ],
   "source": [
    "%%file holes_solution.py\n",
    "# Solution \n",
    "from byubit import Bit, use_text_renderer\n",
    "use_text_renderer()\n",
    "\n",
    "def process_square(bit):\n",
    "    if bit.right_clear():\n",
    "        bit.paint('red')\n",
    "        \n",
    "    elif bit.left_clear():\n",
    "        bit.paint('green')\n",
    "        \n",
    "    else:\n",
    "        bit.paint('blue')\n",
    "\n",
    "        \n",
    "@Bit.worlds('for_class/worlds/holes')\n",
    "@Bit.pictures('images/', title='Holes', ext='svg')\n",
    "def run(bit):\n",
    "    bit.paint('blue')\n",
    "    while bit.front_clear():\n",
    "        bit.move()\n",
    "        process_square(bit)\n",
    "            \n",
    "            \n",
    "if __name__ == '__main__':\n",
    "    run(Bit.new_bit)\n"
   ]
  },
  {
   "cell_type": "code",
   "execution_count": 4,
   "id": "06105671",
   "metadata": {
    "slideshow": {
     "slide_type": "skip"
    }
   },
   "outputs": [
    {
     "name": "stdout",
     "output_type": "stream",
     "text": [
      "Saving bit world to images/holes.start.svg\n",
      "Saving bit world to images/holes.finish.svg\n"
     ]
    }
   ],
   "source": [
    "%%bash\n",
    "python holes_solution.py \\\n",
    "&& cat holes_solution.py \\\n",
    "| grep -v '@Bit.pi' \\\n",
    "| sed -e 's#for_class/worlds/##g' \\\n",
    "| sed -e 's/, use_text_renderer//' \\\n",
    "| sed -e 's/use_text_renderer()//' \\\n",
    "> for_class/holes_solution.py"
   ]
  },
  {
   "cell_type": "markdown",
   "id": "ec67b35b",
   "metadata": {
    "slideshow": {
     "slide_type": "slide"
    }
   },
   "source": [
    "### `holes.py`\n",
    "\n",
    "Bit is in the pipes, and the pipes have holes. Bit's job is to mark where the holes are so someone else can fix them.\n",
    "\n",
    "- Mark holes on the right with red\n",
    "- Mark holes on the left with green\n",
    "- Otherwise paint blue\n",
    "\n",
    "<img src='images/holes.start.svg' />\n",
    "<img src='images/holes.finish.svg' />"
   ]
  },
  {
   "cell_type": "markdown",
   "id": "40fd7adf",
   "metadata": {
    "slideshow": {
     "slide_type": "notes"
    }
   },
   "source": [
    "**NOTES**\n",
    "\n",
    "Draw it out! Give the students time to discuss how they would solve this.\n",
    "\n",
    "Demonstrate general strategy: how we can use a `while` to move Bit to the end goal and use `if` to handle events along the way. *Event stream pattern*\n",
    "\n",
    "Errors:\n",
    "- Mix left and right\n",
    "- Don't put blue in `elif` (put it outside the `if/else` control)\n",
    "- First square/last square\n",
    "\n",
    "Explore:\n",
    "- move-then-ifblock, ifblock-then-move"
   ]
  },
  {
   "cell_type": "code",
   "execution_count": 4,
   "id": "e3e0099c",
   "metadata": {
    "slideshow": {
     "slide_type": "skip"
    }
   },
   "outputs": [
    {
     "name": "stdout",
     "output_type": "stream",
     "text": [
      "Overwriting for_class/holes.py\n"
     ]
    }
   ],
   "source": [
    "%%file for_class/holes.py\n",
    "from byubit import Bit\n",
    "\n",
    "\n",
    "@Bit.worlds('holes')\n",
    "def run(bit):\n",
    "    # implement\n",
    "    pass\n",
    "\n",
    "\n",
    "if __name__ == '__main__':\n",
    "    run(Bit.new_bit)\n",
    "    "
   ]
  },
  {
   "cell_type": "markdown",
   "id": "9891cca0",
   "metadata": {
    "slideshow": {
     "slide_type": "slide"
    }
   },
   "source": [
    "## Fly 👩🏾‍🎨"
   ]
  },
  {
   "cell_type": "code",
   "execution_count": 33,
   "id": "0e79313b",
   "metadata": {
    "slideshow": {
     "slide_type": "skip"
    }
   },
   "outputs": [
    {
     "name": "stdout",
     "output_type": "stream",
     "text": [
      "Writing for_class/worlds/fly.start.txt\n"
     ]
    }
   ],
   "source": [
    "%%file for_class/worlds/fly.start.txt\n",
    "----g---g---\n",
    "-b---b----r-\n",
    "-b--b-------\n",
    "--g--b--g-b-\n",
    "-g----------\n",
    "-bb--b--b---\n",
    "0 1\n",
    "0"
   ]
  },
  {
   "cell_type": "code",
   "execution_count": 34,
   "id": "b94a0702",
   "metadata": {
    "slideshow": {
     "slide_type": "skip"
    }
   },
   "outputs": [
    {
     "name": "stdout",
     "output_type": "stream",
     "text": [
      "Writing for_class/worlds/fly.finish.txt\n"
     ]
    }
   ],
   "source": [
    "%%file for_class/worlds/fly.finish.txt\n",
    "----g---g---\n",
    "-b---b----r-\n",
    "-b--b-------\n",
    "--g--b--g-b-\n",
    "-g----------\n",
    "-bb--b--b---\n",
    "10 4\n",
    "1"
   ]
  },
  {
   "cell_type": "code",
   "execution_count": 2,
   "id": "2a1acee4",
   "metadata": {
    "slideshow": {
     "slide_type": "skip"
    }
   },
   "outputs": [
    {
     "name": "stdout",
     "output_type": "stream",
     "text": [
      "Overwriting fly_solution.py\n"
     ]
    }
   ],
   "source": [
    "%%file fly_solution.py\n",
    "# Solution\n",
    "from byubit import Bit, use_text_renderer\n",
    "use_text_renderer()\n",
    "\n",
    "def respond_to_square(bit):\n",
    "    if bit.is_blue():\n",
    "        bit.left()\n",
    "    elif bit.is_green():\n",
    "        bit.right()\n",
    "        \n",
    "        \n",
    "@Bit.worlds('for_class/worlds/fly')\n",
    "@Bit.pictures('images/', ext='svg', title='Fly!')\n",
    "def run(bit):\n",
    "    while not bit.is_red():\n",
    "        respond_to_square(bit)\n",
    "        bit.move()\n",
    "        \n",
    "        \n",
    "if __name__ == '__main__':\n",
    "    run(Bit.new_bit)\n"
   ]
  },
  {
   "cell_type": "code",
   "execution_count": 3,
   "id": "66313aed",
   "metadata": {
    "slideshow": {
     "slide_type": "skip"
    }
   },
   "outputs": [
    {
     "name": "stdout",
     "output_type": "stream",
     "text": [
      "Saving bit world to images/fly.start.svg\n",
      "Saving bit world to images/fly.finish.svg\n"
     ]
    }
   ],
   "source": [
    "%%bash\n",
    "python fly_solution.py \\\n",
    "&& cat fly_solution.py \\\n",
    "| grep -v '@Bit.pi' \\\n",
    "| sed -e 's#for_class/worlds/##g' \\\n",
    "| sed -e 's/, use_text_renderer//' \\\n",
    "| sed -e 's/use_text_renderer()//' \\\n",
    "> for_class/fly_solution.py"
   ]
  },
  {
   "cell_type": "code",
   "execution_count": 1,
   "id": "b5e84f82",
   "metadata": {
    "slideshow": {
     "slide_type": "skip"
    }
   },
   "outputs": [
    {
     "name": "stdout",
     "output_type": "stream",
     "text": [
      "Overwriting for_class/fly.py\n"
     ]
    }
   ],
   "source": [
    "%%file for_class/fly.py\n",
    "from byubit import Bit\n",
    "\n",
    "\n",
    "@Bit.worlds('fly')\n",
    "def run(bit):\n",
    "    # Implement \n",
    "    pass\n",
    "\n",
    "\n",
    "if __name__ == '__main__':\n",
    "    run(Bit.new_bit)\n"
   ]
  },
  {
   "cell_type": "markdown",
   "id": "f704b90d",
   "metadata": {
    "slideshow": {
     "slide_type": "slide"
    }
   },
   "source": [
    "### `fly.py`\n",
    "\n",
    "Bit is out flying around.\n",
    "\n",
    "When Bit finds a blue square, he turns left.\n",
    "\n",
    "When Bit finds a green square, he turns right.\n",
    "\n",
    "When Bit finds a red square, he stops.\n",
    "\n",
    "<img src='images/fly.start.svg' />"
   ]
  },
  {
   "cell_type": "markdown",
   "id": "649086df",
   "metadata": {
    "slideshow": {
     "slide_type": "notes"
    }
   },
   "source": [
    "**NOTES**\n",
    "\n",
    "Draw it out!\n",
    "\n",
    "Errors: how do you identify and fix them?\n",
    "- Turn right on blue, left on green (runs into wall after wandering)\n",
    "- While `front_clear()` instead of `not is_red()` (misses red square)\n",
    "- Else instead of elif (turns on blank square)\n",
    "- Move in the else block (infinite loop)\n",
    "\n",
    "Does it matter if you move-then-turn vs turn-then-move?"
   ]
  },
  {
   "cell_type": "markdown",
   "id": "b546fb81",
   "metadata": {
    "slideshow": {
     "slide_type": "slide"
    }
   },
   "source": [
    "## Elevators 👨🏼‍🎨"
   ]
  },
  {
   "cell_type": "code",
   "execution_count": 5,
   "id": "cb4b76af",
   "metadata": {
    "slideshow": {
     "slide_type": "skip"
    }
   },
   "outputs": [
    {
     "name": "stdout",
     "output_type": "stream",
     "text": [
      "Writing for_class/worlds/elevators.start.txt\n"
     ]
    }
   ],
   "source": [
    "%%file for_class/worlds/elevators.start.txt\n",
    "-------------\n",
    "-------------\n",
    "kkkk---------\n",
    "-------------\n",
    "----g--------\n",
    "---kkkkk-----\n",
    "-------------\n",
    "-------------\n",
    "--------g----\n",
    "-----kkkkkkkk\n",
    "12 1\n",
    "2"
   ]
  },
  {
   "cell_type": "code",
   "execution_count": 6,
   "id": "338b8003",
   "metadata": {
    "slideshow": {
     "slide_type": "skip"
    }
   },
   "outputs": [
    {
     "name": "stdout",
     "output_type": "stream",
     "text": [
      "Writing for_class/worlds/elevators.finish.txt\n"
     ]
    }
   ],
   "source": [
    "%%file for_class/worlds/elevators.finish.txt\n",
    "-------------\n",
    "-------------\n",
    "kkkkg--------\n",
    "----g--------\n",
    "----g--------\n",
    "---kkkkkg----\n",
    "--------g----\n",
    "--------g----\n",
    "--------g----\n",
    "-----kkkkkkkk\n",
    "0 8\n",
    "2"
   ]
  },
  {
   "cell_type": "code",
   "execution_count": 14,
   "id": "10f019fa",
   "metadata": {
    "slideshow": {
     "slide_type": "skip"
    }
   },
   "outputs": [
    {
     "name": "stdout",
     "output_type": "stream",
     "text": [
      "Overwriting elevators_solution.py\n"
     ]
    }
   ],
   "source": [
    "%%file elevators_solution.py\n",
    "# Solution\n",
    "from byubit import Bit, use_text_renderer\n",
    "use_text_renderer()\n",
    "\n",
    "def go_up(bit):\n",
    "    bit.right()\n",
    "    while bit.left_clear():\n",
    "        bit.move()\n",
    "        bit.paint('green')\n",
    "    bit.move()\n",
    "    bit.left()\n",
    "    \n",
    "    \n",
    "@Bit.worlds('for_class/worlds/elevators')\n",
    "@Bit.pictures('images/', ext='svg', title='Elevators')\n",
    "def run(bit):\n",
    "    while bit.front_clear():\n",
    "        bit.move()\n",
    "        if bit.is_green():\n",
    "            go_up(bit)\n",
    "            \n",
    "            \n",
    "if __name__ == '__main__':\n",
    "    run(Bit.new_bit)\n"
   ]
  },
  {
   "cell_type": "code",
   "execution_count": 15,
   "id": "6f182c68",
   "metadata": {
    "slideshow": {
     "slide_type": "skip"
    }
   },
   "outputs": [
    {
     "name": "stdout",
     "output_type": "stream",
     "text": [
      "Saving bit world to images/elevators.start.svg\n",
      "Saving bit world to images/elevators.finish.svg\n"
     ]
    }
   ],
   "source": [
    "%%bash\n",
    "python elevators_solution.py \\\n",
    "&& cat elevators_solution.py \\\n",
    "| grep -v '@Bit.pi' \\\n",
    "| sed -e 's#for_class/worlds/##g' \\\n",
    "| sed -e 's/, use_text_renderer//' \\\n",
    "| sed -e 's/use_text_renderer()//' \\\n",
    "> for_class/elevators_solution.py"
   ]
  },
  {
   "cell_type": "markdown",
   "id": "8af7b694",
   "metadata": {
    "slideshow": {
     "slide_type": "slide"
    }
   },
   "source": [
    "### `elevators.py`\n",
    "\n",
    "Bit needs to climb to the top of the building, using the green elevators.\n",
    "\n",
    "<div style='width: 620px'>\n",
    "    <div style='float: left'><img src='images/elevators.start.svg' width='300px'/></div>\n",
    "    <div style='float: right'><img src='images/elevators.finish.svg' width='300px'/></div>\n",
    "</div>"
   ]
  },
  {
   "cell_type": "markdown",
   "id": "2cc197e7",
   "metadata": {
    "slideshow": {
     "slide_type": "notes"
    }
   },
   "source": [
    "**NOTES**\n",
    "\n",
    "This activity prepares the students for `waterfall.py` in the lab.\n",
    "\n",
    "- Draw it out!\n",
    "- Pose the problem as an *event stream* problem\n",
    "- What is the outer loop?\n",
    "- What is the condition that triggers the event?\n",
    "  - What is the event?\n",
    "- How do we rise?\n",
    "  - What is the `while` condition?\n",
    "  - What is the glue code before and after the \"rise\" loop?\n",
    "- Use comments to indicate subgoals"
   ]
  },
  {
   "cell_type": "code",
   "execution_count": 9,
   "id": "ed53c571",
   "metadata": {
    "slideshow": {
     "slide_type": "skip"
    }
   },
   "outputs": [
    {
     "name": "stdout",
     "output_type": "stream",
     "text": [
      "Writing for_class/elevators.py\n"
     ]
    }
   ],
   "source": [
    "%%file for_class/elevators.py\n",
    "from byubit import Bit\n",
    "\n",
    "\n",
    "@Bit.worlds('elevators')\n",
    "def run(bit):\n",
    "    # Implement \n",
    "    pass\n",
    "\n",
    "\n",
    "if __name__ == '__main__':\n",
    "    run(Bit.new_bit)\n"
   ]
  },
  {
   "cell_type": "markdown",
   "id": "97012ec0",
   "metadata": {
    "slideshow": {
     "slide_type": "slide"
    }
   },
   "source": [
    "### More Elevators"
   ]
  },
  {
   "cell_type": "code",
   "execution_count": 10,
   "id": "b8c0ecfe",
   "metadata": {
    "slideshow": {
     "slide_type": "skip"
    }
   },
   "outputs": [
    {
     "name": "stdout",
     "output_type": "stream",
     "text": [
      "Writing for_class/worlds/more-elevators.start.txt\n"
     ]
    }
   ],
   "source": [
    "%%file for_class/worlds/more-elevators.start.txt\n",
    "--------------\n",
    "---------kkkkk\n",
    "--------------\n",
    "--------g-----\n",
    "-------kk-----\n",
    "------g-------\n",
    "----kkkk------\n",
    "--------------\n",
    "---g----------\n",
    "kkkkk---------\n",
    "0 1\n",
    "0"
   ]
  },
  {
   "cell_type": "code",
   "execution_count": 11,
   "id": "a74441d8",
   "metadata": {
    "slideshow": {
     "slide_type": "skip"
    }
   },
   "outputs": [
    {
     "name": "stdout",
     "output_type": "stream",
     "text": [
      "Writing for_class/worlds/more-elevators.finish.txt\n"
     ]
    }
   ],
   "source": [
    "%%file for_class/worlds/more-elevators.finish.txt\n",
    "--------------\n",
    "--------gkkkkk\n",
    "--------g-----\n",
    "--------g-----\n",
    "------gkk-----\n",
    "------g-------\n",
    "---gkkkk------\n",
    "---g----------\n",
    "---g----------\n",
    "kkkkk---------\n",
    "13 9\n",
    "0"
   ]
  },
  {
   "cell_type": "code",
   "execution_count": 12,
   "id": "1284e8ee",
   "metadata": {
    "slideshow": {
     "slide_type": "skip"
    }
   },
   "outputs": [
    {
     "name": "stdout",
     "output_type": "stream",
     "text": [
      "Writing more_elevators_solution.py\n"
     ]
    }
   ],
   "source": [
    "%%file more_elevators_solution.py\n",
    "# Solution\n",
    "from byubit import Bit, use_text_renderer\n",
    "use_text_renderer()\n",
    "\n",
    "def go_left_up(bit):\n",
    "    bit.left()\n",
    "    while bit.right_clear():\n",
    "        bit.move()\n",
    "        bit.paint('green')\n",
    "    bit.move()\n",
    "    bit.right()\n",
    "\n",
    "    \n",
    "def go_right_up(bit):\n",
    "    bit.right()\n",
    "    while bit.left_clear():\n",
    "        bit.move()\n",
    "        bit.paint('green')\n",
    "    bit.move()\n",
    "    bit.left()\n",
    "\n",
    "    \n",
    "def go_up(bit):\n",
    "    if bit.left_clear():\n",
    "        go_left_up(bit)\n",
    "    else:\n",
    "        go_right_up(bit)\n",
    "        \n",
    "        \n",
    "@Bit.worlds('for_class/worlds/elevators', 'for_class/worlds/more-elevators')\n",
    "@Bit.pictures('images/', ext='svg', title='More Elevators')\n",
    "def run(bit):\n",
    "    while bit.front_clear():\n",
    "        bit.move()\n",
    "        if bit.is_green():\n",
    "            go_up(bit)\n",
    "          \n",
    "        \n",
    "if __name__ == '__main__':\n",
    "    run(Bit.new_bit)\n"
   ]
  },
  {
   "cell_type": "code",
   "execution_count": 13,
   "id": "2690cb12",
   "metadata": {
    "slideshow": {
     "slide_type": "skip"
    }
   },
   "outputs": [
    {
     "name": "stdout",
     "output_type": "stream",
     "text": [
      "Saving bit world to images/elevators.start.svg\n",
      "Saving bit world to images/elevators.finish.svg\n",
      "Saving bit world to images/elevators.start.svg\n",
      "Saving bit world to images/elevators.finish.svg\n"
     ]
    }
   ],
   "source": [
    "%%bash\n",
    "python more_elevators_solution.py \\\n",
    "&& cat more_elevators_solution.py \\\n",
    "| grep -v '@Bit.pi' \\\n",
    "| sed -e 's#for_class/worlds/##g' \\\n",
    "| sed -e 's/, use_text_renderer//' \\\n",
    "| sed -e 's/use_text_renderer()//' \\\n",
    "> for_class/more_elevators_solution.py"
   ]
  },
  {
   "cell_type": "markdown",
   "id": "94d87ab2",
   "metadata": {
    "slideshow": {
     "slide_type": "slide"
    }
   },
   "source": [
    "Now write a single function that can allow Bit to travel in either direction.\n",
    "\n",
    "\n",
    "<div style='width: 620px'>\n",
    "    <div style='float: left'><img src='images/elevators.start.svg' width='300px'/></div>\n",
    "    <div style='float: right'><img src='images/more-elevators.start.svg' width='300px'/></div>\n",
    "</div>"
   ]
  },
  {
   "cell_type": "markdown",
   "id": "6c5d2f29",
   "metadata": {
    "slideshow": {
     "slide_type": "notes"
    }
   },
   "source": [
    "**NOTES**\n",
    "\n",
    "Add in `'more-elevators'` as a test case. Observe the problem: Bit turns into the floor when heading from left to right.\n",
    "\n",
    "How do we know which way to turn to rise?\n",
    "\n",
    "Similar \"rise\" blocks: each has a while loop, but the turns are different.\n"
   ]
  },
  {
   "cell_type": "markdown",
   "id": "55ccffe8",
   "metadata": {
    "slideshow": {
     "slide_type": "slide"
    }
   },
   "source": [
    "## Key Ideas\n",
    "\n",
    "- `if`, `else`, and `elif`\n",
    "- *event stream pattern*: \n",
    "  - handle specific events that come up while moving towards a goal\n",
    "    - outer `while` with inner `if`\n",
    "- Boundary conditions"
   ]
  }
 ],
 "metadata": {
  "celltoolbar": "Slideshow",
  "kernelspec": {
   "display_name": "Python 3 (ipykernel)",
   "language": "python",
   "name": "python3"
  },
  "language_info": {
   "codemirror_mode": {
    "name": "ipython",
    "version": 3
   },
   "file_extension": ".py",
   "mimetype": "text/x-python",
   "name": "python",
   "nbconvert_exporter": "python",
   "pygments_lexer": "ipython3",
   "version": "3.9.12"
  },
  "toc": {
   "base_numbering": 1,
   "nav_menu": {},
   "number_sections": false,
   "sideBar": true,
   "skip_h1_title": true,
   "title_cell": "Table of Contents",
   "title_sidebar": "Contents",
   "toc_cell": false,
   "toc_position": {},
   "toc_section_display": true,
   "toc_window_display": false
  }
 },
 "nbformat": 4,
 "nbformat_minor": 5
}
