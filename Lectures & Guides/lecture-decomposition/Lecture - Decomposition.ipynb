{
 "cells": [
  {
   "cell_type": "markdown",
   "id": "5fe0c414",
   "metadata": {
    "slideshow": {
     "slide_type": "slide"
    }
   },
   "source": [
    "# Decomposition"
   ]
  },
  {
   "cell_type": "markdown",
   "id": "0e96dfd4",
   "metadata": {
    "slideshow": {
     "slide_type": "slide"
    }
   },
   "source": [
    "**Decomposition** is the process of breaking a problem into smaller pieces.\n",
    "\n",
    "Defining the boundaries, interface, and purpose of the smaller pieces is call **abstraction**.\n",
    "\n",
    "Decomposition and abstraction go hand-in-hand and are essential skills in programming."
   ]
  },
  {
   "cell_type": "code",
   "execution_count": 1,
   "id": "7e7161d0",
   "metadata": {
    "slideshow": {
     "slide_type": "skip"
    }
   },
   "outputs": [],
   "source": [
    "!mkdir -p images for_class/worlds"
   ]
  },
  {
   "cell_type": "markdown",
   "id": "b999560b",
   "metadata": {
    "slideshow": {
     "slide_type": "slide"
    }
   },
   "source": [
    "## Treasure! 🧑🏻‍🎨"
   ]
  },
  {
   "cell_type": "code",
   "execution_count": 2,
   "id": "458d3253",
   "metadata": {
    "slideshow": {
     "slide_type": "skip"
    }
   },
   "outputs": [
    {
     "name": "stdout",
     "output_type": "stream",
     "text": [
      "Overwriting for_class/worlds/treasure.start.txt\n"
     ]
    }
   ],
   "source": [
    "%%file for_class/worlds/treasure.start.txt\n",
    "k-r-r--kkkkk\n",
    "b----------k\n",
    "---k---kkk-k\n",
    "b-b----k---k\n",
    "----r--krkkk\n",
    "0 0\n",
    "0"
   ]
  },
  {
   "cell_type": "code",
   "execution_count": 3,
   "id": "e18caf3a",
   "metadata": {
    "slideshow": {
     "slide_type": "skip"
    }
   },
   "outputs": [
    {
     "name": "stdout",
     "output_type": "stream",
     "text": [
      "Overwriting for_class/worlds/treasure.finish.txt\n"
     ]
    }
   ],
   "source": [
    "%%file for_class/worlds/treasure.finish.txt\n",
    "k-ggg--kkkkk\n",
    "gggggggggggk\n",
    "g-gkg--kkkgk\n",
    "ggg-g--kgggk\n",
    "ggggg--kgkkk\n",
    "8 0\n",
    "3"
   ]
  },
  {
   "cell_type": "code",
   "execution_count": 4,
   "id": "bb41ccc7",
   "metadata": {
    "slideshow": {
     "slide_type": "skip"
    }
   },
   "outputs": [
    {
     "name": "stdout",
     "output_type": "stream",
     "text": [
      "Overwriting treasure_solution.py\n"
     ]
    }
   ],
   "source": [
    "%%file treasure_solution.py\n",
    "# Solution\n",
    "from byubit import Bit, use_text_renderer\n",
    "use_text_renderer()\n",
    "\n",
    "def in_cave(bit):\n",
    "    return not bit.left_clear() and not bit.right_clear()\n",
    "\n",
    "\n",
    "def follow_turn_instructions(bit):\n",
    "    if bit.is_red():\n",
    "        bit.left()\n",
    "        bit.snapshot('Turned left')\n",
    "    elif bit.is_blue():\n",
    "        bit.right()\n",
    "        bit.snapshot('Turned right')\n",
    "        \n",
    "\n",
    "def get_to_cave(bit):\n",
    "    \"\"\"\n",
    "    Bit ends just inside the cave (black on left and right)\n",
    "    To get there, Bit must turn right on blue and left on red.\n",
    "    \"\"\"\n",
    "    while not in_cave(bit):\n",
    "        bit.move()\n",
    "        follow_turn_instructions(bit)\n",
    "        bit.paint('green')\n",
    "\n",
    "        \n",
    "def turn_to_clear(bit):\n",
    "    \"\"\"If left is clear, turn left, otherwise turn right.\"\"\"\n",
    "    if bit.left_clear():\n",
    "        bit.left()\n",
    "        bit.snapshot('Turned left')\n",
    "        \n",
    "    else:\n",
    "        bit.right()\n",
    "        bit.snapshot('Turned right')\n",
    "        \n",
    "        \n",
    "def find_treasure(bit):\n",
    "    \"\"\"Bit ends at the treasure (red square). If the front is blocked, turn in the direction that is clear.\"\"\"\n",
    "    while not bit.is_red():\n",
    "        if not bit.front_clear():\n",
    "            turn_to_clear(bit)\n",
    "        bit.paint('green')\n",
    "        bit.move()\n",
    "        \n",
    "\n",
    "@Bit.worlds('for_class/worlds/treasure')\n",
    "@Bit.pictures('images/', ext='svg', title='Treasure')\n",
    "def go(bit):\n",
    "    bit.paint('green')\n",
    "    \n",
    "    get_to_cave(bit)\n",
    "    bit.snapshot('Found cave')\n",
    "\n",
    "    find_treasure(bit)\n",
    "    \n",
    "    bit.paint('green')\n",
    "    \n",
    "if __name__ == '__main__':\n",
    "    go(Bit.new_bit)\n"
   ]
  },
  {
   "cell_type": "code",
   "execution_count": 5,
   "id": "9a81806c",
   "metadata": {
    "slideshow": {
     "slide_type": "skip"
    }
   },
   "outputs": [
    {
     "name": "stdout",
     "output_type": "stream",
     "text": [
      "Saving bit world to images/treasure.start.svg\n",
      "Saving bit world to images/treasure.finish.svg\n"
     ]
    }
   ],
   "source": [
    "%%bash\n",
    "python treasure_solution.py \\\n",
    "&& cat treasure_solution.py \\\n",
    "| grep -v '@Bit.pi' \\\n",
    "| sed -e 's#for_class/worlds/##g' \\\n",
    "| sed -e 's/, use_text_renderer//' \\\n",
    "| sed -e 's/use_text_renderer()//' \\\n",
    "> for_class/treasure_solution.py"
   ]
  },
  {
   "cell_type": "markdown",
   "id": "7c6e4b1c",
   "metadata": {},
   "source": [
    "### `treasure.py`\n",
    "\n",
    "<div style='float: right'><img src='images/treasure.start.svg' width='800px'/></div>\n",
    "\n",
    "To reach the cave, Bit must follow these instructions:\n",
    "\n",
    "- Turn right on blue squares.\n",
    "- Turn left on red squares.\n",
    "\n",
    "Once in the cave, navigate through the passage to the treasure (red square).\n",
    "\n",
    "Paint the path followed green."
   ]
  },
  {
   "cell_type": "markdown",
   "id": "cf0889bc",
   "metadata": {
    "slideshow": {
     "slide_type": "notes"
    }
   },
   "source": [
    "**NOTES**\n",
    "\n",
    "Break the problem up into get-to-the-cave and find-the-treasure.\n",
    "\n",
    "The flying has move, paint, and turn statements. What order is necessary?\n",
    "- the paint step can clobber the turn step. \n",
    "\n",
    "Finding the treasure involves a nested if. It's essentially the same logic as `scurry.py` from lab 6."
   ]
  },
  {
   "cell_type": "code",
   "execution_count": 6,
   "id": "5090f97a",
   "metadata": {
    "slideshow": {
     "slide_type": "skip"
    }
   },
   "outputs": [
    {
     "name": "stdout",
     "output_type": "stream",
     "text": [
      "Overwriting for_class/treasure.py\n"
     ]
    }
   ],
   "source": [
    "%%file for_class/treasure.py\n",
    "from byubit import Bit\n",
    "\n",
    "\n",
    "@Bit.worlds('treasure')\n",
    "def go(bit):\n",
    "    # Implement\n",
    "    pass\n",
    "\n",
    "\n",
    "if __name__ == '__main__':\n",
    "    go(Bit.new_bit)\n"
   ]
  },
  {
   "cell_type": "markdown",
   "id": "64bd8dd4",
   "metadata": {
    "slideshow": {
     "slide_type": "slide"
    }
   },
   "source": [
    "## Over the Mountain 🏔️"
   ]
  },
  {
   "cell_type": "code",
   "execution_count": 7,
   "id": "64047433",
   "metadata": {
    "slideshow": {
     "slide_type": "skip"
    }
   },
   "outputs": [
    {
     "name": "stdout",
     "output_type": "stream",
     "text": [
      "Overwriting for_class/worlds/y-mountain.start.txt\n"
     ]
    }
   ],
   "source": [
    "%%file for_class/worlds/y-mountain.start.txt\n",
    "------------------\n",
    "------------------\n",
    "--------kk--------\n",
    "------kkkkkk------\n",
    "----kkk-k-kkkk----\n",
    "---kkkkk-kkkkkk---\n",
    "--kkkkkk-kkkkkkk--\n",
    "--kkkkkkkkkkkkkk--\n",
    "kkkkkkkkkkkkkkkkkk\n",
    "0 1\n",
    "0"
   ]
  },
  {
   "cell_type": "code",
   "execution_count": 8,
   "id": "f2f28e1f",
   "metadata": {
    "slideshow": {
     "slide_type": "skip"
    }
   },
   "outputs": [
    {
     "name": "stdout",
     "output_type": "stream",
     "text": [
      "Overwriting for_class/worlds/y-mountain.finish.txt\n"
     ]
    }
   ],
   "source": [
    "%%file for_class/worlds/y-mountain.finish.txt\n",
    "------------------\n",
    "--------gg--------\n",
    "------ggkkgg------\n",
    "----ggkkkkkkgg----\n",
    "---gkkk-k-kkkkg---\n",
    "--gkkkkk-kkkkkkg--\n",
    "--kkkkkk-kkkkkkk--\n",
    "ggkkkkkkkkkkkkkkgg\n",
    "kkkkkkkkkkkkkkkkkk\n",
    "17 1\n",
    "0"
   ]
  },
  {
   "cell_type": "code",
   "execution_count": 9,
   "id": "99525eaf",
   "metadata": {
    "slideshow": {
     "slide_type": "skip"
    }
   },
   "outputs": [
    {
     "name": "stdout",
     "output_type": "stream",
     "text": [
      "Overwriting for_class/worlds/mountain.start.txt\n"
     ]
    }
   ],
   "source": [
    "%%file for_class/worlds/mountain.start.txt\n",
    "------------------\n",
    "--------k---------\n",
    "--------kk--------\n",
    "-------kkkk-------\n",
    "------kkkkkk------\n",
    "------kkkkkk------\n",
    "---kkkkkkkkkkkk---\n",
    "kkkkkkkkkkkkkkkkkk\n",
    "0 1\n",
    "0"
   ]
  },
  {
   "cell_type": "code",
   "execution_count": 10,
   "id": "515761f2",
   "metadata": {
    "slideshow": {
     "slide_type": "skip"
    }
   },
   "outputs": [
    {
     "name": "stdout",
     "output_type": "stream",
     "text": [
      "Overwriting for_class/worlds/mountain.finish.txt\n"
     ]
    }
   ],
   "source": [
    "%%file for_class/worlds/mountain.finish.txt\n",
    "--------g---------\n",
    "--------kg--------\n",
    "-------gkkg-------\n",
    "------gkkkkg------\n",
    "------kkkkkk------\n",
    "---gggkkkkkkggg---\n",
    "gggkkkkkkkkkkkkggg\n",
    "kkkkkkkkkkkkkkkkkk\n",
    "17 1\n",
    "0"
   ]
  },
  {
   "cell_type": "code",
   "execution_count": 11,
   "id": "59d7c63b",
   "metadata": {
    "slideshow": {
     "slide_type": "skip"
    }
   },
   "outputs": [
    {
     "name": "stdout",
     "output_type": "stream",
     "text": [
      "Overwriting hike_solution.py\n"
     ]
    }
   ],
   "source": [
    "%%file hike_solution.py\n",
    "# Solution\n",
    "from byubit import Bit, use_text_renderer\n",
    "use_text_renderer()\n",
    "\n",
    "def jump(bit):\n",
    "    \"\"\"\n",
    "    Jump up the ledge.\n",
    "    Start facing the wall at the bottom of the ledge.\n",
    "    End at the top, facing right, with an empty square underneath (i.e. not \"on\" the ledge yet)\n",
    "    \n",
    "           > \n",
    "      *     *\n",
    "     >*     *\n",
    "    ***   ***\n",
    "    \"\"\"\n",
    "    bit.left()\n",
    "    while not bit.right_clear():\n",
    "        bit.move()\n",
    "    bit.right()\n",
    "    \n",
    "    \n",
    "def plant_tree(bit):\n",
    "    \"\"\"If the square below is black, plant a tree.\"\"\"\n",
    "    if not bit.right_clear():\n",
    "        bit.paint('green')\n",
    "        \n",
    "\n",
    "def go_up(bit):\n",
    "    \"\"\"\n",
    "    Get Bit to the top of the mountain.\n",
    "    \n",
    "    Bit ends at the top of the mountain facing right with an empty square to his right.\n",
    "    Bit paints green all the squares immediately above a black square.\n",
    "    \"\"\"\n",
    "    while not bit.right_clear():\n",
    "        if not bit.front_clear():\n",
    "            jump(bit)\n",
    "        bit.move()\n",
    "        plant_tree(bit)\n",
    "        \n",
    "        \n",
    "def drop(bit):\n",
    "    \"\"\"Bit starts facing right with empty beneath, and ends facing right with black beneath.\"\"\"\n",
    "    bit.right()\n",
    "    while bit.front_clear():\n",
    "        bit.move()\n",
    "    bit.left()\n",
    "    \n",
    "    \n",
    "def go_down(bit):\n",
    "    \"\"\"\n",
    "    Bit starts at the top of the mountain (facing right, empty space beneath) and descends to the right,\n",
    "      ending in the corner.\n",
    "    \"\"\"\n",
    "    while bit.front_clear():\n",
    "        if bit.right_clear():\n",
    "            drop(bit)\n",
    "        plant_tree(bit)\n",
    "        bit.move()\n",
    "        \n",
    "        \n",
    "@Bit.worlds('for_class/worlds/y-mountain', 'for_class/worlds/mountain')\n",
    "@Bit.pictures('images/', ext='svg', title='Mountain')\n",
    "def run(bit):\n",
    "    bit.paint('green')\n",
    "    \n",
    "    # Go up\n",
    "    go_up(bit)\n",
    "    bit.snapshot('Top')\n",
    "                        \n",
    "    # Go down\n",
    "    go_down(bit)\n",
    "    \n",
    "    bit.paint('green')\n",
    "    \n",
    "if __name__ == '__main__':\n",
    "    run(Bit.new_bit)\n"
   ]
  },
  {
   "cell_type": "code",
   "execution_count": 12,
   "id": "13088e18",
   "metadata": {
    "slideshow": {
     "slide_type": "skip"
    }
   },
   "outputs": [
    {
     "name": "stdout",
     "output_type": "stream",
     "text": [
      "Saving bit world to images/y-mountain.start.svg\n",
      "Saving bit world to images/y-mountain.finish.svg\n",
      "Saving bit world to images/mountain.start.svg\n",
      "Saving bit world to images/mountain.finish.svg\n"
     ]
    }
   ],
   "source": [
    "%%bash\n",
    "python hike_solution.py \\\n",
    "&& cat hike_solution.py \\\n",
    "| grep -v '@Bit.pi' \\\n",
    "| sed -e 's#for_class/worlds/##g' \\\n",
    "| sed -e 's/, use_text_renderer//' \\\n",
    "| sed -e 's/use_text_renderer()//' \\\n",
    "> for_class/hike_solution.py"
   ]
  },
  {
   "cell_type": "markdown",
   "id": "0f54c653",
   "metadata": {
    "slideshow": {
     "slide_type": "slide"
    }
   },
   "source": [
    "#### ```hike.py```\n",
    "\n",
    "<div style='float: right' />\n",
    "<img src='images/y-mountain.start.svg' width='700px'/>\n",
    "<img src='images/y-mountain.finish.svg' width='700px'/>\n",
    "</div>\n",
    "\n",
    "Bit needs to plant trees all over the mountain.\n",
    "\n",
    "Paint only the squares directly above a blocked square. \n",
    "\n"
   ]
  },
  {
   "cell_type": "markdown",
   "id": "20925857",
   "metadata": {
    "slideshow": {
     "slide_type": "notes"
    }
   },
   "source": [
    "**NOTES**\n",
    "\n",
    "Look at both inputs to assess the requirements. Do we need a while loop for climbing, as opposed to a hard coded number of move statements? How do we know?\n",
    "\n",
    "How do we break this problem up? What are the patterns that we see? Are there natural subproblems, like we had with `treasure.py` a moment ago?"
   ]
  },
  {
   "cell_type": "code",
   "execution_count": 13,
   "id": "5abdef84",
   "metadata": {
    "slideshow": {
     "slide_type": "skip"
    }
   },
   "outputs": [
    {
     "name": "stdout",
     "output_type": "stream",
     "text": [
      "Overwriting for_class/hike.py\n"
     ]
    }
   ],
   "source": [
    "%%file for_class/hike.py\n",
    "from byubit import Bit\n",
    "\n",
    "\n",
    "@Bit.worlds('y-mountain', 'mountain')\n",
    "def run(bit):\n",
    "    # Implement \n",
    "    pass\n",
    "\n",
    "\n",
    "if __name__ == '__main__':\n",
    "    run(Bit.new_bit)\n",
    "    "
   ]
  },
  {
   "cell_type": "markdown",
   "id": "cc27dbf1",
   "metadata": {
    "slideshow": {
     "slide_type": "slide"
    }
   },
   "source": [
    "## Key Ideas\n",
    "\n",
    "- Break big problems into smaller problems\n",
    "- Purposefully define the boundaries of the pieces so it is clear how they fit back together"
   ]
  }
 ],
 "metadata": {
  "celltoolbar": "Slideshow",
  "kernelspec": {
   "display_name": "Python 3 (ipykernel)",
   "language": "python",
   "name": "python3"
  },
  "language_info": {
   "codemirror_mode": {
    "name": "ipython",
    "version": 3
   },
   "file_extension": ".py",
   "mimetype": "text/x-python",
   "name": "python",
   "nbconvert_exporter": "python",
   "pygments_lexer": "ipython3",
   "version": "3.11.5"
  },
  "toc": {
   "base_numbering": 1,
   "nav_menu": {},
   "number_sections": false,
   "sideBar": true,
   "skip_h1_title": true,
   "title_cell": "Table of Contents",
   "title_sidebar": "Contents",
   "toc_cell": false,
   "toc_position": {},
   "toc_section_display": true,
   "toc_window_display": false
  }
 },
 "nbformat": 4,
 "nbformat_minor": 5
}
