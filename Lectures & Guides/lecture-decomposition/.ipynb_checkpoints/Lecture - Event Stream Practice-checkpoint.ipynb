{
 "cells": [
  {
   "cell_type": "markdown",
   "id": "262ac9e4",
   "metadata": {
    "slideshow": {
     "slide_type": "slide"
    }
   },
   "source": [
    "# Decomposition"
   ]
  },
  {
   "cell_type": "code",
   "execution_count": 17,
   "id": "bfa9f496",
   "metadata": {
    "slideshow": {
     "slide_type": "skip"
    }
   },
   "outputs": [],
   "source": [
    "! mkdir -p images for_class/worlds"
   ]
  },
  {
   "cell_type": "markdown",
   "id": "7bca6786",
   "metadata": {
    "slideshow": {
     "slide_type": "skip"
    }
   },
   "source": [
    "- hurdles\n",
    "  - boundary conditions\n",
    "  - fitting the pieces together\n",
    "\n",
    "- Decomposition strategy\n",
    "  - draw it out\n",
    "  - break it up\n",
    "  - define the boundary conditions, hand-offs, and glue code\n",
    "  - define the technical goals of each abstraction\n",
    "    - What does \"paint the row blue\" mean? Paint blue squares until Bit is blocked.\n",
    "  - implement the goals\n",
    "  - refine the design as needed\n",
    "  \n",
    "Tips:\n",
    "- `bit.snapshot()`"
   ]
  },
  {
   "cell_type": "markdown",
   "id": "13baacfd",
   "metadata": {
    "slideshow": {
     "slide_type": "slide"
    }
   },
   "source": [
    "## Hurdles 👩🏼‍🎨"
   ]
  },
  {
   "cell_type": "code",
   "execution_count": 20,
   "id": "dcdc980d",
   "metadata": {
    "slideshow": {
     "slide_type": "skip"
    }
   },
   "outputs": [
    {
     "name": "stdout",
     "output_type": "stream",
     "text": [
      "Writing for_class/hurdles.py\n"
     ]
    }
   ],
   "source": [
    "%%file for_class/hurdles.py\n",
    "from byubit import Bit\n",
    "\n",
    "\n",
    "@Bit.worlds('hurdles', 'more-hurdles')\n",
    "def run(bit):\n",
    "    pass\n",
    "\n",
    "run(Bit.new_bit)"
   ]
  },
  {
   "cell_type": "code",
   "execution_count": 21,
   "id": "58794054",
   "metadata": {
    "slideshow": {
     "slide_type": "skip"
    }
   },
   "outputs": [
    {
     "name": "stdout",
     "output_type": "stream",
     "text": [
      "Writing for_class/worlds/hurdles.start.txt\n"
     ]
    }
   ],
   "source": [
    "%%file for_class/worlds/hurdles.start.txt\n",
    "--------------------------\n",
    "--------------------------\n",
    "--------------------------\n",
    "---kkkkk------------------\n",
    "---kkkkk-----kkk--------kk\n",
    "---kkkkk-----kkk---k-----k\n",
    "kkkkkkkkkkkkkkkkkkkkkkkkkk\n",
    "0 1\n",
    "0"
   ]
  },
  {
   "cell_type": "code",
   "execution_count": 23,
   "id": "f354396e",
   "metadata": {
    "slideshow": {
     "slide_type": "skip"
    }
   },
   "outputs": [
    {
     "name": "stdout",
     "output_type": "stream",
     "text": [
      "Writing for_class/worlds/hurdles.finish.txt\n"
     ]
    }
   ],
   "source": [
    "%%file for_class/worlds/hurdles.finish.txt\n",
    "--------------------------\n",
    "--------------------------\n",
    "--ggggggg-----------------\n",
    "--gkkkkkg---ggggg---------\n",
    "--gkkkkkg---gkkkg-ggg---kk\n",
    "gggkkkkkgggggkkkgggkgggggk\n",
    "kkkkkkkkkkkkkkkkkkkkkkkkkk\n",
    "24 1\n",
    "0"
   ]
  },
  {
   "cell_type": "code",
   "execution_count": 24,
   "id": "2701e3c8",
   "metadata": {
    "slideshow": {
     "slide_type": "skip"
    }
   },
   "outputs": [
    {
     "name": "stdout",
     "output_type": "stream",
     "text": [
      "Writing for_class/worlds/more-hurdles.start.txt\n"
     ]
    }
   ],
   "source": [
    "%%file for_class/worlds/more-hurdles.start.txt\n",
    "----------------\n",
    "----------------\n",
    "-kk-k-kk---kk---\n",
    "-kk-k-kk---kk--k\n",
    "-kk-k-kk---kk---\n",
    "kkkkkkkkkkkkkkkk\n",
    "0 1\n",
    "0"
   ]
  },
  {
   "cell_type": "code",
   "execution_count": 25,
   "id": "296ea684",
   "metadata": {
    "slideshow": {
     "slide_type": "skip"
    }
   },
   "outputs": [
    {
     "name": "stdout",
     "output_type": "stream",
     "text": [
      "Writing for_class/worlds/more-hurdles.finish.txt\n"
     ]
    }
   ],
   "source": [
    "%%file for_class/worlds/more-hurdles.finish.txt\n",
    "----------------\n",
    "ggggggggg-gggg--\n",
    "gkkgkgkkg-gkkg--\n",
    "gkkgkgkkg-gkkg-k\n",
    "gkkgkgkkgggkkggg\n",
    "kkkkkkkkkkkkkkkk\n",
    "15 1\n",
    "0"
   ]
  },
  {
   "cell_type": "markdown",
   "id": "2642971c",
   "metadata": {
    "cell_style": "split",
    "slideshow": {
     "slide_type": "slide"
    }
   },
   "source": [
    "<img src='images/hurdles.start.svg' />\n",
    "<img src='images/hurdles.finish.svg' />"
   ]
  },
  {
   "cell_type": "markdown",
   "id": "35290f02",
   "metadata": {
    "cell_style": "split",
    "slideshow": {
     "slide_type": "fragment"
    }
   },
   "source": [
    "- What pattern or strategy best fits this problem?"
   ]
  },
  {
   "cell_type": "markdown",
   "id": "0ef8b012",
   "metadata": {
    "cell_style": "split",
    "slideshow": {
     "slide_type": "fragment"
    }
   },
   "source": [
    "- What verbs would make this problem easy to solve?"
   ]
  },
  {
   "cell_type": "markdown",
   "id": "79421e3d",
   "metadata": {
    "slideshow": {
     "slide_type": "notes"
    }
   },
   "source": [
    "**NOTES**\n",
    "\n",
    "The *event stream* pattern works well: the event is running into a jumpable wall (left clear). The event loop runs until Bit cannot jump anymore.\n",
    "  - You can also use \"up\" and \"drop\" as events with an `if/else` as opposed to a single \"jump hurdle\" event\n",
    "    - But this is a bit tricky: the order of conditions is critical\n",
    "  \n",
    "- Note that \"up\" and \"over\" are similar, vs \"down\"\n"
   ]
  },
  {
   "cell_type": "code",
   "execution_count": 26,
   "id": "59ca7df6",
   "metadata": {
    "slideshow": {
     "slide_type": "skip"
    }
   },
   "outputs": [
    {
     "name": "stdout",
     "output_type": "stream",
     "text": [
      "Overwriting hurdles_solution.py\n"
     ]
    }
   ],
   "source": [
    "%%file hurdles_solution.py\n",
    "# solution\n",
    "from byubit import Bit, use_text_renderer\n",
    "use_text_renderer()\n",
    "\n",
    "\n",
    "def go_green(bit):\n",
    "    \"\"\"\n",
    "    Bit moves forward until blocked, painting green on the way\n",
    "    The first square is not painted; the last square IS painted.\n",
    "    \"\"\"\n",
    "    while bit.front_clear():\n",
    "        bit.move()\n",
    "        bit.paint('green')\n",
    "\n",
    "        \n",
    "def cover_green(bit):\n",
    "    \"\"\"\n",
    "    Bit moves forward until the right side is clear, painting green on the way\n",
    "    The first square is not painted; the last square IS painted.\n",
    "    \"\"\"\n",
    "    while not bit.right_clear():\n",
    "        bit.move()\n",
    "        bit.paint('green')\n",
    "              \n",
    "\n",
    "def jump_hurdle(bit):\n",
    "    \"\"\"\n",
    "    Bit starts at base of hurdle on left side facing right\n",
    "    Bit ends at base of hurdle on right side facing right\n",
    "    \"\"\"\n",
    "    # Up\n",
    "    bit.left()\n",
    "    cover_green(bit)\n",
    "    bit.right()\n",
    "    \n",
    "    # Over\n",
    "    bit.move()\n",
    "    bit.paint('green')\n",
    "    cover_green(bit)\n",
    "    \n",
    "    # Down\n",
    "    bit.right()\n",
    "    go_green(bit)\n",
    "    bit.left()\n",
    "    \n",
    "    bit.snapshot('Hurdle cleared!')\n",
    "\n",
    "    \n",
    "@Bit.worlds('for_class/worlds/hurdles', 'for_class/worlds/more-hurdles')\n",
    "@Bit.pictures('images/', ext='svg', title='Hurdles')\n",
    "def run(bit):\n",
    "    bit.paint('green')\n",
    "    while bit.left_clear():\n",
    "        if bit.front_clear():\n",
    "            bit.move()\n",
    "            bit.paint('green')\n",
    "            # go_green(bit)\n",
    "        else:\n",
    "            jump_hurdle(bit)\n",
    "            \n",
    "run(Bit.new_bit)"
   ]
  },
  {
   "cell_type": "code",
   "execution_count": 28,
   "id": "191539fd",
   "metadata": {
    "slideshow": {
     "slide_type": "skip"
    }
   },
   "outputs": [
    {
     "name": "stdout",
     "output_type": "stream",
     "text": [
      "Saving bit world to images/hurdles.start.svg\n",
      "Saving bit world to images/hurdles.finish.svg\n",
      "Saving bit world to images/more-hurdles.start.svg\n",
      "Saving bit world to images/more-hurdles.finish.svg\n"
     ]
    }
   ],
   "source": [
    "%%bash\n",
    "python hurdles_solution.py \\\n",
    "&& cat hurdles_solution.py \\\n",
    "| grep -v '@Bit.pi' \\\n",
    "| sed -e 's#for_class/worlds/##g' \\\n",
    "| sed -e 's/, use_text_renderer//' \\\n",
    "| sed -e 's/use_text_renderer()//' \\\n",
    "> for_class/hurdles_solution.py"
   ]
  },
  {
   "cell_type": "code",
   "execution_count": 29,
   "id": "e347b36d",
   "metadata": {
    "slideshow": {
     "slide_type": "skip"
    }
   },
   "outputs": [
    {
     "name": "stdout",
     "output_type": "stream",
     "text": [
      "Writing for_class/another_hurdles_solution.py\n"
     ]
    }
   ],
   "source": [
    "%%file for_class/another_hurdles_solution.py\n",
    "# Another hurdles solution\n",
    "# This one is a little trickier than the first\n",
    "# What happens when the order of if/else conditions is changed (i.e. the not front clear block comes first)?\n",
    "# Which solution is easier to understand? This one or the other one? Which seems simpler?\n",
    "\n",
    "from byubit import Bit\n",
    "\n",
    "def jump(bit):\n",
    "    bit.left()\n",
    "    while not bit.right_clear():\n",
    "        bit.move()\n",
    "        bit.paint('green')\n",
    "    bit.right()\n",
    "    bit.move()\n",
    "    bit.paint('green')\n",
    "\n",
    "def fall(bit):\n",
    "    bit.right()\n",
    "    while bit.front_clear():\n",
    "        bit.move()\n",
    "        bit.paint('green')\n",
    "    bit.left()\n",
    "    \n",
    "@Bit.run('hurdles', 'more-hurdles')\n",
    "def run(bit):\n",
    "    bit.paint('green')\n",
    "    while bit.left_clear():\n",
    "        if bit.right_clear():\n",
    "            fall(bit)\n",
    "\n",
    "        elif not bit.front_clear():\n",
    "            jump(bit)\n",
    "        \n",
    "        else:\n",
    "            bit.move()\n",
    "            bit.paint('green')\n",
    "            \n",
    "        "
   ]
  },
  {
   "cell_type": "markdown",
   "id": "7aebf09a",
   "metadata": {
    "slideshow": {
     "slide_type": "slide"
    }
   },
   "source": [
    "## Key Ideas\n",
    "\n",
    "- abstraction: create the pieces that will solve the problem\n",
    "- boundary conditions: knowing how the pieces fit together\n"
   ]
  }
 ],
 "metadata": {
  "celltoolbar": "Slideshow",
  "kernelspec": {
   "display_name": "Python 3 (ipykernel)",
   "language": "python",
   "name": "python3"
  },
  "language_info": {
   "codemirror_mode": {
    "name": "ipython",
    "version": 3
   },
   "file_extension": ".py",
   "mimetype": "text/x-python",
   "name": "python",
   "nbconvert_exporter": "python",
   "pygments_lexer": "ipython3",
   "version": "3.9.13"
  },
  "toc": {
   "base_numbering": 1,
   "nav_menu": {},
   "number_sections": false,
   "sideBar": true,
   "skip_h1_title": true,
   "title_cell": "Table of Contents",
   "title_sidebar": "Contents",
   "toc_cell": false,
   "toc_position": {},
   "toc_section_display": true,
   "toc_window_display": false
  }
 },
 "nbformat": 4,
 "nbformat_minor": 5
}
