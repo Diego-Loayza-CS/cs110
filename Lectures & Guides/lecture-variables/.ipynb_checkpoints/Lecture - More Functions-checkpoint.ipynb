{
 "cells": [
  {
   "cell_type": "markdown",
   "id": "178951f5",
   "metadata": {
    "slideshow": {
     "slide_type": "slide"
    }
   },
   "source": [
    "# More Functions"
   ]
  },
  {
   "cell_type": "markdown",
   "id": "150ed76a",
   "metadata": {
    "slideshow": {
     "slide_type": "skip"
    }
   },
   "source": [
    "- Variables\n",
    "- Multi-parameter functions\n",
    "  - `go(bit, color)`\n",
    "  - `fill(bit, color)`\n",
    "- `==`, `!=`\n",
    "  - `go_to(bit, color)`\n",
    "  - `fly(bit, left, right)`\n",
    "  \n",
    "Possible topics:\n",
    "- passing in boolean flags\n",
    "  - paint_first_square\n",
    "- boolean toggle\n",
    "  - checkerboard theme\n",
    "  - painting mode"
   ]
  },
  {
   "cell_type": "markdown",
   "id": "e7b6019c",
   "metadata": {
    "slideshow": {
     "slide_type": "slide"
    }
   },
   "source": [
    "## Values and Variables"
   ]
  },
  {
   "cell_type": "markdown",
   "id": "ba92b854",
   "metadata": {
    "cell_style": "split",
    "slideshow": {
     "slide_type": "slide"
    }
   },
   "source": [
    "```python\n",
    "7\n",
    "True\n",
    "'blue'\n",
    "```"
   ]
  },
  {
   "cell_type": "markdown",
   "id": "cff414ce",
   "metadata": {
    "cell_style": "split",
    "slideshow": {
     "slide_type": "fragment"
    }
   },
   "source": [
    "<img src='images/heap.svg' />"
   ]
  },
  {
   "cell_type": "markdown",
   "id": "9bfaf795",
   "metadata": {
    "cell_style": "center",
    "slideshow": {
     "slide_type": "slide"
    }
   },
   "source": [
    "```python\n",
    "number = 7\n",
    "is_green = True\n",
    "color = 'blue'\n",
    "```"
   ]
  },
  {
   "cell_type": "markdown",
   "id": "5e51d13b",
   "metadata": {
    "slideshow": {
     "slide_type": "fragment"
    }
   },
   "source": [
    "<img src='images/Variables and Heap (1).svg' />"
   ]
  },
  {
   "cell_type": "markdown",
   "id": "b6036b10",
   "metadata": {
    "slideshow": {
     "slide_type": "slide"
    }
   },
   "source": [
    "Just like with function names, use `_` for compound names.\n",
    "\n",
    "So, use\n",
    "```\n",
    "is_green = True\n",
    "```\n",
    "instead of\n",
    "```\n",
    "isGreen = True\n",
    "```"
   ]
  },
  {
   "cell_type": "markdown",
   "id": "480fa44a",
   "metadata": {
    "slideshow": {
     "slide_type": "slide"
    }
   },
   "source": [
    "```python\n",
    "number = 7\n",
    "is_green = True\n",
    "color = 'blue'\n",
    "another = number\n",
    "```\n",
    "\n",
    "<img src='images/Variables and Heap (2).svg' />"
   ]
  },
  {
   "cell_type": "markdown",
   "id": "eb61721d",
   "metadata": {
    "slideshow": {
     "slide_type": "slide"
    }
   },
   "source": [
    "```python\n",
    "number = 7\n",
    "number = number + 1\n",
    "```"
   ]
  },
  {
   "cell_type": "markdown",
   "id": "c1dc7638",
   "metadata": {
    "cell_style": "split",
    "slideshow": {
     "slide_type": "fragment"
    }
   },
   "source": [
    "<img src='images/Variables and Heap (3).svg' />"
   ]
  },
  {
   "cell_type": "markdown",
   "id": "ac36512b",
   "metadata": {
    "cell_style": "split",
    "slideshow": {
     "slide_type": "fragment"
    }
   },
   "source": [
    "<img src='images/Variables and Heap (4).svg' />"
   ]
  },
  {
   "cell_type": "code",
   "execution_count": null,
   "id": "3ded46e4",
   "metadata": {
    "slideshow": {
     "slide_type": "skip"
    }
   },
   "outputs": [],
   "source": [
    "from byubit import Bit\n",
    "import matplotlib.pyplot as plt\n",
    "\n",
    "@Bit.run_from_empty(5, 3)\n",
    "def run(bit):\n",
    "    bit.draw('empty_bit_world.svg')"
   ]
  },
  {
   "cell_type": "markdown",
   "id": "4fb47aeb",
   "metadata": {
    "slideshow": {
     "slide_type": "notes"
    }
   },
   "source": [
    "**NOTES**\n",
    "\n",
    "The assignment operator `=` is essentially the \"move the arrow to another value\" operator. "
   ]
  },
  {
   "cell_type": "markdown",
   "id": "861ce5ae",
   "metadata": {
    "slideshow": {
     "slide_type": "slide"
    }
   },
   "source": [
    "```python\n",
    "@Bit.run_from_empty(5, 3)\n",
    "def run(bit):\n",
    "    pass\n",
    "```\n",
    "\n",
    "<img src='images/Variables and Heap (6).svg' />\n"
   ]
  },
  {
   "cell_type": "markdown",
   "id": "19c1ebd5",
   "metadata": {
    "slideshow": {
     "slide_type": "notes"
    }
   },
   "source": [
    "**NOTES**\n",
    "\n",
    "Variables defined in a function (either in the function definition or in the function body) are scoped to that function."
   ]
  },
  {
   "cell_type": "markdown",
   "id": "40465147",
   "metadata": {
    "slideshow": {
     "slide_type": "slide"
    }
   },
   "source": [
    "```python\n",
    "def move_twice(bit):\n",
    "    bit.move()\n",
    "    bit.move()\n",
    "\n",
    "@Bit.run_from_empty(5, 3)\n",
    "def run(bit):\n",
    "    move_twice(bit)\n",
    "```"
   ]
  },
  {
   "cell_type": "markdown",
   "id": "5846f45c",
   "metadata": {
    "cell_style": "split",
    "slideshow": {
     "slide_type": "fragment"
    }
   },
   "source": [
    "<img src='images/Variables and Heap (7).svg' />"
   ]
  },
  {
   "cell_type": "markdown",
   "id": "cf995d27",
   "metadata": {
    "cell_style": "split",
    "slideshow": {
     "slide_type": "fragment"
    }
   },
   "source": [
    "<img src='images/Variables and Heap (8).svg'/>"
   ]
  },
  {
   "cell_type": "markdown",
   "id": "5af93fd8",
   "metadata": {
    "slideshow": {
     "slide_type": "notes"
    }
   },
   "source": [
    "**NOTES**\n",
    "\n",
    "You can have variables of the same name in different scopes (e.g. different functions). \n",
    "\n",
    "When a function is called, it has to have values for all the parameters in the function signature (or you get a missing argument exception). \n",
    "\n",
    "The value for `bit` in `run` is provided by the `@Bit.run_from_empty(5, 3)` line. The details about how that works are not important right now.\n",
    "\n",
    "When you call a function, you give values to the variable names defined in the function signature. \n",
    "\n",
    "It's just like calling an assignment operator `=`."
   ]
  },
  {
   "cell_type": "markdown",
   "id": "f1f59a06",
   "metadata": {
    "cell_style": "split",
    "slideshow": {
     "slide_type": "slide"
    }
   },
   "source": [
    "```python\n",
    "def paint_twice(bit, color):\n",
    "    bit.move()\n",
    "    bit.paint(color)\n",
    "    bit.move()\n",
    "    bit.paint(color)\n",
    "    \n",
    "@Bit.run_from_empty(5, 3)\n",
    "def run(bit):\n",
    "    color = 'blue'\n",
    "    paint_twice(bit, color)\n",
    "    \n",
    "    \n",
    "    \n",
    "    \n",
    "    \n",
    "    \n",
    "    \n",
    "```"
   ]
  },
  {
   "cell_type": "markdown",
   "id": "2413868f",
   "metadata": {
    "cell_style": "split",
    "slideshow": {
     "slide_type": "fragment"
    }
   },
   "source": [
    "<img src='images/Variables and Heap (9).svg'/>"
   ]
  },
  {
   "cell_type": "markdown",
   "id": "8cc8115f",
   "metadata": {
    "cell_style": "split",
    "slideshow": {
     "slide_type": "fragment"
    }
   },
   "source": [
    "<img src='images/Variables and Heap (10).svg'/>"
   ]
  },
  {
   "cell_type": "markdown",
   "id": "820ae351",
   "metadata": {
    "slideshow": {
     "slide_type": "notes"
    }
   },
   "source": [
    "**NOTES**\n",
    "\n",
    "Both variables need values for `paint_color` to run.\n",
    "\n",
    "Observe how the arguments are mapped by position."
   ]
  },
  {
   "cell_type": "markdown",
   "id": "1ac7d451",
   "metadata": {
    "cell_style": "split",
    "slideshow": {
     "slide_type": "slide"
    }
   },
   "source": [
    "```python\n",
    "def paint_twice(bit, color):\n",
    "    bit.move()\n",
    "    bit.paint(color)\n",
    "    bit.move()\n",
    "    bit.paint(color)\n",
    "@Bit.run_from_empty(5, 3)\n",
    "def run(bit):\n",
    "    color = 'blue'\n",
    "    paint_twice(bit, color)\n",
    "    paint_twice(bit, 'red')\n",
    "```\n",
    "\n",
    "```\n",
    "\n",
    "\n",
    "\n",
    "\n",
    "\n",
    "\n",
    "\n",
    "\n",
    "\n",
    "\n",
    "\n",
    "\n",
    "\n",
    "\n",
    "\n",
    "\n",
    "\n",
    "\n",
    "\n",
    "\n",
    "\n",
    "\n",
    "\n",
    "\n",
    "```"
   ]
  },
  {
   "cell_type": "markdown",
   "id": "1b038412",
   "metadata": {
    "cell_style": "split",
    "slideshow": {
     "slide_type": "fragment"
    }
   },
   "source": [
    "<div style='width: 500px'>\n",
    "\n",
    "<div style='float: left'><img src='images/Variables and Heap (9).svg' width='250px'/></div>\n",
    "\n",
    "<div style='float: right'><img src='images/Variables and Heap (10).svg' width='250px'/></div>\n",
    "\n",
    "</div>"
   ]
  },
  {
   "cell_type": "markdown",
   "id": "d60e6cf8",
   "metadata": {
    "cell_style": "split",
    "slideshow": {
     "slide_type": "fragment"
    }
   },
   "source": [
    "<img src='images/Variables and Heap (11).svg'/>"
   ]
  },
  {
   "cell_type": "markdown",
   "id": "9b9291d0",
   "metadata": {
    "slideshow": {
     "slide_type": "notes"
    }
   },
   "source": [
    "**NOTES**\n",
    "\n",
    "Note that when the first call to `paint_twice` finishes, its variables are cleared. Then those variables get new values when it is called the second time.\n"
   ]
  },
  {
   "cell_type": "code",
   "execution_count": 11,
   "id": "78a2180d",
   "metadata": {
    "slideshow": {
     "slide_type": "slide"
    }
   },
   "outputs": [
    {
     "data": {
      "image/png": "[encoded data removed]",
      "text/plain": [
       "<Figure size 396x169.714 with 1 Axes>"
      ]
     },
     "metadata": {
      "needs_background": "light"
     },
     "output_type": "display_data"
    }
   ],
   "source": [
    "from byubit import Bit\n",
    "\n",
    "def paint_twice(bit, color):\n",
    "    bit.move()\n",
    "    bit.paint(color)\n",
    "    bit.move()\n",
    "    bit.paint(color)\n",
    "    \n",
    "@Bit.run_from_empty(7, 3)\n",
    "def run(bit):\n",
    "    color = 'blue'\n",
    "    paint_twice(bit, color)\n",
    "    paint_twice(bit, 'red')\n",
    "    paint_twice(bit, color)\n",
    "    "
   ]
  },
  {
   "cell_type": "markdown",
   "id": "c71b49b6",
   "metadata": {
    "slideshow": {
     "slide_type": "notes"
    }
   },
   "source": [
    "**NOTES**\n",
    "\n",
    "Run the code we've been looking at. Observe the result.\n",
    "\n",
    "Note: passing a value by variable reference `paint_twice(bit, color)` vs passing a literal value `paint_twice(bit, 'red')`\n"
   ]
  },
  {
   "cell_type": "code",
   "execution_count": 12,
   "id": "d146894d",
   "metadata": {
    "slideshow": {
     "slide_type": "slide"
    }
   },
   "outputs": [
    {
     "name": "stdout",
     "output_type": "stream",
     "text": [
      "paint_twice() missing 1 required positional argument: 'color'\n"
     ]
    },
    {
     "data": {
      "image/png": "[encoded data removed]",
      "text/plain": [
       "<Figure size 396x237.6 with 1 Axes>"
      ]
     },
     "metadata": {
      "needs_background": "light"
     },
     "output_type": "display_data"
    }
   ],
   "source": [
    "from byubit import Bit\n",
    "\n",
    "def paint_twice(bit, color):\n",
    "    bit.move()\n",
    "    bit.paint(color)\n",
    "    bit.move()\n",
    "    bit.paint(color)\n",
    "    \n",
    "@Bit.run_from_empty(5, 3)\n",
    "def run(bit):\n",
    "    color = 'blue'\n",
    "    paint_twice(bit)"
   ]
  },
  {
   "cell_type": "markdown",
   "id": "ec4dc44f",
   "metadata": {
    "slideshow": {
     "slide_type": "notes"
    }
   },
   "source": [
    "**NOTES**\n",
    "\n",
    "The missing required position argument.\n"
   ]
  },
  {
   "cell_type": "code",
   "execution_count": 13,
   "id": "dc6db3f1",
   "metadata": {
    "cell_style": "split",
    "slideshow": {
     "slide_type": "slide"
    }
   },
   "outputs": [
    {
     "name": "stdout",
     "output_type": "stream",
     "text": [
      "paint_twice() missing 1 required positional argument: 'color'\n"
     ]
    },
    {
     "data": {
      "image/png": "[encoded data removed]",
      "text/plain": [
       "<Figure size 396x237.6 with 1 Axes>"
      ]
     },
     "metadata": {
      "needs_background": "light"
     },
     "output_type": "display_data"
    }
   ],
   "source": [
    "from byubit import Bit\n",
    "\n",
    "def paint_twice(bit, color):\n",
    "    bit.move()\n",
    "    bit.paint(color)\n",
    "    bit.move()\n",
    "    bit.paint(color)\n",
    "    \n",
    "@Bit.run_from_empty(5, 3)\n",
    "def run(bit):\n",
    "    color = 'blue'\n",
    "    paint_twice(color)"
   ]
  },
  {
   "cell_type": "markdown",
   "id": "a7c461f6",
   "metadata": {
    "cell_style": "split",
    "slideshow": {
     "slide_type": "fragment"
    }
   },
   "source": [
    "<img src='images/Variables and Heap (12).svg'  />"
   ]
  },
  {
   "cell_type": "markdown",
   "id": "0a0e180d",
   "metadata": {
    "slideshow": {
     "slide_type": "notes"
    }
   },
   "source": [
    "**NOTES**\n",
    "\n",
    "Which argument did we leave out? `bit` or `color`?\n",
    "\n",
    "Again: the arguments are mapped by position. So, `paint_twice.bit` got the same value as `run.color`.\n",
    "\n",
    "Remember: **the arguments are mapped by position**, not by name.\n"
   ]
  },
  {
   "cell_type": "code",
   "execution_count": 17,
   "id": "a717f444",
   "metadata": {
    "cell_style": "split",
    "slideshow": {
     "slide_type": "slide"
    }
   },
   "outputs": [
    {
     "name": "stdout",
     "output_type": "stream",
     "text": [
      "'str' object has no attribute 'move'\n"
     ]
    },
    {
     "data": {
      "image/png": "[encoded data removed]",
      "text/plain": [
       "<Figure size 396x237.6 with 1 Axes>"
      ]
     },
     "metadata": {
      "needs_background": "light"
     },
     "output_type": "display_data"
    }
   ],
   "source": [
    "from byubit import Bit\n",
    "\n",
    "def paint_twice(bit, color):\n",
    "    bit.move()\n",
    "    bit.paint(color)\n",
    "    bit.move()\n",
    "    bit.paint(color)\n",
    "    \n",
    "@Bit.run_from_empty(5, 3)\n",
    "def run(bit):\n",
    "    color = 'blue'\n",
    "    paint_twice(color, bit)"
   ]
  },
  {
   "cell_type": "markdown",
   "id": "ba206e1c",
   "metadata": {
    "cell_style": "split",
    "slideshow": {
     "slide_type": "fragment"
    }
   },
   "source": [
    "<img src='images/Variables and Heap (13).svg'  />"
   ]
  },
  {
   "cell_type": "markdown",
   "id": "13c1544b",
   "metadata": {
    "slideshow": {
     "slide_type": "slide"
    }
   },
   "source": [
    "<div class='alert alert-info'><b>'thing' object has no attribute 'name'</b> means the value of a variable is not the type you think it is.</div>\n",
    "\n",
    "This is often the result of passing arguments in the wrong order."
   ]
  },
  {
   "cell_type": "markdown",
   "id": "90a5a1c2",
   "metadata": {
    "slideshow": {
     "slide_type": "notes"
    }
   },
   "source": [
    "**NOTES**\n",
    "\n",
    "What does this error mean?\n",
    "\n",
    "Look at the wiring diagram. What was `paint_twice.bit` pointing to when we tried `bit.move()`?\n",
    "\n",
    "`'blue'` is a `str`, and `str` does not have an attribute named `move`.\n",
    "\n",
    "\"'thing' has no attribute named 'name'\" very often means you passed function arguments in the wrong order."
   ]
  },
  {
   "cell_type": "markdown",
   "id": "b22be789",
   "metadata": {
    "slideshow": {
     "slide_type": "slide"
    }
   },
   "source": [
    "## Comparisons"
   ]
  },
  {
   "cell_type": "markdown",
   "id": "3d35020f",
   "metadata": {
    "slideshow": {
     "slide_type": "slide"
    }
   },
   "source": [
    "### Helpful Bit Fact\n",
    "\n",
    "You can get the color of the current square with\n",
    "\n",
    "```python\n",
    "bit.get_color()\n",
    "```"
   ]
  },
  {
   "cell_type": "markdown",
   "id": "9f1370ad",
   "metadata": {
    "slideshow": {
     "slide_type": "slide"
    }
   },
   "source": [
    "### 🎨 `==` and `!=`\n",
    "\n",
    "You can determine if two strings are the same using `==`.\n",
    "\n",
    "You can determine if two strings are different using `!=`."
   ]
  },
  {
   "cell_type": "code",
   "execution_count": null,
   "id": "1346a90a",
   "metadata": {
    "slideshow": {
     "slide_type": "skip"
    }
   },
   "outputs": [],
   "source": [
    "! mkdir -p images worlds"
   ]
  },
  {
   "cell_type": "code",
   "execution_count": null,
   "id": "c07781f7",
   "metadata": {
    "slideshow": {
     "slide_type": "skip"
    }
   },
   "outputs": [],
   "source": [
    "%%file worlds/jump.start.txt\n",
    "------------------\n",
    "------------------\n",
    "--r----b--g----b--\n",
    "------------------\n",
    "------------------\n",
    "0 2\n",
    "0"
   ]
  },
  {
   "cell_type": "code",
   "execution_count": null,
   "id": "51cfe01e",
   "metadata": {
    "slideshow": {
     "slide_type": "skip"
    }
   },
   "outputs": [],
   "source": [
    "from byubit import Bit\n",
    "Bit.load('worlds/jump.start.txt').draw('images/jump.start.svg')"
   ]
  },
  {
   "cell_type": "markdown",
   "id": "fff1bd2f",
   "metadata": {
    "slideshow": {
     "slide_type": "slide"
    }
   },
   "source": [
    "### `jump.py`\n",
    "\n",
    "<img src='images/jump.start.svg' />"
   ]
  },
  {
   "cell_type": "markdown",
   "id": "426837ca",
   "metadata": {
    "slideshow": {
     "slide_type": "notes"
    }
   },
   "source": [
    "**Notes**\n",
    "\n",
    "Step through the code.\n",
    "\n",
    "Note that the comparision operator `!=` (and `==`) do not get their own step in the history.\n",
    "\n",
    "Why doesn't this work?\n",
    "\n",
    "```python\n",
    "current_color = bit.get_color()\n",
    "while current_color != color:\n",
    "    bit.move()\n",
    "```\n",
    "\n"
   ]
  },
  {
   "cell_type": "code",
   "execution_count": 18,
   "id": "5bb17121",
   "metadata": {
    "slideshow": {
     "slide_type": "notes"
    }
   },
   "outputs": [
    {
     "name": "stdout",
     "output_type": "stream",
     "text": [
      "Overwriting jump.py\n"
     ]
    }
   ],
   "source": [
    "%%file jump.py\n",
    "from byubit import Bit\n",
    "\n",
    "def jump(bit, color):\n",
    "    while bit.get_color() != color:\n",
    "        bit.move()\n",
    "    bit.snapshot(f'Jumped to {color}')\n",
    "    \n",
    "@Bit.run('jump')\n",
    "def run(bit):\n",
    "    jump(bit, 'red')\n",
    "    jump(bit, 'blue')\n",
    "    jump(bit, 'green')\n",
    "    jump(bit, 'blue')"
   ]
  },
  {
   "cell_type": "code",
   "execution_count": 19,
   "id": "ef7edf37",
   "metadata": {
    "slideshow": {
     "slide_type": "skip"
    }
   },
   "outputs": [],
   "source": [
    "! python jump.py"
   ]
  },
  {
   "cell_type": "markdown",
   "id": "54cb08b5",
   "metadata": {
    "slideshow": {
     "slide_type": "slide"
    }
   },
   "source": [
    "## 👨🏼‍🎨 Follow the path"
   ]
  },
  {
   "cell_type": "code",
   "execution_count": null,
   "id": "c6fabafe",
   "metadata": {
    "slideshow": {
     "slide_type": "skip"
    }
   },
   "outputs": [],
   "source": [
    "%%file worlds/path.start.txt\n",
    "--------------\n",
    "----bbbbrrb---\n",
    "----g-----b---\n",
    "----g-----b---\n",
    "----g-----gggr\n",
    "rrrrg---------\n",
    "0 0\n",
    "0"
   ]
  },
  {
   "cell_type": "code",
   "execution_count": null,
   "id": "47ebdd71",
   "metadata": {
    "slideshow": {
     "slide_type": "skip"
    }
   },
   "outputs": [],
   "source": [
    "%%file worlds/path.finish.txt\n",
    "--------------\n",
    "----bbbbrrb---\n",
    "----g-----b---\n",
    "----g-----b---\n",
    "----g-----gggr\n",
    "rrrrg---------\n",
    "13 1\n",
    "0"
   ]
  },
  {
   "cell_type": "code",
   "execution_count": null,
   "id": "17777ec2",
   "metadata": {
    "slideshow": {
     "slide_type": "notes"
    }
   },
   "outputs": [],
   "source": [
    "# Solution\n",
    "from byubit import Bit\n",
    "\n",
    "def follow_color(bit):\n",
    "    color = bit.get_color()\n",
    "    while bit.get_color() == color:\n",
    "        bit.move()\n",
    "\n",
    "@Bit.run('path')\n",
    "@Bit.pictures('images/')\n",
    "def run(bit):\n",
    "    while bit.front_clear():\n",
    "        follow_color(bit)\n",
    "        \n",
    "        if bit.get_color() == 'green':\n",
    "            bit.left()\n",
    "        elif bit.get_color() == 'blue':\n",
    "            bit.right()\n",
    "            \n"
   ]
  },
  {
   "cell_type": "markdown",
   "id": "9d44a10a",
   "metadata": {
    "slideshow": {
     "slide_type": "slide"
    }
   },
   "source": [
    "### `follow_the_path.py`\n",
    "\n",
    "Help Bit follow the path.\n",
    "\n",
    "When the path changes to green, turn left.\n",
    "\n",
    "When the path changes to blue, turn right.\n",
    "\n",
    "When the path changes to red, go straight.\n",
    "\n",
    "Stop when you run into something.\n",
    "\n",
    "<img src='images/path.start.png' />"
   ]
  },
  {
   "cell_type": "markdown",
   "id": "4559bd32",
   "metadata": {
    "slideshow": {
     "slide_type": "notes"
    }
   },
   "source": [
    "**NOTES**\n",
    "\n",
    "Pattern: getting a snapshot of initial color (`color = bit.get_color()`) and then comparing back to that dynamically (`bit.get_color() == color`).\n",
    "\n",
    "No `else` block necessary (although you could do `else: pass`)\n"
   ]
  },
  {
   "cell_type": "code",
   "execution_count": null,
   "id": "75ad9709",
   "metadata": {
    "slideshow": {
     "slide_type": "skip"
    }
   },
   "outputs": [],
   "source": [
    "%%file follow_the_path.py\n",
    "from byubit import Bit\n",
    "\n",
    "@Bit.run('path')\n",
    "def run(bit):\n",
    "    # Implement\n",
    "    pass"
   ]
  },
  {
   "cell_type": "markdown",
   "id": "bdcef778",
   "metadata": {
    "slideshow": {
     "slide_type": "slide"
    }
   },
   "source": [
    "## Key Ideas\n",
    "\n",
    "- Values\n",
    "- Variables\n",
    "- Defining and calling functions with multiple arguments\n",
    "- `bit.get_color()`\n",
    "- `==` and `!=`"
   ]
  }
 ],
 "metadata": {
  "celltoolbar": "Slideshow",
  "kernelspec": {
   "display_name": "Python 3 (ipykernel)",
   "language": "python",
   "name": "python3"
  },
  "language_info": {
   "codemirror_mode": {
    "name": "ipython",
    "version": 3
   },
   "file_extension": ".py",
   "mimetype": "text/x-python",
   "name": "python",
   "nbconvert_exporter": "python",
   "pygments_lexer": "ipython3",
   "version": "3.9.13"
  },
  "toc": {
   "base_numbering": 1,
   "nav_menu": {},
   "number_sections": false,
   "sideBar": true,
   "skip_h1_title": true,
   "title_cell": "Table of Contents",
   "title_sidebar": "Contents",
   "toc_cell": false,
   "toc_position": {},
   "toc_section_display": true,
   "toc_window_display": false
  }
 },
 "nbformat": 4,
 "nbformat_minor": 5
}
