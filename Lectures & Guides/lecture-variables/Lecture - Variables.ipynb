{
 "cells": [
  {
   "cell_type": "markdown",
   "id": "119a47d5",
   "metadata": {
    "slideshow": {
     "slide_type": "slide"
    }
   },
   "source": [
    "# Variables"
   ]
  },
  {
   "cell_type": "code",
   "execution_count": null,
   "id": "2f9b80e6",
   "metadata": {
    "slideshow": {
     "slide_type": "skip"
    }
   },
   "outputs": [],
   "source": [
    "!mkdir -p images for_class/worlds"
   ]
  },
  {
   "cell_type": "code",
   "execution_count": null,
   "id": "5dc0713d",
   "metadata": {
    "slideshow": {
     "slide_type": "skip"
    }
   },
   "outputs": [],
   "source": [
    "%%file for_class/go_color.py\n",
    "from byubit import Bit\n",
    "\n",
    "\n",
    "def go(bit, color):\n",
    "    while bit.front_clear():\n",
    "        bit.move()\n",
    "        bit.paint(color)\n",
    "        \n",
    "\n",
    "@Bit.empty_world(5, 3)\n",
    "def lots_of_paint(bit):\n",
    "    go(bit, 'red')\n",
    "    bit.left()\n",
    "    go(bit, 'green')\n",
    "    bit.left()\n",
    "    go(bit, 'blue')\n",
    "    \n",
    "\n",
    "if __name__ == '__main__':\n",
    "    lots_of_paint(Bit.new_bit)\n"
   ]
  },
  {
   "cell_type": "code",
   "execution_count": null,
   "id": "170c9675",
   "metadata": {
    "slideshow": {
     "slide_type": "skip"
    }
   },
   "outputs": [],
   "source": [
    "!cd for_class && python go_color.py && cd .."
   ]
  },
  {
   "cell_type": "markdown",
   "id": "40ba610e",
   "metadata": {
    "slideshow": {
     "slide_type": "slide"
    }
   },
   "source": [
    "### `go_color.py`"
   ]
  },
  {
   "cell_type": "markdown",
   "id": "878057c7",
   "metadata": {
    "slideshow": {
     "slide_type": "notes"
    }
   },
   "source": [
    "**NOTES**\n",
    "\n",
    "- `go` takes two arguments: Bit, and the color to paint\n",
    "- When you call `go`, you need to pass a value for `bit` and a value for `color`\n",
    "  - The arguments are separated by a comma"
   ]
  },
  {
   "cell_type": "code",
   "execution_count": null,
   "id": "910f48e8",
   "metadata": {
    "slideshow": {
     "slide_type": "skip"
    }
   },
   "outputs": [],
   "source": [
    "%%file for_class/color_variables.py\n",
    "from byubit import Bit\n",
    "\n",
    "\n",
    "def paint_two(bit, color):\n",
    "    bit.paint(color)\n",
    "    bit.move()\n",
    "    bit.paint(color)\n",
    "    \n",
    "    \n",
    "def paint_three(bit, color):\n",
    "    paint_two(bit, color)\n",
    "    bit.move()\n",
    "    bit.paint(color)\n",
    "    \n",
    "\n",
    "@Bit.empty_world(5, 3)\n",
    "def run(bit):\n",
    "    first_color = 'red'\n",
    "    second_color = 'blue'\n",
    "    \n",
    "    paint_two(bit, first_color)\n",
    "    bit.move()\n",
    "    paint_three(bit, second_color)\n",
    "    \n",
    "    bit.left()\n",
    "    bit.move()\n",
    "    bit.left()\n",
    "    \n",
    "    paint_two(bit, second_color)\n",
    "    bit.move()\n",
    "    paint_three(bit, first_color)\n",
    "    \n",
    "    \n",
    "if __name__ == '__main__':\n",
    "    run(Bit.new_bit)\n"
   ]
  },
  {
   "cell_type": "code",
   "execution_count": null,
   "id": "e6d315a8",
   "metadata": {
    "slideshow": {
     "slide_type": "skip"
    }
   },
   "outputs": [],
   "source": [
    "!cd for_class && python color_variables.py && cd .."
   ]
  },
  {
   "cell_type": "markdown",
   "id": "e66bc308",
   "metadata": {
    "slideshow": {
     "slide_type": "slide"
    }
   },
   "source": [
    "### `color_variables.py`"
   ]
  },
  {
   "cell_type": "markdown",
   "id": "da58d7df",
   "metadata": {
    "slideshow": {
     "slide_type": "notes"
    }
   },
   "source": [
    "**NOTES**\n",
    "\n",
    "New syntax: variable assignment\n",
    "\n",
    "```\n",
    "first_color = 'red'\n",
    "```\n",
    "\n",
    "Similar to how a function can define variables in the function definition, you can define your own variables anywhere you want.\n",
    "\n",
    "You give these variables a value using the `=` character, known as the **assignment operator**."
   ]
  },
  {
   "cell_type": "markdown",
   "id": "f62fd54f",
   "metadata": {
    "slideshow": {
     "slide_type": "slide"
    }
   },
   "source": [
    "### Helpful Bit Fact\n",
    "\n",
    "Bit can return the name of the color of the square Bit is on with\n",
    "\n",
    "```\n",
    "bit.get_color()\n",
    "```"
   ]
  },
  {
   "cell_type": "code",
   "execution_count": null,
   "id": "7a1ef923",
   "metadata": {
    "slideshow": {
     "slide_type": "skip"
    }
   },
   "outputs": [],
   "source": [
    "%%file for_class/worlds/colors.start.txt\n",
    "-------\n",
    "-------\n",
    "-------\n",
    "-------\n",
    "rgrgbgb\n",
    "0 0 \n",
    "0"
   ]
  },
  {
   "cell_type": "code",
   "execution_count": null,
   "id": "45168bb6",
   "metadata": {
    "slideshow": {
     "slide_type": "skip"
    }
   },
   "outputs": [],
   "source": [
    "%%file for_class/worlds/colors.finish.txt\n",
    "rgrgbgb\n",
    "rgrgbgb\n",
    "rgrgbgb\n",
    "rgrgbgb\n",
    "rgrgbgb\n",
    "6 0 \n",
    "0"
   ]
  },
  {
   "cell_type": "code",
   "execution_count": null,
   "id": "53794091",
   "metadata": {
    "slideshow": {
     "slide_type": "skip"
    }
   },
   "outputs": [],
   "source": [
    "from byubit import Bit, use_text_renderer\n",
    "use_text_renderer()\n",
    "Bit.load('for_class/worlds/colors.start.txt').draw('images/colors.start.svg', message='Colors')\n",
    "Bit.load('for_class/worlds/colors.finish.txt').draw('images/colors.finish.svg', message='Colors')"
   ]
  },
  {
   "cell_type": "code",
   "execution_count": null,
   "id": "ead686dc",
   "metadata": {
    "slideshow": {
     "slide_type": "skip"
    }
   },
   "outputs": [],
   "source": [
    "%%file for_class/fill_colorful.py\n",
    "from byubit import Bit\n",
    "\n",
    "\n",
    "def go(bit, color):\n",
    "    while bit.front_clear():\n",
    "        bit.move()\n",
    "        bit.paint(color)\n",
    "        \n",
    "        \n",
    "def turn_around(bit):\n",
    "    bit.left()\n",
    "    bit.left()\n",
    "    \n",
    "    \n",
    "def fill_column(bit):\n",
    "    bit.left()\n",
    "    color = bit.get_color()\n",
    "    go(bit, color)\n",
    "    turn_around(bit)\n",
    "    go(bit, color)\n",
    "    bit.left()\n",
    "    bit.snapshot(color)\n",
    "\n",
    "    \n",
    "@Bit.worlds('colors')\n",
    "def fill_colorful(bit):\n",
    "    fill_column(bit)\n",
    "    while bit.front_clear():\n",
    "        bit.move()\n",
    "        fill_column(bit)\n",
    "        \n",
    "        \n",
    "if __name__ == '__main__':\n",
    "    fill_colorful(Bit.new_bit)\n"
   ]
  },
  {
   "cell_type": "code",
   "execution_count": null,
   "id": "80a6e125",
   "metadata": {
    "slideshow": {
     "slide_type": "skip"
    }
   },
   "outputs": [],
   "source": [
    "! cd for_class && python fill_colorful.py && cd .."
   ]
  },
  {
   "cell_type": "markdown",
   "id": "3dfa2a7a",
   "metadata": {
    "slideshow": {
     "slide_type": "slide"
    }
   },
   "source": [
    "### `fill_colorful.py`\n",
    "\n",
    "\n",
    "<div style='width: 800px'>\n",
    "    <div style='float:left'><img src='images/colors.start.svg' width='400px'/></div>\n",
    "    <div style='float:right'><img src='images/colors.finish.svg' width='400px'/></div>\n",
    "</div>\n"
   ]
  },
  {
   "cell_type": "markdown",
   "id": "53c92e79",
   "metadata": {
    "slideshow": {
     "slide_type": "notes"
    }
   },
   "source": [
    "**NOTES**\n",
    "\n",
    "- new syntax: assigning a variable a value returned from a function\n",
    "  - `color = bit.get_color()`\n",
    "  - `color` is assigned whatever value `bit.get_color()` returns"
   ]
  },
  {
   "cell_type": "markdown",
   "id": "1caae612",
   "metadata": {
    "slideshow": {
     "slide_type": "slide"
    }
   },
   "source": [
    "## 👨🏽‍🎨 Color T"
   ]
  },
  {
   "cell_type": "code",
   "execution_count": null,
   "id": "685a1908",
   "metadata": {
    "slideshow": {
     "slide_type": "skip"
    }
   },
   "outputs": [],
   "source": [
    "%%file for_class/worlds/color_tt.start.txt\n",
    "rgb-------\n",
    "----------\n",
    "----------\n",
    "----------\n",
    "0 3\n",
    "0"
   ]
  },
  {
   "cell_type": "code",
   "execution_count": null,
   "id": "7623d3af",
   "metadata": {
    "slideshow": {
     "slide_type": "skip"
    }
   },
   "outputs": [],
   "source": [
    "%%file for_class/worlds/color_tt.finish.txt\n",
    "----------\n",
    "rrrgggbbb-\n",
    "-r--g--b--\n",
    "-r--g--b--\n",
    "9 0\n",
    "0"
   ]
  },
  {
   "cell_type": "code",
   "execution_count": null,
   "id": "1bd0b9b5",
   "metadata": {
    "slideshow": {
     "slide_type": "skip"
    }
   },
   "outputs": [],
   "source": [
    "%%file for_class/worlds/color_tt2.start.txt\n",
    "brg-------\n",
    "----------\n",
    "----------\n",
    "----------\n",
    "0 3\n",
    "0"
   ]
  },
  {
   "cell_type": "code",
   "execution_count": null,
   "id": "e9ca37a0",
   "metadata": {
    "slideshow": {
     "slide_type": "skip"
    }
   },
   "outputs": [],
   "source": [
    "%%file for_class/worlds/color_tt2.finish.txt\n",
    "----------\n",
    "bbbrrrggg-\n",
    "-b--r--g--\n",
    "-b--r--g--\n",
    "9 0\n",
    "0"
   ]
  },
  {
   "cell_type": "code",
   "execution_count": null,
   "id": "cc303d5e",
   "metadata": {
    "slideshow": {
     "slide_type": "skip"
    }
   },
   "outputs": [],
   "source": [
    "%%file color_tt_solution.py\n",
    "from byubit import Bit, use_text_renderer\n",
    "use_text_renderer()\n",
    "\n",
    "\n",
    "def get_next_color(bit):\n",
    "    color = bit.get_color()\n",
    "    bit.erase()\n",
    "    bit.move()\n",
    "    return color\n",
    "\n",
    "\n",
    "def go(bit):\n",
    "    \"\"\"Go until blocked in front.\"\"\"\n",
    "    while bit.front_clear():\n",
    "        bit.move()\n",
    "\n",
    "\n",
    "def go_to_start(bit):\n",
    "    \"\"\"Bit starts anywhere on the board and ends in the bottom left corner facing right.\"\"\"\n",
    "    bit.left()\n",
    "    bit.left()\n",
    "    go(bit)\n",
    "    bit.left()\n",
    "    go(bit)\n",
    "    bit.left()\n",
    "    \n",
    "\n",
    "def paint_t(bit, color):\n",
    "    \"\"\"Paint a T. Start in the bottom left of the 3x3 box. End just outside the bottom right of the 3x3 box.\"\"\"\n",
    "    bit.move()\n",
    "    bit.left()\n",
    "    bit.paint(color)\n",
    "    bit.move()\n",
    "    bit.paint(color)\n",
    "    bit.move()\n",
    "    bit.left()\n",
    "    bit.move()\n",
    "    bit.left()\n",
    "    bit.left()\n",
    "    bit.paint(color)\n",
    "    bit.move()\n",
    "    bit.paint(color)\n",
    "    bit.move()\n",
    "    bit.paint(color)\n",
    "    bit.right()\n",
    "    bit.move()\n",
    "    bit.move()\n",
    "    bit.left()\n",
    "    bit.move()\n",
    "    bit.snapshot('T painted')\n",
    "    \n",
    "\n",
    "@Bit.worlds('for_class/worlds/color_tt', 'for_class/worlds/color_tt2')\n",
    "@Bit.pictures('images/', ext='svg', title='Color Ts')\n",
    "def run(bit):\n",
    "    # Get colors\n",
    "    first_color = get_next_color(bit)\n",
    "    second_color = get_next_color(bit)    \n",
    "    third_color = get_next_color(bit)\n",
    "    \n",
    "    bit.snapshot('Got colors')\n",
    "    \n",
    "    go_to_start(bit)\n",
    "    bit.snapshot('At start')\n",
    "    \n",
    "    paint_t(bit, first_color)\n",
    "    paint_t(bit, second_color)\n",
    "    paint_t(bit, third_color)\n",
    "    \n",
    "\n",
    "if __name__ == '__main__':\n",
    "    run(Bit.new_bit)\n"
   ]
  },
  {
   "cell_type": "code",
   "execution_count": null,
   "id": "36e9edc8",
   "metadata": {
    "slideshow": {
     "slide_type": "skip"
    }
   },
   "outputs": [],
   "source": [
    "%%bash\n",
    "python color_tt_solution.py \\\n",
    "&& cat color_tt_solution.py \\\n",
    "| grep -v '@Bit.pi' \\\n",
    "| sed -e 's#for_class/worlds/##g' \\\n",
    "| sed -e 's/, use_text_renderer//' \\\n",
    "| sed -e 's/use_text_renderer()//' \\\n",
    "> for_class/color_tt_solution.py"
   ]
  },
  {
   "cell_type": "markdown",
   "id": "0beb54fa",
   "metadata": {
    "slideshow": {
     "slide_type": "slide"
    }
   },
   "source": [
    "<img src='images/color_tt.start.svg' />\n",
    "<img src='images/color_tt.finish.svg' />\n",
    "\n",
    "### `color_tt.py`"
   ]
  },
  {
   "cell_type": "code",
   "execution_count": null,
   "id": "4e4651cf",
   "metadata": {
    "slideshow": {
     "slide_type": "skip"
    }
   },
   "outputs": [],
   "source": [
    "%%file for_class/color_tt.py\n",
    "from byubit import Bit\n",
    "\n",
    "\n",
    "def get_next_color(bit):\n",
    "    color = bit.get_color()\n",
    "    bit.erase()\n",
    "    bit.move()\n",
    "    return color\n",
    "\n",
    "\n",
    "def go(bit):\n",
    "    \"\"\"Go until blocked in front.\"\"\"\n",
    "    while bit.front_clear():\n",
    "        bit.move()\n",
    "\n",
    "\n",
    "def go_to_start(bit):\n",
    "    \"\"\"Bit starts anywhere on the board and ends in the bottom left corner facing right.\"\"\"\n",
    "    bit.left()\n",
    "    bit.left()\n",
    "    go(bit)\n",
    "    bit.left()\n",
    "    go(bit)\n",
    "    bit.left()\n",
    "    \n",
    "\n",
    "def paint_t(bit, color):\n",
    "    \"\"\"Paint a T. Start in the bottom left of the 3x3 box. End just outside the bottom right of the 3x3 box.\"\"\"\n",
    "    bit.move()\n",
    "    bit.left()\n",
    "    bit.paint(color)\n",
    "    bit.move()\n",
    "    bit.paint(color)\n",
    "    bit.move()\n",
    "    bit.left()\n",
    "    bit.move()\n",
    "    bit.left()\n",
    "    bit.left()\n",
    "    bit.paint(color)\n",
    "    bit.move()\n",
    "    bit.paint(color)\n",
    "    bit.move()\n",
    "    bit.paint(color)\n",
    "    bit.right()\n",
    "    bit.move()\n",
    "    bit.move()\n",
    "    bit.left()\n",
    "    bit.move()\n",
    "    bit.snapshot('T painted')\n",
    "    \n",
    "    \n",
    "@Bit.worlds('color_tt', 'color_tt2')\n",
    "def run(bit):\n",
    "    pass\n",
    "    \n",
    "\n",
    "if __name__ == '__main__':\n",
    "    run(Bit.new_bit)\n"
   ]
  },
  {
   "cell_type": "markdown",
   "id": "00f91feb",
   "metadata": {
    "slideshow": {
     "slide_type": "slide"
    }
   },
   "source": [
    "## 👨🏽‍🎨 `sky.py`"
   ]
  },
  {
   "cell_type": "markdown",
   "id": "f7b111c2",
   "metadata": {},
   "source": [
    "<img src='images/sky.start.svg' />\n",
    "\n",
    "<img src='images/sky.finish.svg' />"
   ]
  },
  {
   "cell_type": "markdown",
   "id": "9abdbcc3",
   "metadata": {
    "slideshow": {
     "slide_type": "slide"
    }
   },
   "source": [
    "<img src='images/more-sky.start.svg' />\n",
    "\n",
    "<img src='images/more-sky.finish.svg' />"
   ]
  },
  {
   "cell_type": "code",
   "execution_count": null,
   "id": "7973f278",
   "metadata": {
    "slideshow": {
     "slide_type": "skip"
    }
   },
   "outputs": [],
   "source": [
    "%%file for_class/worlds/sky.start.txt\n",
    "--------------------\n",
    "--------------------\n",
    "--------------------\n",
    "--------------------\n",
    "---rbb----bbbb------\n",
    "rrrkkkggggkkkkrrrrgg\n",
    "kkkkkkkkkkkkkkkkkkkk\n",
    "0 5\n",
    "0"
   ]
  },
  {
   "cell_type": "code",
   "execution_count": null,
   "id": "9fa56717",
   "metadata": {
    "slideshow": {
     "slide_type": "skip"
    }
   },
   "outputs": [],
   "source": [
    "%%file for_class/worlds/sky.finish.txt\n",
    "--------------------\n",
    "rrrrbbggggbbbbrrrrgg\n",
    "--------------------\n",
    "--------------------\n",
    "---rbb----bbbb------\n",
    "rrrkkkggggkkkkrrrrgg\n",
    "kkkkkkkkkkkkkkkkkkkk\n",
    "19 5\n",
    "0"
   ]
  },
  {
   "cell_type": "code",
   "execution_count": null,
   "id": "3b3dbd83",
   "metadata": {
    "slideshow": {
     "slide_type": "skip"
    }
   },
   "outputs": [],
   "source": [
    "%%file for_class/worlds/more-sky.start.txt\n",
    "---------------------\n",
    "---------------------\n",
    "---------------------\n",
    "--r-------r-------r--\n",
    "-bkb-----bkb-----bkb-\n",
    "gkkkg----kkk----gkkkg\n",
    "kkkkkg---kkk---gkkkkk\n",
    "kkkkkkgggkkkgggkkkkkk\n",
    "kkkkkkkkkkkkkkkkkkkkk\n",
    "0 6\n",
    "0"
   ]
  },
  {
   "cell_type": "code",
   "execution_count": null,
   "id": "9d23a8f0",
   "metadata": {
    "slideshow": {
     "slide_type": "skip"
    }
   },
   "outputs": [],
   "source": [
    "%%file for_class/worlds/more-sky.finish.txt\n",
    "---------------------\n",
    "---------------------\n",
    "bgrgbbbbbgrgbbbbbgrgb\n",
    "--r-------r-------r--\n",
    "-bkb-----bkb-----bkb-\n",
    "gkkkg----kkk----gkkkg\n",
    "kkkkkg---kkk---gkkkkk\n",
    "kkkkkkgggkkkgggkkkkkk\n",
    "kkkkkkkkkkkkkkkkkkkkk\n",
    "20 6\n",
    "0"
   ]
  },
  {
   "cell_type": "code",
   "execution_count": null,
   "id": "004b1962",
   "metadata": {
    "slideshow": {
     "slide_type": "skip"
    }
   },
   "outputs": [],
   "source": [
    "%%file sky_solution.py\n",
    "from byubit import Bit, use_text_renderer\n",
    "use_text_renderer()\n",
    "\n",
    "def go(bit):\n",
    "    while bit.front_clear():\n",
    "        bit.move()\n",
    "\n",
    "\n",
    "def get_ground_color(bit):\n",
    "    # Set the marker\n",
    "    bit.paint('blue')\n",
    "\n",
    "    # Go to ground\n",
    "    bit.right()\n",
    "    go(bit)\n",
    "\n",
    "    # Get the ground color\n",
    "    color = bit.get_color()\n",
    "    bit.snapshot(color)\n",
    "\n",
    "    # Go back to marker\n",
    "    bit.left()\n",
    "    bit.left()\n",
    "    bit.move()\n",
    "    while not bit.is_blue():\n",
    "        bit.move()\n",
    "    bit.right()\n",
    "\n",
    "    # Return the color\n",
    "    return color\n",
    "\n",
    "\n",
    "def paint_the_cloud(bit):\n",
    "    color = get_ground_color(bit)\n",
    "    bit.paint(color)\n",
    "    bit.snapshot(color)\n",
    "\n",
    "\n",
    "@Bit.worlds('for_class/worlds/sky', 'for_class/worlds/more-sky')\n",
    "@Bit.pictures('images/', ext='svg', title='Sky')\n",
    "def main(bit):\n",
    "    while bit.front_clear():\n",
    "        paint_the_cloud(bit)\n",
    "        bit.move()\n",
    "    paint_the_cloud(bit)\n",
    "\n",
    "\n",
    "if __name__ == '__main__':\n",
    "    main(Bit.new_bit)\n"
   ]
  },
  {
   "cell_type": "code",
   "execution_count": null,
   "id": "614bd426",
   "metadata": {
    "slideshow": {
     "slide_type": "skip"
    }
   },
   "outputs": [],
   "source": [
    "%%bash\n",
    "python sky_solution.py \\\n",
    "&& cat sky_solution.py \\\n",
    "| grep -v '@Bit.pi' \\\n",
    "| sed -e 's#for_class/worlds/##g' \\\n",
    "| sed -e 's/, use_text_renderer//' \\\n",
    "| sed -e 's/use_text_renderer()//' \\\n",
    "> for_class/sky_solution.py"
   ]
  },
  {
   "cell_type": "code",
   "execution_count": null,
   "id": "40309ade",
   "metadata": {
    "slideshow": {
     "slide_type": "skip"
    }
   },
   "outputs": [],
   "source": [
    "%%file for_class/sky.py\n",
    "from byubit import Bit\n",
    "\n",
    "\n",
    "@Bit.worlds('sky', 'more-sky')\n",
    "def main(bit):\n",
    "    pass\n",
    "\n",
    "\n",
    "if __name__ == '__main__':\n",
    "    main(Bit.new_bit)\n"
   ]
  },
  {
   "cell_type": "markdown",
   "id": "28fb335d",
   "metadata": {
    "slideshow": {
     "slide_type": "slide"
    }
   },
   "source": [
    "## Key Ideas\n",
    "\n",
    "- Functions with multiple arguments\n",
    "- Variables\n",
    "  - Assigning a static value (e.g. `color = 'blue'`)\n",
    "  - Assigning a value returned from a function (e.g. `color = bit.get_color()`)\n"
   ]
  }
 ],
 "metadata": {
  "celltoolbar": "Slideshow",
  "kernelspec": {
   "display_name": "Python 3 (ipykernel)",
   "language": "python",
   "name": "python3"
  },
  "language_info": {
   "codemirror_mode": {
    "name": "ipython",
    "version": 3
   },
   "file_extension": ".py",
   "mimetype": "text/x-python",
   "name": "python",
   "nbconvert_exporter": "python",
   "pygments_lexer": "ipython3",
   "version": "3.11.5"
  },
  "toc": {
   "base_numbering": 1,
   "nav_menu": {},
   "number_sections": false,
   "sideBar": true,
   "skip_h1_title": true,
   "title_cell": "Table of Contents",
   "title_sidebar": "Contents",
   "toc_cell": false,
   "toc_position": {},
   "toc_section_display": true,
   "toc_window_display": false
  }
 },
 "nbformat": 4,
 "nbformat_minor": 5
}
