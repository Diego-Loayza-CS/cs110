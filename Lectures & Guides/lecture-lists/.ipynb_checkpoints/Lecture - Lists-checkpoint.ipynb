{
 "cells": [
  {
   "cell_type": "markdown",
   "id": "f3f4ecf7",
   "metadata": {
    "pycharm": {
     "name": "#%% md\n"
    },
    "slideshow": {
     "slide_type": "slide"
    }
   },
   "source": [
    "# Lists"
   ]
  },
  {
   "cell_type": "code",
   "execution_count": null,
   "id": "17e72a54",
   "metadata": {
    "pycharm": {
     "name": "#%%\n"
    },
    "slideshow": {
     "slide_type": "skip"
    }
   },
   "outputs": [],
   "source": [
    "!mkdir for_class"
   ]
  },
  {
   "cell_type": "markdown",
   "id": "a71e13b5",
   "metadata": {
    "slideshow": {
     "slide_type": "slide"
    }
   },
   "source": [
    "## 🎨 Arithmetic Operators"
   ]
  },
  {
   "cell_type": "code",
   "execution_count": 6,
   "id": "d89788df",
   "metadata": {
    "slideshow": {
     "slide_type": "slide"
    }
   },
   "outputs": [
    {
     "data": {
      "text/plain": [
       "9"
      ]
     },
     "execution_count": 6,
     "metadata": {},
     "output_type": "execute_result"
    }
   ],
   "source": [
    "7 + 2"
   ]
  },
  {
   "cell_type": "code",
   "execution_count": 7,
   "id": "16d792c5",
   "metadata": {},
   "outputs": [
    {
     "data": {
      "text/plain": [
       "5"
      ]
     },
     "execution_count": 7,
     "metadata": {},
     "output_type": "execute_result"
    }
   ],
   "source": [
    "7 - 2"
   ]
  },
  {
   "cell_type": "code",
   "execution_count": 8,
   "id": "d148cbd2",
   "metadata": {
    "slideshow": {
     "slide_type": "slide"
    }
   },
   "outputs": [
    {
     "data": {
      "text/plain": [
       "14"
      ]
     },
     "execution_count": 8,
     "metadata": {},
     "output_type": "execute_result"
    }
   ],
   "source": [
    "7 * 2"
   ]
  },
  {
   "cell_type": "code",
   "execution_count": 9,
   "id": "bf9aec76",
   "metadata": {
    "slideshow": {
     "slide_type": "fragment"
    }
   },
   "outputs": [
    {
     "data": {
      "text/plain": [
       "49"
      ]
     },
     "execution_count": 9,
     "metadata": {},
     "output_type": "execute_result"
    }
   ],
   "source": [
    "7 ** 2"
   ]
  },
  {
   "cell_type": "markdown",
   "id": "44910812",
   "metadata": {
    "slideshow": {
     "slide_type": "fragment"
    }
   },
   "source": [
    "`7 ** 2` is $ 7 ^ 2 $"
   ]
  },
  {
   "cell_type": "code",
   "execution_count": 10,
   "id": "2ccece7c",
   "metadata": {
    "slideshow": {
     "slide_type": "slide"
    }
   },
   "outputs": [
    {
     "data": {
      "text/plain": [
       "3.5"
      ]
     },
     "execution_count": 10,
     "metadata": {},
     "output_type": "execute_result"
    }
   ],
   "source": [
    "7 / 2"
   ]
  },
  {
   "cell_type": "code",
   "execution_count": 11,
   "id": "f971d9fe",
   "metadata": {
    "slideshow": {
     "slide_type": "fragment"
    }
   },
   "outputs": [
    {
     "data": {
      "text/plain": [
       "3"
      ]
     },
     "execution_count": 11,
     "metadata": {},
     "output_type": "execute_result"
    }
   ],
   "source": [
    "7 // 2"
   ]
  },
  {
   "cell_type": "code",
   "execution_count": 12,
   "id": "c134a2ef",
   "metadata": {
    "slideshow": {
     "slide_type": "fragment"
    }
   },
   "outputs": [
    {
     "data": {
      "text/plain": [
       "1"
      ]
     },
     "execution_count": 12,
     "metadata": {},
     "output_type": "execute_result"
    }
   ],
   "source": [
    "7 % 2"
   ]
  },
  {
   "cell_type": "markdown",
   "id": "fc5d5ebe",
   "metadata": {
    "slideshow": {
     "slide_type": "fragment"
    }
   },
   "source": [
    "$\\frac{7}{2} = 3r1$\n",
    "\n",
    "`7 // 2` gives us the $3$\n",
    "\n",
    "`7 % 2` gives us the $1$ (the *remainder*)"
   ]
  },
  {
   "cell_type": "markdown",
   "id": "7fbe3c36",
   "metadata": {
    "slideshow": {
     "slide_type": "slide"
    }
   },
   "source": [
    "## 🎨 Comparisons"
   ]
  },
  {
   "cell_type": "code",
   "execution_count": 13,
   "id": "b3313aa5",
   "metadata": {
    "slideshow": {
     "slide_type": "slide"
    }
   },
   "outputs": [
    {
     "data": {
      "text/plain": [
       "True"
      ]
     },
     "execution_count": 13,
     "metadata": {},
     "output_type": "execute_result"
    }
   ],
   "source": [
    "2 > 1"
   ]
  },
  {
   "cell_type": "code",
   "execution_count": 14,
   "id": "f6da8376",
   "metadata": {},
   "outputs": [
    {
     "data": {
      "text/plain": [
       "False"
      ]
     },
     "execution_count": 14,
     "metadata": {},
     "output_type": "execute_result"
    }
   ],
   "source": [
    "2 > 2"
   ]
  },
  {
   "cell_type": "code",
   "execution_count": 15,
   "id": "16249654",
   "metadata": {},
   "outputs": [
    {
     "data": {
      "text/plain": [
       "True"
      ]
     },
     "execution_count": 15,
     "metadata": {},
     "output_type": "execute_result"
    }
   ],
   "source": [
    "2 <= 2"
   ]
  },
  {
   "cell_type": "code",
   "execution_count": 16,
   "id": "19abbe4e",
   "metadata": {
    "slideshow": {
     "slide_type": "slide"
    }
   },
   "outputs": [
    {
     "data": {
      "text/plain": [
       "True"
      ]
     },
     "execution_count": 16,
     "metadata": {},
     "output_type": "execute_result"
    }
   ],
   "source": [
    "2 >= 2"
   ]
  },
  {
   "cell_type": "code",
   "execution_count": 17,
   "id": "0cbabe93",
   "metadata": {
    "slideshow": {
     "slide_type": "slide"
    }
   },
   "outputs": [
    {
     "data": {
      "text/plain": [
       "True"
      ]
     },
     "execution_count": 17,
     "metadata": {},
     "output_type": "execute_result"
    }
   ],
   "source": [
    "4 == 4"
   ]
  },
  {
   "cell_type": "code",
   "execution_count": 18,
   "id": "5d7b6a3a",
   "metadata": {},
   "outputs": [
    {
     "data": {
      "text/plain": [
       "True"
      ]
     },
     "execution_count": 18,
     "metadata": {},
     "output_type": "execute_result"
    }
   ],
   "source": [
    "4 != 6 "
   ]
  },
  {
   "cell_type": "markdown",
   "id": "3daddf57",
   "metadata": {
    "pycharm": {
     "name": "#%% md\n"
    },
    "slideshow": {
     "slide_type": "skip"
    }
   },
   "source": [
    "- syntax\n",
    "  - list literals (empty, full)\n",
    "  - `len`\n",
    "- building a list\n",
    "  - `.append()`\n",
    "- `for ... in ...`"
   ]
  },
  {
   "cell_type": "markdown",
   "id": "d77599d9",
   "metadata": {
    "slideshow": {
     "slide_type": "slide"
    }
   },
   "source": [
    "## 🎨 `None`"
   ]
  },
  {
   "cell_type": "markdown",
   "id": "b6effb48",
   "metadata": {
    "slideshow": {
     "slide_type": "slide"
    }
   },
   "source": [
    "What is the value of a variable that doesn't have a value?\n",
    "\n",
    "What does a function return when it doesn't `return` anything?"
   ]
  },
  {
   "cell_type": "code",
   "execution_count": 23,
   "id": "f4f8e0b6",
   "metadata": {
    "slideshow": {
     "slide_type": "slide"
    }
   },
   "outputs": [
    {
     "name": "stdout",
     "output_type": "stream",
     "text": [
      "This function doesn't return anything.\n",
      "the value is: None\n"
     ]
    }
   ],
   "source": [
    "def no_return():\n",
    "    print('This function doesn\\'t return anything.')\n",
    "    \n",
    "\n",
    "value = no_return()\n",
    "\n",
    "print('the value is:', value)"
   ]
  },
  {
   "cell_type": "code",
   "execution_count": 20,
   "id": "a45c9dfe",
   "metadata": {
    "slideshow": {
     "slide_type": "fragment"
    }
   },
   "outputs": [
    {
     "data": {
      "text/plain": [
       "NoneType"
      ]
     },
     "execution_count": 20,
     "metadata": {},
     "output_type": "execute_result"
    }
   ],
   "source": [
    "type(value)"
   ]
  },
  {
   "cell_type": "markdown",
   "id": "be2378d1",
   "metadata": {
    "slideshow": {
     "slide_type": "slide"
    }
   },
   "source": [
    "`None` is what Python uses to communicate *nothing*. \n",
    "\n",
    "It's what you use to indicate that you don't have any information."
   ]
  },
  {
   "cell_type": "code",
   "execution_count": 24,
   "id": "ab7a457b",
   "metadata": {
    "slideshow": {
     "slide_type": "slide"
    }
   },
   "outputs": [
    {
     "data": {
      "text/plain": [
       "False"
      ]
     },
     "execution_count": 24,
     "metadata": {},
     "output_type": "execute_result"
    }
   ],
   "source": [
    "thing = 8\n",
    "thing is None"
   ]
  },
  {
   "cell_type": "code",
   "execution_count": 25,
   "id": "620b4fe6",
   "metadata": {},
   "outputs": [
    {
     "data": {
      "text/plain": [
       "True"
      ]
     },
     "execution_count": 25,
     "metadata": {},
     "output_type": "execute_result"
    }
   ],
   "source": [
    "thing = None\n",
    "thing is None"
   ]
  },
  {
   "cell_type": "markdown",
   "id": "0721f4e7",
   "metadata": {},
   "source": [
    "To determine whether a variable is `None`, use the `is None` expression."
   ]
  },
  {
   "cell_type": "code",
   "execution_count": 26,
   "id": "17b7c9ce",
   "metadata": {
    "slideshow": {
     "slide_type": "slide"
    }
   },
   "outputs": [
    {
     "data": {
      "text/plain": [
       "True"
      ]
     },
     "execution_count": 26,
     "metadata": {},
     "output_type": "execute_result"
    }
   ],
   "source": [
    "thing = 9\n",
    "thing is not None"
   ]
  },
  {
   "cell_type": "markdown",
   "id": "e21fdf7e",
   "metadata": {},
   "source": [
    "To determine whether a variable is *not* `None`, use the `is not None` expression."
   ]
  },
  {
   "cell_type": "markdown",
   "id": "682ba337",
   "metadata": {
    "pycharm": {
     "name": "#%% md\n"
    },
    "slideshow": {
     "slide_type": "slide"
    }
   },
   "source": [
    "## 🎨 `[]`\n",
    "\n",
    "## 🖌 `.append(...)`\n",
    "\n",
    "> __*append*__: to put after, to place at the end"
   ]
  },
  {
   "cell_type": "code",
   "execution_count": 29,
   "id": "46beb2e9",
   "metadata": {
    "pycharm": {
     "name": "#%%\n"
    },
    "slideshow": {
     "slide_type": "slide"
    }
   },
   "outputs": [
    {
     "name": "stdout",
     "output_type": "stream",
     "text": [
      "Give me a name: yes\n",
      "['Harold', 'Bob', 'Jamal', 'Seth', 'Slade', 'Nate', 'Isaac', 'No']\n",
      "Give me a name: \n",
      "['Harold', 'Bob', 'Jamal', 'Seth', 'Slade', 'Nate', 'Isaac', 'No']\n"
     ]
    }
   ],
   "source": [
    "nombres = []\n",
    "while True:\n",
    "    name = input(\"Give me a name: \")\n",
    "    if name == '':\n",
    "        break\n",
    "    nombres.append(name)\n",
    "    print(names)\n",
    "\n",
    "print(names)\n"
   ]
  },
  {
   "cell_type": "markdown",
   "id": "565ef322",
   "metadata": {
    "pycharm": {
     "name": "#%% md\n"
    },
    "slideshow": {
     "slide_type": "notes"
    }
   },
   "source": [
    "- `[]` creates an empty list\n",
    "- `.append(...)` adds the item to the list\n",
    "- you can see the contents by printing the list\n",
    "  - Note the commas\n",
    "- What happens when you enter no names (enter '' the first time)?"
   ]
  },
  {
   "cell_type": "code",
   "execution_count": 30,
   "id": "9df265a0",
   "metadata": {
    "pycharm": {
     "name": "#%%\n"
    },
    "slideshow": {
     "slide_type": "slide"
    }
   },
   "outputs": [
    {
     "name": "stdout",
     "output_type": "stream",
     "text": [
      "['Julia', 'Juan', 'George', 'Gina']\n"
     ]
    }
   ],
   "source": [
    "names = ['Julia', 'Juan', 'George', 'Gina']\n",
    "print(names)"
   ]
  },
  {
   "cell_type": "markdown",
   "id": "abaf16fa",
   "metadata": {
    "pycharm": {
     "name": "#%% md\n"
    },
    "slideshow": {
     "slide_type": "notes"
    }
   },
   "source": [
    "You can define a list with initial contents."
   ]
  },
  {
   "cell_type": "code",
   "execution_count": 31,
   "id": "5ed3b3f8",
   "metadata": {
    "pycharm": {
     "name": "#%%\n"
    },
    "slideshow": {
     "slide_type": "slide"
    }
   },
   "outputs": [
    {
     "name": "stdout",
     "output_type": "stream",
     "text": [
      "Give me a name: Brigham\n",
      "Give me a name: Joe\n",
      "Give me a name: Franklin\n",
      "Give me a name: \n",
      "['Julia', 'Juan', 'George', 'Gina', 'Brigham', 'Joe', 'Franklin']\n"
     ]
    }
   ],
   "source": [
    "names = ['Julia', 'Juan', 'George', 'Gina']\n",
    "while True:\n",
    "    name = input(\"Give me a name: \")\n",
    "    if name == '':\n",
    "        break\n",
    "    names.append(name)\n",
    "    \n",
    "print(names)"
   ]
  },
  {
   "cell_type": "markdown",
   "id": "1b1e4c11",
   "metadata": {
    "pycharm": {
     "name": "#%% md\n"
    },
    "slideshow": {
     "slide_type": "notes"
    }
   },
   "source": [
    "You can add to a list that started with contents already."
   ]
  },
  {
   "cell_type": "markdown",
   "id": "2d47e1b5",
   "metadata": {
    "pycharm": {
     "name": "#%% md\n"
    },
    "slideshow": {
     "slide_type": "slide"
    }
   },
   "source": [
    "## 🎨 `len`"
   ]
  },
  {
   "cell_type": "code",
   "execution_count": 34,
   "id": "eb5f718f",
   "metadata": {
    "pycharm": {
     "name": "#%%\n"
    },
    "slideshow": {
     "slide_type": "slide"
    }
   },
   "outputs": [
    {
     "name": "stdout",
     "output_type": "stream",
     "text": [
      "4\n",
      "4\n"
     ]
    }
   ],
   "source": [
    "fruit = ['apple', 'peach', 'pear', 'açaí']\n",
    "how_many = len(fruit)\n",
    "print(how_many)\n",
    "print(len(fruit))"
   ]
  },
  {
   "cell_type": "markdown",
   "id": "356479c3",
   "metadata": {
    "pycharm": {
     "name": "#%% md\n"
    },
    "slideshow": {
     "slide_type": "notes"
    }
   },
   "source": [
    "You can find the length, or size, of a list using the `len` function."
   ]
  },
  {
   "cell_type": "markdown",
   "id": "ff386393",
   "metadata": {
    "pycharm": {
     "name": "#%% md\n"
    },
    "slideshow": {
     "slide_type": "slide"
    }
   },
   "source": [
    "## 🖌 `for`"
   ]
  },
  {
   "cell_type": "code",
   "execution_count": 39,
   "id": "5963c47f",
   "metadata": {
    "pycharm": {
     "name": "#%%\n"
    },
    "slideshow": {
     "slide_type": "slide"
    }
   },
   "outputs": [
    {
     "name": "stdout",
     "output_type": "stream",
     "text": [
      "Hello Julia. Welcome to CS 110.\n",
      "I hope you (Julia) have a great day.\n",
      "Hello Juan. Welcome to CS 110.\n",
      "I hope you (Juan) have a great day.\n",
      "Hello George. Welcome to CS 110.\n",
      "I hope you (George) have a great day.\n",
      "Hello Gina. Welcome to CS 110.\n",
      "I hope you (Gina) have a great day.\n",
      "Hello Gina. Welcome to CS 110.\n",
      "I hope you (Gina) have a great day.\n",
      "Hello Julia2. Welcome to CS 110.\n",
      "I hope you (Julia2) have a great day.\n",
      "Hello Juan2. Welcome to CS 110.\n",
      "I hope you (Juan2) have a great day.\n",
      "Hello George2. Welcome to CS 110.\n",
      "I hope you (George2) have a great day.\n"
     ]
    }
   ],
   "source": [
    "students = ['Julia', 'Juan', 'George', 'Gina', 'Gina']\n",
    "\n",
    "for person in students:\n",
    "    print(f\"Hello {person}. Welcome to CS 110.\")\n",
    "    print(f\"I hope you ({person}) have a great day.\")"
   ]
  },
  {
   "cell_type": "markdown",
   "id": "e14c57ad",
   "metadata": {
    "slideshow": {
     "slide_type": "slide"
    }
   },
   "source": [
    "## 👩🏻‍🎨 Fruit Salad\n",
    "\n",
    "Write a program that:\n",
    "\n",
    "1. Asks the user for a series of fruit\n",
    "  - The user inputs `''` (empty string) when they are done\n",
    "2. Print the list of fruits with a `\"~\"` bullet in front of each fruit.\n",
    "\n",
    "### `fruit_salad.py`"
   ]
  },
  {
   "cell_type": "code",
   "execution_count": null,
   "id": "8da7e82d",
   "metadata": {
    "slideshow": {
     "slide_type": "slide"
    }
   },
   "outputs": [],
   "source": [
    "%%file for_class/fruit_salad.py\n",
    "# 🍓 🍎 🥭\n"
   ]
  },
  {
   "cell_type": "code",
   "execution_count": null,
   "id": "b4459d02",
   "metadata": {
    "slideshow": {
     "slide_type": "skip"
    }
   },
   "outputs": [],
   "source": [
    "%%file for_class/fruit_salad_solution.py\n",
    "def get_fruits():\n",
    "    fruits = []\n",
    "    while True:\n",
    "        fruit = input('Fruit: ')\n",
    "        if fruit == '':\n",
    "            return fruits\n",
    "        fruits.append(fruit)\n",
    "    \n",
    "    \n",
    "def print_fruits(fruits):\n",
    "    for fruit in fruits:\n",
    "        print('~', fruit)\n",
    "        \n",
    "        \n",
    "def main():\n",
    "    fruits = get_fruits()\n",
    "    print_fruits(fruits)\n",
    "    \n",
    "    \n",
    "if __name__ == '__main__':\n",
    "    main()\n",
    "    "
   ]
  },
  {
   "cell_type": "markdown",
   "id": "fc7f82eb",
   "metadata": {
    "pycharm": {
     "name": "#%% md\n"
    },
    "slideshow": {
     "slide_type": "slide"
    }
   },
   "source": [
    "## 👨🏻‍🎨 Bullet styles\n",
    "\n",
    "Write a program that:\n",
    "1. Asks the user for a series of items\n",
    "  - The user inputs `''` (empty string) when they are done\n",
    "2. Print the list of items using the following bullets:\n",
    "  - `*`\n",
    "  - `-`\n",
    "  - `>`\n",
    "  \n",
    "### `bullet_styles.py`"
   ]
  },
  {
   "cell_type": "code",
   "execution_count": null,
   "id": "f09f58d0",
   "metadata": {
    "pycharm": {
     "name": "#%%\n"
    },
    "slideshow": {
     "slide_type": "skip"
    }
   },
   "outputs": [],
   "source": [
    "%%file for_class/bullet_styles.py\n",
    "# :)"
   ]
  },
  {
   "cell_type": "code",
   "execution_count": null,
   "id": "164d4225",
   "metadata": {
    "pycharm": {
     "name": "#%%\n"
    },
    "slideshow": {
     "slide_type": "skip"
    }
   },
   "outputs": [],
   "source": [
    "%%file for_class/bullet_styles_solution.py\n",
    "def get_items():\n",
    "    \"\"\"\n",
    "    Prompt the user for items until they provide 'q'\n",
    "    Return the items in a list\n",
    "    \"\"\"\n",
    "    items = []\n",
    "    while True:\n",
    "        item = input('Item: ')\n",
    "        if item == '':\n",
    "            break\n",
    "        items.append(item)\n",
    "\n",
    "    return items\n",
    "\n",
    "\n",
    "def print_items(items, bullet):\n",
    "    for item in items:\n",
    "        print(f'{bullet} {item}')\n",
    "    print()\n",
    "\n",
    "    \n",
    "def main():\n",
    "    items = get_items()\n",
    "    print_items(items, '*')\n",
    "    print_items(items, '-')\n",
    "    print_items(items, '>')\n",
    "\n",
    "\n",
    "if __name__ == '__main__':\n",
    "    main()\n",
    "    "
   ]
  },
  {
   "cell_type": "markdown",
   "id": "4bb035ce",
   "metadata": {
    "cell_style": "split",
    "pycharm": {
     "name": "#%% md\n"
    },
    "slideshow": {
     "slide_type": "slide"
    }
   },
   "source": [
    "## 👩🏽‍🎨 Big and Small\n",
    "\n",
    "Write a program that queries the user for a list of numbers (one number at a time).\n",
    "\n",
    "Then ask the user what number to use as the boundary between \"big\" and \"small\" numbers.\n",
    "\n",
    "Print `\"You have {how_many} numbers:\"`\n",
    "\n",
    "Then print out all the numbers with one of the following comments:\n",
    "- for \"big\" numbers say \"(big)\"\n",
    "- for \"small\" numbers say \"(small)\""
   ]
  },
  {
   "cell_type": "markdown",
   "id": "4c7c9d00",
   "metadata": {
    "cell_style": "split",
    "pycharm": {
     "name": "#%% md\n"
    }
   },
   "source": [
    "<div style='font-size: 20pt'>\n",
    "<pre>\n",
    "Number: 8\n",
    "Number: 10\n",
    "Number: 30\n",
    "Number: 2\n",
    "Number: 65\n",
    "Number: 42\n",
    "Number: 13\n",
    "Number: 77\n",
    "Number: \n",
    "Boundary: 20\n",
    "You have 8 numbers:\n",
    "- 8 (small)\n",
    "- 10 (small)\n",
    "- 30 (big)\n",
    "- 2 (small)\n",
    "- 65 (big)\n",
    "- 42 (big)\n",
    "- 13 (small)\n",
    "- 77 (big)\n",
    "</pre>\n",
    "    </div>"
   ]
  },
  {
   "cell_type": "code",
   "execution_count": null,
   "id": "5a622e48",
   "metadata": {
    "pycharm": {
     "name": "#%%\n"
    },
    "slideshow": {
     "slide_type": "skip"
    }
   },
   "outputs": [],
   "source": [
    "%%file for_class/big_and_small.py\n",
    "# Have fun!"
   ]
  },
  {
   "cell_type": "code",
   "execution_count": null,
   "id": "2e316c8c",
   "metadata": {
    "pycharm": {
     "name": "#%%\n"
    },
    "slideshow": {
     "slide_type": "skip"
    }
   },
   "outputs": [],
   "source": [
    "%%file for_class/big_and_small_solution.py\n",
    "def get_numbers():\n",
    "    numbers = []\n",
    "    while True:\n",
    "        response = input('Number: ')\n",
    "        if response == '':\n",
    "            break\n",
    "        \n",
    "        number = int(response)\n",
    "        numbers.append(number)\n",
    "        \n",
    "    return numbers\n",
    "    \n",
    "    \n",
    "def get_bound():\n",
    "    return int(input('Boundary: '))\n",
    "\n",
    "\n",
    "def print_numbers(numbers, bound):\n",
    "    for number in numbers:\n",
    "        if number < bound:\n",
    "            big_or_small = 'small'\n",
    "        else:\n",
    "            big_or_small = 'big'\n",
    "        print(f'- {number} ({big_or_small})')\n",
    "                        \n",
    "\n",
    "def main():\n",
    "    numbers = get_numbers()\n",
    "    bound = get_bound()\n",
    "    print(f'You have {len(numbers)} numbers:')\n",
    "    print_numbers(numbers, bound)\n",
    "    \n",
    "\n",
    "if __name__ == '__main__':\n",
    "    main()\n",
    "    "
   ]
  },
  {
   "cell_type": "markdown",
   "id": "1d531cb0",
   "metadata": {
    "pycharm": {
     "name": "#%% md\n"
    },
    "slideshow": {
     "slide_type": "slide"
    }
   },
   "source": [
    "## Key Ideas\n",
    "- Arithmetic operators\n",
    "- Lists!\n",
    "- `[]`\n",
    "- `.append(...)`\n",
    "- `len`\n",
    "- `for`"
   ]
  }
 ],
 "metadata": {
  "celltoolbar": "Slideshow",
  "kernelspec": {
   "display_name": "py311",
   "language": "python",
   "name": "py311"
  },
  "language_info": {
   "codemirror_mode": {
    "name": "ipython",
    "version": 3
   },
   "file_extension": ".py",
   "mimetype": "text/x-python",
   "name": "python",
   "nbconvert_exporter": "python",
   "pygments_lexer": "ipython3",
   "version": "3.11.4"
  },
  "toc": {
   "base_numbering": 1,
   "nav_menu": {},
   "number_sections": false,
   "sideBar": true,
   "skip_h1_title": true,
   "title_cell": "Table of Contents",
   "title_sidebar": "Contents",
   "toc_cell": false,
   "toc_position": {},
   "toc_section_display": true,
   "toc_window_display": false
  }
 },
 "nbformat": 4,
 "nbformat_minor": 5
}
