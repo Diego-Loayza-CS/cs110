{
 "cells": [
  {
   "cell_type": "markdown",
   "id": "348a775c",
   "metadata": {
    "slideshow": {
     "slide_type": "slide"
    }
   },
   "source": [
    "# Introducing the Debugger 🪳🚫"
   ]
  },
  {
   "cell_type": "markdown",
   "id": "7dd1a0c9",
   "metadata": {
    "slideshow": {
     "slide_type": "slide"
    }
   },
   "source": [
    "A **debugger** is a tool that lets you step through your code, one or more lines at a time, so you can see exactly what is happening as your code runs.\n",
    "\n",
    "It is much like the \"next\" button in the Bit window, but it works for all python code."
   ]
  },
  {
   "cell_type": "code",
   "execution_count": null,
   "id": "c4ff29e5",
   "metadata": {
    "slideshow": {
     "slide_type": "skip"
    }
   },
   "outputs": [],
   "source": [
    "! mkdir -p for_class"
   ]
  },
  {
   "cell_type": "code",
   "execution_count": null,
   "id": "893f617d",
   "metadata": {
    "slideshow": {
     "slide_type": "skip"
    }
   },
   "outputs": [],
   "source": [
    "%%file for_class/debugger_demo.py\n",
    "def get_name():\n",
    "    name = input('Hello, what is your name? ')\n",
    "    return name\n",
    "    \n",
    "    \n",
    "def get_age():\n",
    "    age = input('And what is your age? ')\n",
    "    return age\n",
    "\n",
    "\n",
    "def print_message(name, age):\n",
    "    print(f'{age} years ago, {name} was born!')\n",
    "\n",
    "    \n",
    "def main():\n",
    "    name = get_name()\n",
    "    age = get_age()\n",
    "    print_message(name, age)\n",
    "    \n",
    "    \n",
    "if __name__ == '__main__':\n",
    "    main()\n",
    "    "
   ]
  },
  {
   "cell_type": "markdown",
   "id": "023941f8",
   "metadata": {
    "slideshow": {
     "slide_type": "slide"
    }
   },
   "source": [
    "### `debugger_demo.py`"
   ]
  },
  {
   "cell_type": "markdown",
   "id": "09b77008",
   "metadata": {
    "slideshow": {
     "slide_type": "notes"
    }
   },
   "source": [
    "- Put a breakpoint at `main()`\n",
    "  - Step over vs step into\n",
    "  - Show how step over works in the `main` function\n",
    "  - Show how step into works in the `main` function\n",
    "- Look at how the debugging blocks when `input` is waiting for a response\n",
    "  - Note how the output (and input) happens in the console pane, which is hidden by default\n",
    "    - I usually move the console pane to be on the right side of the debugger window so I can always see it\n",
    "- Looking at variables\n",
    "  - when does `name` or `age` get a value?\n",
    "  - you can see the value in the variables view\n",
    "- Return values\n",
    "  - you can turn on the setting to see the return values\n",
    "    - look for gear icon on far left side of debugger window, then select \"Show return values\"\n",
    "- Multiple breakpoints and continue button\n",
    "- Demonstrate how to find problems\n",
    "  - change `get_name` to ask for input but return a fixed value (e.g. 'Fulando')\n",
    "  - show how you can step through `main` and see that `name` does not equal what was input\n",
    "  - now you can put a breakpoint in `get_name`, run again, and see the problem\n",
    "  - most problems are not so obvious, but the strategy is the same"
   ]
  },
  {
   "cell_type": "markdown",
   "id": "d547ff56",
   "metadata": {
    "slideshow": {
     "slide_type": "slide"
    }
   },
   "source": [
    "When your code does not do what you wanted it to do, you need to figure out where what you wrote was not what you needed.\n",
    "\n",
    "Form a hypothesis about where the problem might be. Ask yourself: \"how will I know there is a problem there?\"\n",
    "\n",
    "Then use the debugger to inspect what is actually happening. Is it doing what you expect, or not?\n",
    "\n",
    "If it did what you expected, then create a new hypothesis and try again.\n",
    "\n",
    "If it didn't do what you expected, ask yourself \"why?\" Continue asking and answering questions until you understand the issue and can fix it.\n",
    "\n",
    "**The process of identifying the problems and fixing them is essential to programming**\n",
    "\n",
    "Follow this process. Practice it. Get coaching from the TAs for how to do it well. "
   ]
  }
 ],
 "metadata": {
  "celltoolbar": "Slideshow",
  "kernelspec": {
   "display_name": "Python 3 (ipykernel)",
   "language": "python",
   "name": "python3"
  },
  "language_info": {
   "codemirror_mode": {
    "name": "ipython",
    "version": 3
   },
   "file_extension": ".py",
   "mimetype": "text/x-python",
   "name": "python",
   "nbconvert_exporter": "python",
   "pygments_lexer": "ipython3",
   "version": "3.11.5"
  },
  "toc": {
   "base_numbering": 1,
   "nav_menu": {},
   "number_sections": false,
   "sideBar": true,
   "skip_h1_title": true,
   "title_cell": "Table of Contents",
   "title_sidebar": "Contents",
   "toc_cell": false,
   "toc_position": {},
   "toc_section_display": true,
   "toc_window_display": false
  }
 },
 "nbformat": 4,
 "nbformat_minor": 5
}
