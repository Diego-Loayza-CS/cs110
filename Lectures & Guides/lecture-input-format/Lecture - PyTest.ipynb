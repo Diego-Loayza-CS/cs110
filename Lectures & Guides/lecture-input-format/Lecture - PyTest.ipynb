{
 "cells": [
  {
   "cell_type": "markdown",
   "id": "781ac42b",
   "metadata": {
    "slideshow": {
     "slide_type": "slide"
    }
   },
   "source": [
    "# PyTest"
   ]
  },
  {
   "cell_type": "markdown",
   "id": "cf59e028",
   "metadata": {
    "slideshow": {
     "slide_type": "slide"
    }
   },
   "source": [
    "We use a python tool named **pytest** to test the HW and project assignments. \n",
    "\n",
    "You first install `byu_pytest_utils`. Open the Terminal in PyCharm and type:\n",
    "\n",
    "```\n",
    "pip install byu_pytest_utils\n",
    "```\n",
    "\n",
    "Then you can run the tests inside PyCharm."
   ]
  },
  {
   "cell_type": "code",
   "execution_count": 3,
   "id": "1c9859b0",
   "metadata": {
    "slideshow": {
     "slide_type": "skip"
    }
   },
   "outputs": [],
   "source": [
    "! mkdir -p for_class/test_files"
   ]
  },
  {
   "cell_type": "code",
   "execution_count": 2,
   "id": "d937585a",
   "metadata": {
    "slideshow": {
     "slide_type": "skip"
    }
   },
   "outputs": [],
   "source": [
    "%%file for_class/simple_program.py\n",
    "def main():\n",
    "    name = input('Name: ')\n",
    "    print(f'Hello {name}!')\n",
    "\n",
    "    \n",
    "if __name__ == '__main__':\n",
    "    main()\n",
    "    "
   ]
  },
  {
   "cell_type": "code",
   "execution_count": 4,
   "id": "ef94feaf",
   "metadata": {
    "slideshow": {
     "slide_type": "skip"
    }
   },
   "outputs": [],
   "source": [
    "%%file for_class/test_files/simple.dialog.txt\n",
    "Name: <<Gordon>>\n",
    "Hello ``Gordon;name;80``!"
   ]
  },
  {
   "cell_type": "code",
   "execution_count": 6,
   "id": "707e258c",
   "metadata": {
    "slideshow": {
     "slide_type": "skip"
    }
   },
   "outputs": [],
   "source": [
    "%%file for_class/test_files/simple2.dialog.txt\n",
    "Name: <<Cosmo>>\n",
    "Hello ``Cosmo;name;80``!"
   ]
  },
  {
   "cell_type": "code",
   "execution_count": 1,
   "id": "4904d50c",
   "metadata": {
    "slideshow": {
     "slide_type": "skip"
    }
   },
   "outputs": [
    {
     "name": "stdout",
     "output_type": "stream",
     "text": [
      "Overwriting for_class/test_simple_program.py\n"
     ]
    }
   ],
   "source": [
    "%%file for_class/test_simple_program.py\n",
    "from byu_pytest_utils import max_score, dialog, test_files\n",
    "\n",
    "@max_score(5)\n",
    "@dialog(\n",
    "    test_files / 'simple.dialog.txt', 'simple_program.py'\n",
    ")\n",
    "def test_program(): ...\n",
    "\n",
    "    \n",
    "@max_score(5)\n",
    "@dialog(\n",
    "    test_files / 'simple2.dialog.txt', 'simple_program.py'\n",
    ")\n",
    "def test_program2(): ...\n",
    "  \n"
   ]
  },
  {
   "cell_type": "markdown",
   "id": "bc1bfc38",
   "metadata": {
    "slideshow": {
     "slide_type": "slide"
    }
   },
   "source": [
    "## `simple_program.py`\n",
    "## `test_simple_program.py`"
   ]
  },
  {
   "cell_type": "markdown",
   "id": "8bc293d2",
   "metadata": {
    "slideshow": {
     "slide_type": "notes"
    }
   },
   "source": [
    "- run `simple_program.py` first; demonstrate what the program output looks like\n",
    "- look at `test_simple_program.py`\n",
    "  - run the test using the play button in the gutter\n",
    "    - it is important that the students run their very first test this way, as PyCharm will then register pytest as the test runner\n",
    "  - explain the test output\n",
    "    - sub-tests\n",
    "    - look at `everything-else` diff viewer (\"click to see difference\")\n",
    "  - change the code - show how it fails\n",
    "    - remove the space after the prompt\n",
    "    - change \"Hello\" to \"Howdy\"\n",
    "    - remove the `f` from the formatted string\n",
    "  - show how to run all the tests in the file by right-clicking the file\n",
    "    - and how to run all in the folder by right-clicking the folder"
   ]
  }
 ],
 "metadata": {
  "celltoolbar": "Slideshow",
  "kernelspec": {
   "display_name": "Python 3 (ipykernel)",
   "language": "python",
   "name": "python3"
  },
  "language_info": {
   "codemirror_mode": {
    "name": "ipython",
    "version": 3
   },
   "file_extension": ".py",
   "mimetype": "text/x-python",
   "name": "python",
   "nbconvert_exporter": "python",
   "pygments_lexer": "ipython3",
   "version": "3.11.5"
  },
  "toc": {
   "base_numbering": 1,
   "nav_menu": {},
   "number_sections": false,
   "sideBar": true,
   "skip_h1_title": true,
   "title_cell": "Table of Contents",
   "title_sidebar": "Contents",
   "toc_cell": false,
   "toc_position": {},
   "toc_section_display": true,
   "toc_window_display": false
  }
 },
 "nbformat": 4,
 "nbformat_minor": 5
}
