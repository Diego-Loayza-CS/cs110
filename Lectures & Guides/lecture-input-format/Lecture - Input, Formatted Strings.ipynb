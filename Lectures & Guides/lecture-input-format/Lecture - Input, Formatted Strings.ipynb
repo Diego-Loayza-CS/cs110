{
 "cells": [
  {
   "cell_type": "markdown",
   "id": "931c9e1b",
   "metadata": {
    "slideshow": {
     "slide_type": "slide"
    }
   },
   "source": [
    "# Interactive Programs"
   ]
  },
  {
   "cell_type": "markdown",
   "id": "688f1471",
   "metadata": {
    "slideshow": {
     "slide_type": "skip"
    }
   },
   "source": [
    "- variables (remember `bit.get_color()`)\n",
    "- `input`\n",
    "- formatted strings"
   ]
  },
  {
   "cell_type": "code",
   "execution_count": null,
   "id": "0678b227",
   "metadata": {
    "slideshow": {
     "slide_type": "skip"
    }
   },
   "outputs": [],
   "source": [
    "! mkdir -p for_class"
   ]
  },
  {
   "cell_type": "markdown",
   "id": "a0a649e7",
   "metadata": {
    "slideshow": {
     "slide_type": "slide"
    }
   },
   "source": [
    "## 🎨 `print`"
   ]
  },
  {
   "cell_type": "code",
   "execution_count": 1,
   "id": "b3d0cb53",
   "metadata": {
    "slideshow": {
     "slide_type": "skip"
    }
   },
   "outputs": [
    {
     "name": "stdout",
     "output_type": "stream",
     "text": [
      "Overwriting for_class/print_demo.py\n"
     ]
    }
   ],
   "source": [
    "%%file for_class/print_demo.py\n",
    "def main():\n",
    "    print(\"Hello world!\")\n",
    "    print(\"Hello\", \"world!\")\n",
    "    print('Hello', 'world', 'out', 'there!')\n",
    "    \n",
    "    \n",
    "if __name__ == '__main__':\n",
    "    main()\n",
    "    "
   ]
  },
  {
   "cell_type": "markdown",
   "id": "730255c6",
   "metadata": {
    "slideshow": {
     "slide_type": "-"
    }
   },
   "source": [
    "### `print_demo.py`"
   ]
  },
  {
   "cell_type": "markdown",
   "id": "5fefd6ee",
   "metadata": {
    "slideshow": {
     "slide_type": "slide"
    }
   },
   "source": [
    "## 🎨 `input`"
   ]
  },
  {
   "cell_type": "code",
   "execution_count": 2,
   "id": "3ba0f41c",
   "metadata": {
    "slideshow": {
     "slide_type": "skip"
    }
   },
   "outputs": [
    {
     "name": "stdout",
     "output_type": "stream",
     "text": [
      "Overwriting for_class/input_demo.py\n"
     ]
    }
   ],
   "source": [
    "%%file for_class/input_demo.py\n",
    "def main():\n",
    "    name = input('Enter your name: ')\n",
    "    print('Your name is', name)\n",
    "    \n",
    "    \n",
    "if __name__ == '__main__':\n",
    "    main()\n",
    "    "
   ]
  },
  {
   "cell_type": "markdown",
   "id": "6c2f3427",
   "metadata": {
    "slideshow": {
     "slide_type": "-"
    }
   },
   "source": [
    "### `input_demo.py`"
   ]
  },
  {
   "cell_type": "markdown",
   "id": "d3d5f7c6",
   "metadata": {
    "slideshow": {
     "slide_type": "slide"
    }
   },
   "source": [
    "## Formatted Strings\n",
    "\n",
    "### `fstring_demo.py`"
   ]
  },
  {
   "cell_type": "code",
   "execution_count": 3,
   "id": "7b6eec0f",
   "metadata": {
    "slideshow": {
     "slide_type": "skip"
    }
   },
   "outputs": [
    {
     "name": "stdout",
     "output_type": "stream",
     "text": [
      "Overwriting for_class/fstring_demo.py\n"
     ]
    }
   ],
   "source": [
    "%%file for_class/fstring_demo.py\n",
    "def main():\n",
    "    name = input('Enter your name: ')\n",
    "    pizza = input('Enter your favorite pizza: ')\n",
    "    message = f'{name} likes {pizza} pizza!'\n",
    "    print(message)\n",
    "    \n",
    "    \n",
    "if __name__ == '__main__':\n",
    "    main()\n",
    "    "
   ]
  },
  {
   "cell_type": "code",
   "execution_count": null,
   "id": "56c92742",
   "metadata": {
    "slideshow": {
     "slide_type": "skip"
    }
   },
   "outputs": [],
   "source": [
    "%%bash\n",
    "python for_class/fstring_demo.py <<EOF\n",
    "Gordon\n",
    "Alfredo Hawaiian\n",
    "EOF"
   ]
  },
  {
   "cell_type": "markdown",
   "id": "20f56b46",
   "metadata": {
    "slideshow": {
     "slide_type": "slide"
    }
   },
   "source": [
    "## The Debugger 🪳🚫"
   ]
  },
  {
   "cell_type": "markdown",
   "id": "df448ae0",
   "metadata": {
    "slideshow": {
     "slide_type": "slide"
    }
   },
   "source": [
    "## `pytest` 👩🏻‍🔬 👨🏽‍🔬"
   ]
  },
  {
   "cell_type": "markdown",
   "id": "1ca47819",
   "metadata": {
    "slideshow": {
     "slide_type": "slide"
    }
   },
   "source": [
    "## 👩🏽‍🎨 Welcome to Wendy's\n",
    "\n",
    "Write a python script that:\n",
    "- Welcomes the user to Wendy's\n",
    "  - `\"Welcome to Wendy's!\"`\n",
    "- Asks for the user's name\n",
    "  - `\"What is your name? \"`\n",
    "- Prompts the user for a sandwich type\n",
    "  - `\"What kind of sandwich do you want? \"`\n",
    "- Prompts the user for sandwich additions\n",
    "  - `\"What do you want on it? \"`\n",
    "- The print out a summary\n",
    "  - `\"<User> wants a <type> sandwich with <additions>!\"`"
   ]
  },
  {
   "cell_type": "code",
   "execution_count": null,
   "id": "a997c88e",
   "metadata": {
    "slideshow": {
     "slide_type": "skip"
    }
   },
   "outputs": [],
   "source": [
    "%%file for_class/wendys_impl.py\n",
    "def get_name():\n",
    "    return input(\"What is your name? \")\n",
    "\n",
    "\n",
    "def get_sandwich():\n",
    "    return input(\"What kind of sandwich do you want? \")\n",
    "\n",
    "\n",
    "def get_additions():\n",
    "    return input(\"What do you want on it? \")\n",
    "\n",
    "\n",
    "def print_summary(name, sandwich, adds):\n",
    "    print(f\"{name} wants a {sandwich} sandwich with {adds}!\")\n",
    "    \n",
    "\n",
    "def main():\n",
    "    print(\"Welcome to Wendy's!\")\n",
    "    name = get_name()\n",
    "    sandwich = get_sandwich()\n",
    "    adds = get_additions()\n",
    "    print_summary(name, sandwich, adds)\n",
    "    \n",
    "\n",
    "if __name__ == '__main__':\n",
    "    main()\n",
    "    "
   ]
  },
  {
   "cell_type": "code",
   "execution_count": null,
   "id": "308a33fb",
   "metadata": {
    "slideshow": {
     "slide_type": "skip"
    }
   },
   "outputs": [],
   "source": [
    "%%file for_class/wendys.py\n",
    "# :)"
   ]
  },
  {
   "cell_type": "markdown",
   "id": "371fbe26",
   "metadata": {
    "slideshow": {
     "slide_type": "slide"
    }
   },
   "source": [
    "## Key Ideas\n",
    "\n",
    "- `print`\n",
    "- `input`\n",
    "- formatted strings (e.g. `f'Hello {name}!'`)"
   ]
  }
 ],
 "metadata": {
  "celltoolbar": "Slideshow",
  "kernelspec": {
   "display_name": "Python 3 (ipykernel)",
   "language": "python",
   "name": "python3"
  },
  "language_info": {
   "codemirror_mode": {
    "name": "ipython",
    "version": 3
   },
   "file_extension": ".py",
   "mimetype": "text/x-python",
   "name": "python",
   "nbconvert_exporter": "python",
   "pygments_lexer": "ipython3",
   "version": "3.11.5"
  },
  "toc": {
   "base_numbering": 1,
   "nav_menu": {},
   "number_sections": false,
   "sideBar": true,
   "skip_h1_title": true,
   "title_cell": "Table of Contents",
   "title_sidebar": "Contents",
   "toc_cell": false,
   "toc_position": {},
   "toc_section_display": true,
   "toc_window_display": false
  }
 },
 "nbformat": 4,
 "nbformat_minor": 5
}
