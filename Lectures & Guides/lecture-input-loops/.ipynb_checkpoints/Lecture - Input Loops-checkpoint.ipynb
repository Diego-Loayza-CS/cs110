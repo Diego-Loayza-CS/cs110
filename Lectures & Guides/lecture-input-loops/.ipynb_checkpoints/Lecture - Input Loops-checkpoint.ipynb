{
 "cells": [
  {
   "cell_type": "markdown",
   "id": "6bc89236",
   "metadata": {
    "slideshow": {
     "slide_type": "slide"
    }
   },
   "source": [
    "# Input Loops"
   ]
  },
  {
   "cell_type": "markdown",
   "id": "d84c6376",
   "metadata": {
    "slideshow": {
     "slide_type": "skip"
    }
   },
   "source": [
    "- Types\n",
    "  - `int` vs `str`\n",
    "- `+ -`\n",
    "  - int and str\n",
    "- Comparisons\n",
    "  - `==  >  <`\n",
    "- str->int\n",
    "- input loops\n",
    "  - while True\n",
    "  - break/return\n"
   ]
  },
  {
   "cell_type": "code",
   "execution_count": null,
   "id": "ee01aa09",
   "metadata": {
    "slideshow": {
     "slide_type": "skip"
    }
   },
   "outputs": [],
   "source": [
    "! mkdir -p for_class"
   ]
  },
  {
   "cell_type": "markdown",
   "id": "511df9f2",
   "metadata": {
    "slideshow": {
     "slide_type": "slide"
    }
   },
   "source": [
    "## ⚙️ Types"
   ]
  },
  {
   "cell_type": "code",
   "execution_count": 1,
   "id": "3896a4f5",
   "metadata": {
    "slideshow": {
     "slide_type": "slide"
    }
   },
   "outputs": [
    {
     "data": {
      "text/plain": [
       "2"
      ]
     },
     "execution_count": 1,
     "metadata": {},
     "output_type": "execute_result"
    }
   ],
   "source": [
    "1 + 1"
   ]
  },
  {
   "cell_type": "code",
   "execution_count": 2,
   "id": "44922be3",
   "metadata": {
    "slideshow": {
     "slide_type": "slide"
    }
   },
   "outputs": [
    {
     "data": {
      "text/plain": [
       "'11'"
      ]
     },
     "execution_count": 2,
     "metadata": {},
     "output_type": "execute_result"
    }
   ],
   "source": [
    "'1' + '1'  "
   ]
  },
  {
   "cell_type": "code",
   "execution_count": 3,
   "id": "2ac2909e",
   "metadata": {
    "slideshow": {
     "slide_type": "slide"
    }
   },
   "outputs": [
    {
     "data": {
      "text/plain": [
       "int"
      ]
     },
     "execution_count": 3,
     "metadata": {},
     "output_type": "execute_result"
    }
   ],
   "source": [
    "type(1)"
   ]
  },
  {
   "cell_type": "code",
   "execution_count": 4,
   "id": "e4e3a7df",
   "metadata": {},
   "outputs": [
    {
     "data": {
      "text/plain": [
       "bool"
      ]
     },
     "execution_count": 4,
     "metadata": {},
     "output_type": "execute_result"
    }
   ],
   "source": [
    "type(True)"
   ]
  },
  {
   "cell_type": "code",
   "execution_count": 5,
   "id": "5178fd10",
   "metadata": {},
   "outputs": [
    {
     "data": {
      "text/plain": [
       "str"
      ]
     },
     "execution_count": 5,
     "metadata": {},
     "output_type": "execute_result"
    }
   ],
   "source": [
    "type('1')"
   ]
  },
  {
   "cell_type": "markdown",
   "id": "33b1c11c",
   "metadata": {
    "slideshow": {
     "slide_type": "slide"
    }
   },
   "source": [
    "When you put quotes around text, that text becomes a string (`str`).\n",
    "\n",
    "Strings are sequences of graphical symbols. \n",
    "\n",
    "`2` is the numeric integer \"two\".\n",
    "\n",
    "`'2'` is the graphical symbol \"2\". "
   ]
  },
  {
   "cell_type": "markdown",
   "id": "fe601b6a",
   "metadata": {
    "slideshow": {
     "slide_type": "slide"
    }
   },
   "source": [
    "## 🎨 Basic Operators"
   ]
  },
  {
   "cell_type": "code",
   "execution_count": 6,
   "id": "4387a50c",
   "metadata": {
    "slideshow": {
     "slide_type": "slide"
    }
   },
   "outputs": [
    {
     "data": {
      "text/plain": [
       "17"
      ]
     },
     "execution_count": 6,
     "metadata": {},
     "output_type": "execute_result"
    }
   ],
   "source": [
    "10 + 7"
   ]
  },
  {
   "cell_type": "markdown",
   "id": "dc421be9",
   "metadata": {
    "slideshow": {
     "slide_type": "fragment"
    }
   },
   "source": [
    "When used with `int`s, `+` adds them together."
   ]
  },
  {
   "cell_type": "code",
   "execution_count": 7,
   "id": "b0b1c5be",
   "metadata": {
    "slideshow": {
     "slide_type": "slide"
    }
   },
   "outputs": [
    {
     "data": {
      "text/plain": [
       "'fireplace'"
      ]
     },
     "execution_count": 7,
     "metadata": {},
     "output_type": "execute_result"
    }
   ],
   "source": [
    "'fire' + 'place'"
   ]
  },
  {
   "cell_type": "markdown",
   "id": "211bf974",
   "metadata": {
    "slideshow": {
     "slide_type": "fragment"
    }
   },
   "source": [
    "When used with `str`s, `+` *concatenates* them together. "
   ]
  },
  {
   "cell_type": "code",
   "execution_count": 8,
   "id": "5c4416d0",
   "metadata": {
    "slideshow": {
     "slide_type": "slide"
    }
   },
   "outputs": [
    {
     "data": {
      "text/plain": [
       "4"
      ]
     },
     "execution_count": 8,
     "metadata": {},
     "output_type": "execute_result"
    }
   ],
   "source": [
    "7 - 3"
   ]
  },
  {
   "cell_type": "markdown",
   "id": "e5ac0d64",
   "metadata": {
    "slideshow": {
     "slide_type": "fragment"
    }
   },
   "source": [
    "`-` does subtraction."
   ]
  },
  {
   "cell_type": "code",
   "execution_count": 10,
   "id": "805a7a18",
   "metadata": {
    "slideshow": {
     "slide_type": "slide"
    }
   },
   "outputs": [
    {
     "ename": "TypeError",
     "evalue": "unsupported operand type(s) for -: 'str' and 'str'",
     "output_type": "error",
     "traceback": [
      "\u001b[0;31m---------------------------------------------------------------------------\u001b[0m",
      "\u001b[0;31mTypeError\u001b[0m                                 Traceback (most recent call last)",
      "Input \u001b[0;32mIn [10]\u001b[0m, in \u001b[0;36m<cell line: 1>\u001b[0;34m()\u001b[0m\n\u001b[0;32m----> 1\u001b[0m \u001b[38;5;124;43m'\u001b[39;49m\u001b[38;5;124;43mnickname\u001b[39;49m\u001b[38;5;124;43m'\u001b[39;49m\u001b[43m \u001b[49m\u001b[38;5;241;43m-\u001b[39;49m\u001b[43m \u001b[49m\u001b[38;5;124;43m'\u001b[39;49m\u001b[38;5;124;43mname\u001b[39;49m\u001b[38;5;124;43m'\u001b[39;49m\n",
      "\u001b[0;31mTypeError\u001b[0m: unsupported operand type(s) for -: 'str' and 'str'"
     ]
    }
   ],
   "source": [
    "'nickname' - 'name'"
   ]
  },
  {
   "cell_type": "markdown",
   "id": "08c8356a",
   "metadata": {
    "slideshow": {
     "slide_type": "fragment"
    }
   },
   "source": [
    "Python doesn't let you subtract strings (only \"add\" them). "
   ]
  },
  {
   "cell_type": "code",
   "execution_count": null,
   "id": "25320c1e",
   "metadata": {
    "slideshow": {
     "slide_type": "fragment"
    }
   },
   "outputs": [],
   "source": [
    "\"water bottle\" - \"banana\""
   ]
  },
  {
   "cell_type": "markdown",
   "id": "72da188d",
   "metadata": {
    "slideshow": {
     "slide_type": "slide"
    }
   },
   "source": [
    "## 🎨 Comparisons"
   ]
  },
  {
   "cell_type": "code",
   "execution_count": 11,
   "id": "ef47e160",
   "metadata": {
    "slideshow": {
     "slide_type": "slide"
    }
   },
   "outputs": [
    {
     "data": {
      "text/plain": [
       "False"
      ]
     },
     "execution_count": 11,
     "metadata": {},
     "output_type": "execute_result"
    }
   ],
   "source": [
    "8 == 9"
   ]
  },
  {
   "cell_type": "code",
   "execution_count": 12,
   "id": "5917bfb9",
   "metadata": {},
   "outputs": [
    {
     "data": {
      "text/plain": [
       "True"
      ]
     },
     "execution_count": 12,
     "metadata": {},
     "output_type": "execute_result"
    }
   ],
   "source": [
    "9 == 9"
   ]
  },
  {
   "cell_type": "code",
   "execution_count": 13,
   "id": "3ace50d5",
   "metadata": {
    "slideshow": {
     "slide_type": "slide"
    }
   },
   "outputs": [
    {
     "data": {
      "text/plain": [
       "False"
      ]
     },
     "execution_count": 13,
     "metadata": {},
     "output_type": "execute_result"
    }
   ],
   "source": [
    "\"cat\" == \"dog\""
   ]
  },
  {
   "cell_type": "code",
   "execution_count": 14,
   "id": "56bb43ff",
   "metadata": {},
   "outputs": [
    {
     "data": {
      "text/plain": [
       "True"
      ]
     },
     "execution_count": 14,
     "metadata": {},
     "output_type": "execute_result"
    }
   ],
   "source": [
    "\"cat\" == \"cat\""
   ]
  },
  {
   "cell_type": "markdown",
   "id": "e54446ff",
   "metadata": {
    "slideshow": {
     "slide_type": "slide"
    }
   },
   "source": [
    "You use `==` (two equals signs) to see if two things are equal.\n",
    "\n",
    "You use `=` (one equals sign) to give a variable a value."
   ]
  },
  {
   "cell_type": "code",
   "execution_count": 16,
   "id": "5276a442",
   "metadata": {
    "slideshow": {
     "slide_type": "slide"
    }
   },
   "outputs": [
    {
     "name": "stdout",
     "output_type": "stream",
     "text": [
      "The number is not 8\n"
     ]
    }
   ],
   "source": [
    "number = 999\n",
    "if number == 8:\n",
    "    print('The number is 8')\n",
    "else:\n",
    "    print('The number is not 8')"
   ]
  },
  {
   "cell_type": "code",
   "execution_count": 17,
   "id": "f730d63f",
   "metadata": {
    "slideshow": {
     "slide_type": "slide"
    }
   },
   "outputs": [
    {
     "data": {
      "text/plain": [
       "True"
      ]
     },
     "execution_count": 17,
     "metadata": {},
     "output_type": "execute_result"
    }
   ],
   "source": [
    "8 > 7"
   ]
  },
  {
   "cell_type": "code",
   "execution_count": 18,
   "id": "52b02b29",
   "metadata": {},
   "outputs": [
    {
     "data": {
      "text/plain": [
       "True"
      ]
     },
     "execution_count": 18,
     "metadata": {},
     "output_type": "execute_result"
    }
   ],
   "source": [
    "3 < 8"
   ]
  },
  {
   "cell_type": "code",
   "execution_count": 19,
   "id": "e30e2607",
   "metadata": {
    "slideshow": {
     "slide_type": "slide"
    }
   },
   "outputs": [
    {
     "data": {
      "text/plain": [
       "True"
      ]
     },
     "execution_count": 19,
     "metadata": {},
     "output_type": "execute_result"
    }
   ],
   "source": [
    "\"aardvark\" < \"zebra\""
   ]
  },
  {
   "cell_type": "code",
   "execution_count": 2,
   "id": "33f7f920",
   "metadata": {},
   "outputs": [
    {
     "data": {
      "text/plain": [
       "True"
      ]
     },
     "execution_count": 2,
     "metadata": {},
     "output_type": "execute_result"
    }
   ],
   "source": [
    "\"cassowary\" > \"banana boat\""
   ]
  },
  {
   "cell_type": "code",
   "execution_count": 4,
   "id": "b88e1a37",
   "metadata": {
    "slideshow": {
     "slide_type": "slide"
    }
   },
   "outputs": [
    {
     "data": {
      "text/plain": [
       "True"
      ]
     },
     "execution_count": 4,
     "metadata": {},
     "output_type": "execute_result"
    }
   ],
   "source": [
    "'mango' < 'muffin'"
   ]
  },
  {
   "cell_type": "code",
   "execution_count": 3,
   "id": "73192aaf",
   "metadata": {
    "slideshow": {
     "slide_type": "fragment"
    }
   },
   "outputs": [
    {
     "data": {
      "text/plain": [
       "True"
      ]
     },
     "execution_count": 3,
     "metadata": {},
     "output_type": "execute_result"
    }
   ],
   "source": [
    "'cat' < 'catastrophe'"
   ]
  },
  {
   "cell_type": "code",
   "execution_count": 6,
   "id": "01946753",
   "metadata": {
    "slideshow": {
     "slide_type": "slide"
    }
   },
   "outputs": [
    {
     "data": {
      "text/plain": [
       "True"
      ]
     },
     "execution_count": 6,
     "metadata": {},
     "output_type": "execute_result"
    }
   ],
   "source": [
    "'Zebra' < 'aardvark'"
   ]
  },
  {
   "cell_type": "markdown",
   "id": "65ffc6ab",
   "metadata": {
    "slideshow": {
     "slide_type": "slide"
    }
   },
   "source": [
    "Using `>` or `<` on strings tells you which string comes before the other alphabetically.\n",
    "\n",
    "The \"aphabetical order\" of strings is defined by the ASCII table:\n",
    "\n",
    "https://www.asciitable.com/"
   ]
  },
  {
   "cell_type": "markdown",
   "id": "bdc5b33d",
   "metadata": {},
   "source": [
    "```\n",
    "...0123456789...ABCDEFG...abcdefg...\n",
    "```"
   ]
  },
  {
   "cell_type": "code",
   "execution_count": 27,
   "id": "7ef361e0",
   "metadata": {
    "slideshow": {
     "slide_type": "slide"
    }
   },
   "outputs": [
    {
     "data": {
      "text/plain": [
       "False"
      ]
     },
     "execution_count": 27,
     "metadata": {},
     "output_type": "execute_result"
    }
   ],
   "source": [
    "\"banana\" > \"🫢\""
   ]
  },
  {
   "cell_type": "markdown",
   "id": "4fbe5b2a",
   "metadata": {
    "slideshow": {
     "slide_type": "slide"
    }
   },
   "source": [
    "## 🖌 Input Loops"
   ]
  },
  {
   "cell_type": "code",
   "execution_count": null,
   "id": "00d7750f",
   "metadata": {
    "slideshow": {
     "slide_type": "skip"
    }
   },
   "outputs": [],
   "source": [
    "%%file for_class/road_trip.py\n",
    "def is_yes(response):\n",
    "    return response == \"yes\" or response == \"Yes\"\n",
    "\n",
    "\n",
    "def road_trip():\n",
    "    while True:\n",
    "        response = input(\"Are we there yet? \")\n",
    "\n",
    "        if is_yes(response):\n",
    "            print(\"Hurray!\")\n",
    "            break\n",
    "        \n",
    "        \n",
    "if __name__ == '__main__':\n",
    "    road_trip()\n",
    "    "
   ]
  },
  {
   "cell_type": "markdown",
   "id": "c7bc595a",
   "metadata": {
    "slideshow": {
     "slide_type": "slide"
    }
   },
   "source": [
    "### `road_trip.py`"
   ]
  },
  {
   "cell_type": "markdown",
   "id": "da97276f",
   "metadata": {
    "slideshow": {
     "slide_type": "slide"
    }
   },
   "source": [
    "`break` means *break out of the current loop*.\n",
    "\n",
    "It doesn't matter whether the condition is `True` or `False`, `break` will stop the loop.\n",
    "\n",
    "The next line of code to run is whatever follows the `while` loop."
   ]
  },
  {
   "cell_type": "markdown",
   "id": "09e8142a",
   "metadata": {
    "slideshow": {
     "slide_type": "slide"
    }
   },
   "source": [
    "**NOTE**\n",
    "\n",
    "Yes:\n",
    "```python\n",
    "response == \"yes\" or response == \"Yes\"\n",
    "```\n",
    "No:\n",
    "```python\n",
    "response == \"yes\" or \"Yes\"\n",
    "```\n"
   ]
  },
  {
   "cell_type": "markdown",
   "id": "96572b7f",
   "metadata": {
    "slideshow": {
     "slide_type": "slide"
    }
   },
   "source": [
    "## `int`"
   ]
  },
  {
   "cell_type": "code",
   "execution_count": 28,
   "id": "c421ecfc",
   "metadata": {
    "slideshow": {
     "slide_type": "slide"
    }
   },
   "outputs": [
    {
     "data": {
      "text/plain": [
       "False"
      ]
     },
     "execution_count": 28,
     "metadata": {},
     "output_type": "execute_result"
    }
   ],
   "source": [
    "\"123\" > \"23\""
   ]
  },
  {
   "cell_type": "code",
   "execution_count": 29,
   "id": "551155fd",
   "metadata": {},
   "outputs": [
    {
     "data": {
      "text/plain": [
       "True"
      ]
     },
     "execution_count": 29,
     "metadata": {},
     "output_type": "execute_result"
    }
   ],
   "source": [
    "123 > 23"
   ]
  },
  {
   "cell_type": "code",
   "execution_count": null,
   "id": "e9f1a652",
   "metadata": {
    "slideshow": {
     "slide_type": "skip"
    }
   },
   "outputs": [],
   "source": [
    "%%file for_class/bigger.py\n",
    "def get_number():\n",
    "    response = input(\"Enter a number: \")\n",
    "    return int(response)\n",
    "\n",
    "\n",
    "def main():\n",
    "    number1 = get_number()\n",
    "    number2 = get_number()\n",
    "\n",
    "    if number1 > number2:\n",
    "        print(f\"{number1} is bigger than {number2}\")\n",
    "        \n",
    "    elif number1 < number2:\n",
    "        print(f\"{number1} is smaller than {number2}\")\n",
    "        \n",
    "    else:\n",
    "        print(f\"You entered {number1} twice.\")\n",
    "        \n",
    "        \n",
    "if __name__ == '__main__':\n",
    "    main()\n",
    "    "
   ]
  },
  {
   "cell_type": "markdown",
   "id": "68701c5a",
   "metadata": {
    "slideshow": {
     "slide_type": "slide"
    }
   },
   "source": [
    "### `bigger.py`"
   ]
  },
  {
   "cell_type": "markdown",
   "id": "5f254745",
   "metadata": {
    "slideshow": {
     "slide_type": "slide"
    }
   },
   "source": [
    "`input` **always** returns a string.\n",
    "\n",
    "You can use `int()` to turn a string into an integer."
   ]
  },
  {
   "cell_type": "markdown",
   "id": "831351b1",
   "metadata": {
    "slideshow": {
     "slide_type": "slide"
    }
   },
   "source": [
    "## 👨🏿‍🎨 Guessing Game\n",
    "\n",
    "I pick number number between 1 and 100. You make a guess: \n",
    "\n",
    "- if you guess lower than my number, I say \"higher\"\n",
    "- if you guess higher than my number, I say \"lower\"\n",
    "- if you get the number, you win!\n",
    "\n",
    "### `guessing_game.py`"
   ]
  },
  {
   "cell_type": "code",
   "execution_count": null,
   "id": "7eab6481",
   "metadata": {
    "slideshow": {
     "slide_type": "skip"
    }
   },
   "outputs": [],
   "source": [
    "%%file for_class/guessing_game_solution.py\n",
    "def play(secret_number):\n",
    "    while True:\n",
    "        response = int(input('Guess a number: '))\n",
    "        \n",
    "        if response > secret_number:\n",
    "            print('Lower!')\n",
    "        \n",
    "        elif response < secret_number:\n",
    "            print('Higher!')\n",
    "            \n",
    "        else:\n",
    "            print('You got it!')\n",
    "            return\n",
    "\n",
    "\n",
    "if __name__ == '__main__':\n",
    "    play(37)\n",
    "    "
   ]
  },
  {
   "cell_type": "code",
   "execution_count": null,
   "id": "bdf3ff78",
   "metadata": {
    "slideshow": {
     "slide_type": "skip"
    }
   },
   "outputs": [],
   "source": [
    "with open('for_class/guessing_game_solution.py') as f:\n",
    "    exec(f.read())"
   ]
  },
  {
   "cell_type": "code",
   "execution_count": null,
   "id": "67775fff",
   "metadata": {
    "slideshow": {
     "slide_type": "skip"
    }
   },
   "outputs": [],
   "source": [
    "%%file for_class/guessing_game.py\n",
    "def play(secret_number):\n",
    "    pass\n",
    "\n",
    "\n",
    "if __name__ == '__main__':\n",
    "    play(21)\n",
    "    "
   ]
  },
  {
   "cell_type": "markdown",
   "id": "c4a73761",
   "metadata": {
    "slideshow": {
     "slide_type": "slide"
    }
   },
   "source": [
    "## 🕵🏽 🕵🏼 Adventure!\n",
    "\n",
    "Create a console adventure game.\n",
    "\n",
    "The player is promted with choices to make, and subsequent scenes depend on the chosen path.\n",
    "\n",
    "### `adventure.py`"
   ]
  },
  {
   "cell_type": "code",
   "execution_count": null,
   "id": "cd9a5972",
   "metadata": {
    "slideshow": {
     "slide_type": "skip"
    }
   },
   "outputs": [],
   "source": [
    "%%file for_class/adventure_example.py\n",
    "def choose():\n",
    "    return input('Choice: ')\n",
    "\n",
    "\n",
    "def bad_choice():\n",
    "    print(\"I didn't understand that option.\")\n",
    "    \n",
    "    \n",
    "def go_left():\n",
    "    print('You go left.')\n",
    "    print('You found a rock!')\n",
    "    return 'a rock'\n",
    "\n",
    "\n",
    "def go_right(item):\n",
    "    print('You go right.')\n",
    "    print('You see an ugly ogre guarding a diamond.')\n",
    "    if item == 'a rock':\n",
    "        print('You have a rock, so you hit the ogre with the rock and take a diamond.')\n",
    "        return 'a diamond'\n",
    "    \n",
    "    else:\n",
    "        print(f'You have {item}, so you leave.')\n",
    "        return item\n",
    "        \n",
    "    \n",
    "def enter_cave():\n",
    "    print('You entered the cave.')\n",
    "    item = 'nothing'\n",
    "    \n",
    "    while True:\n",
    "        print('You can go [left] or [right] (or [leave]).')\n",
    "        response = choose()\n",
    "        if response == 'left':\n",
    "            item = go_left()\n",
    "        \n",
    "        elif response == 'right':\n",
    "            item = go_right(item)\n",
    "           \n",
    "        elif response == 'leave':\n",
    "            if item == 'nothing':\n",
    "                print(\"But you haven't found anything yet. Keep looking!\")\n",
    "            else:\n",
    "                return item\n",
    "            \n",
    "        else:\n",
    "            bad_choice()\n",
    "\n",
    "            \n",
    "def go_on_adventure():\n",
    "    while True:\n",
    "        print('You found a cave!')\n",
    "        print('1) Go in it')\n",
    "        print('2) Go home')\n",
    "        response = choose()\n",
    "    \n",
    "        if response == '1':\n",
    "            return enter_cave()\n",
    "\n",
    "        elif response == '2':\n",
    "            print(\"No! That's lame. You haven't found anything yet.\")\n",
    "\n",
    "        else:\n",
    "            bad_choice()\n",
    "        \n",
    "        \n",
    "def main():\n",
    "    item = go_on_adventure()\n",
    "    print(f'You returned victoriously with {item}!')\n",
    "\n",
    "\n",
    "if __name__ == '__main__':\n",
    "    main()\n",
    "    "
   ]
  },
  {
   "cell_type": "markdown",
   "id": "04caff18",
   "metadata": {
    "slideshow": {
     "slide_type": "slide"
    }
   },
   "source": [
    "## Key Ideas\n",
    "\n",
    "- types\n",
    "  - `int` vs `str`\n",
    "- `+`, `-`\n",
    "  - `+` also works on strings\n",
    "- `==`, `<`, `>`\n",
    "  - work with both integers and strings\n",
    "- Input loops\n",
    "  - `break` or `return` to get out of a loop"
   ]
  }
 ],
 "metadata": {
  "celltoolbar": "Slideshow",
  "kernelspec": {
   "display_name": "Python 3 (ipykernel)",
   "language": "python",
   "name": "python3"
  },
  "language_info": {
   "codemirror_mode": {
    "name": "ipython",
    "version": 3
   },
   "file_extension": ".py",
   "mimetype": "text/x-python",
   "name": "python",
   "nbconvert_exporter": "python",
   "pygments_lexer": "ipython3",
   "version": "3.11.5"
  },
  "toc": {
   "base_numbering": 1,
   "nav_menu": {},
   "number_sections": false,
   "sideBar": true,
   "skip_h1_title": true,
   "title_cell": "Table of Contents",
   "title_sidebar": "Contents",
   "toc_cell": false,
   "toc_position": {},
   "toc_section_display": true,
   "toc_window_display": false
  }
 },
 "nbformat": 4,
 "nbformat_minor": 5
}
