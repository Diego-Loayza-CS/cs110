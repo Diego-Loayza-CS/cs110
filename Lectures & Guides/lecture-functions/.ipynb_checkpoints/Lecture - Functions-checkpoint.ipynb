{
 "cells": [
  {
   "cell_type": "markdown",
   "id": "2a982b6a",
   "metadata": {
    "slideshow": {
     "slide_type": "slide"
    }
   },
   "source": [
    "# Functions"
   ]
  },
  {
   "cell_type": "markdown",
   "id": "e69d31e4",
   "metadata": {
    "slideshow": {
     "slide_type": "skip"
    }
   },
   "source": [
    "Topics\n",
    "\n",
    "- `def`\n",
    "- calling with `()`\n",
    "- passing an argument for `bit`\n",
    "- abstraction and decomposition\n",
    "- `bit.snapshot('place')`"
   ]
  },
  {
   "cell_type": "markdown",
   "id": "4a1cbff9",
   "metadata": {
    "slideshow": {
     "slide_type": "slide"
    }
   },
   "source": [
    "<center><img src='https://upload.wikimedia.org/wikipedia/commons/e/ec/Mona_Lisa%2C_by_Leonardo_da_Vinci%2C_from_C2RMF_retouched.jpg' width='400px' /></center>"
   ]
  },
  {
   "cell_type": "markdown",
   "id": "30ab8823",
   "metadata": {
    "slideshow": {
     "slide_type": "notes"
    }
   },
   "source": [
    "**NOTES**\n",
    "\n",
    "A woman and her husband were standing in the Lourve observing the Mono Lisa. The husband turned to his wife and commented: \"I don't see what so great about this painting.\" In response, the musuem guard standing nearby leaned over and replied: \"Ah! But don't you wish you could!\"\n",
    "\n",
    "The ability to behold beauty, creativity, and talent is a gift. In a domain that is new to us, we may sometimes feel like the husband in this story: failing to appreciate what is in front of us. \n",
    "\n",
    "At first, you may have a similar experience as you learn how to program. There are many ways to write a program, but some are better than others. You might not appreciate the intelligence behind the differences at first, but as you practice and study, the differences will become more clear. You will learn the patterns, intuitions, and techniques that make programming enjoyable and powerful.\n",
    "\n",
    "Then, not only will you be able to appreciate the competent work of others, you will be able to create intelligent, beautiful code of your own."
   ]
  },
  {
   "cell_type": "markdown",
   "id": "bbe4dbc2",
   "metadata": {
    "slideshow": {
     "slide_type": "slide"
    }
   },
   "source": [
    "Writing code is like painting.\n",
    "\n",
    "There are techniques to learn, like color-mixing, brush strokes, layering, shading, perspective, etc.\n",
    "\n",
    "There is also creative intuition: the ability to exercise the techniques you know to create something beautify. \n",
    "\n",
    "To build beautiful code, you'll need to **know the techniques**, and you'll need to **develop creative intuition**.\n",
    "\n",
    "Over the next few days, we'll talk about important techniques and practice, practice, practice!"
   ]
  },
  {
   "cell_type": "code",
   "execution_count": 8,
   "id": "bfa9f496",
   "metadata": {
    "slideshow": {
     "slide_type": "skip"
    }
   },
   "outputs": [],
   "source": [
    "! mkdir -p images for_class/worlds"
   ]
  },
  {
   "cell_type": "markdown",
   "id": "1ebe8bd7",
   "metadata": {
    "slideshow": {
     "slide_type": "slide"
    }
   },
   "source": [
    "## `def`"
   ]
  },
  {
   "cell_type": "markdown",
   "id": "c1d8490c",
   "metadata": {
    "slideshow": {
     "slide_type": "slide"
    }
   },
   "source": [
    "You can define more than one function in a script.\n",
    "\n",
    "### `three_reds.py`"
   ]
  },
  {
   "cell_type": "code",
   "execution_count": 1,
   "id": "e35a0107",
   "metadata": {
    "slideshow": {
     "slide_type": "skip"
    }
   },
   "outputs": [
    {
     "name": "stdout",
     "output_type": "stream",
     "text": [
      "Overwriting for_class/three_reds.py\n"
     ]
    }
   ],
   "source": [
    "%%file for_class/three_reds.py\n",
    "from byubit import Bit\n",
    "\n",
    "\n",
    "def three_red(bit):\n",
    "    bit.paint('red')\n",
    "    bit.move()\n",
    "    bit.paint('red')\n",
    "    bit.move()\n",
    "    bit.paint('red')\n",
    "    bit.move()\n",
    "\n",
    "    \n",
    "@Bit.empty_world(7, 4)\n",
    "def run(bit):\n",
    "    three_red(bit)\n",
    "    bit.left()\n",
    "    three_red(bit)\n",
    "    bit.right()\n",
    "    three_red(bit)\n",
    "\n",
    "    \n",
    "if __name__ == '__main__':\n",
    "    run(Bit.new_bit)\n"
   ]
  },
  {
   "cell_type": "markdown",
   "id": "111525c6",
   "metadata": {
    "slideshow": {
     "slide_type": "slide"
    }
   },
   "source": [
    "## `snapshot`"
   ]
  },
  {
   "cell_type": "markdown",
   "id": "bba06650",
   "metadata": {
    "slideshow": {
     "slide_type": "slide"
    }
   },
   "source": [
    "Bit has the ability to take a snapshot of the world using the `snapshot` function.\n",
    "\n",
    "### `snap_three_reds.py`"
   ]
  },
  {
   "cell_type": "code",
   "execution_count": 2,
   "id": "fc61bdcc",
   "metadata": {
    "slideshow": {
     "slide_type": "skip"
    }
   },
   "outputs": [
    {
     "name": "stdout",
     "output_type": "stream",
     "text": [
      "Overwriting for_class/snap_three_reds.py\n"
     ]
    }
   ],
   "source": [
    "%%file for_class/snap_three_reds.py\n",
    "from byubit import Bit\n",
    "\n",
    "\n",
    "def three_red(bit):\n",
    "    bit.paint('red')\n",
    "    bit.move()\n",
    "    bit.paint('red')\n",
    "    bit.move()\n",
    "    bit.paint('red')\n",
    "    bit.move()\n",
    "    bit.snapshot('End of three reds')\n",
    "\n",
    "    \n",
    "@Bit.empty_world(7, 4)\n",
    "def run(bit):\n",
    "    three_red(bit)\n",
    "    bit.left()\n",
    "    three_red(bit)\n",
    "    bit.right()\n",
    "    three_red(bit)\n",
    "\n",
    "    \n",
    "if __name__ == '__main__':\n",
    "    run(Bit.new_bit)\n"
   ]
  },
  {
   "cell_type": "markdown",
   "id": "9302f3de",
   "metadata": {
    "slideshow": {
     "slide_type": "slide"
    }
   },
   "source": [
    "You can use any phrase you want when making a snapshot.\n",
    "\n",
    "The `Jump` buttons take you to the previous or next snapshot."
   ]
  },
  {
   "cell_type": "markdown",
   "id": "93b02638",
   "metadata": {
    "slideshow": {
     "slide_type": "slide"
    }
   },
   "source": [
    "## Naming variables"
   ]
  },
  {
   "cell_type": "markdown",
   "id": "c95d5d59",
   "metadata": {},
   "source": [
    "### `cosmo.py`"
   ]
  },
  {
   "cell_type": "code",
   "execution_count": 3,
   "id": "844074ec",
   "metadata": {
    "slideshow": {
     "slide_type": "skip"
    }
   },
   "outputs": [
    {
     "name": "stdout",
     "output_type": "stream",
     "text": [
      "Overwriting for_class/cosmo.py\n"
     ]
    }
   ],
   "source": [
    "%%file for_class/cosmo.py\n",
    "from byubit import Bit\n",
    "\n",
    "\n",
    "def dance(cosmo):\n",
    "    cosmo.left()\n",
    "    cosmo.left()\n",
    "    cosmo.right()\n",
    "    cosmo.right()\n",
    "\n",
    "    \n",
    "@Bit.empty_world(5, 3)\n",
    "def run(bit):\n",
    "    bit.move()\n",
    "    dance(bit)\n",
    "    bit.move()\n",
    "    dance(bit)\n",
    "    \n",
    "    \n",
    "if __name__ == '__main__':\n",
    "    run(Bit.new_bit)\n"
   ]
  },
  {
   "cell_type": "markdown",
   "id": "6fbcfb85",
   "metadata": {
    "slideshow": {
     "slide_type": "slide"
    }
   },
   "source": [
    "When naming a function or variable:\n",
    "- Use underscore `_` (next to the zero key + <kbd>shift</kbd>) to break up compound names\n",
    "  - `go_green` instead of `gogreen` or `goGreen`\n",
    "- use lower-case characters\n",
    "  - `go` instead of `Go` or `GO`\n",
    "  - Casing matters: `go` is different from `Go`!"
   ]
  },
  {
   "cell_type": "markdown",
   "id": "d18a4484",
   "metadata": {
    "slideshow": {
     "slide_type": "slide"
    }
   },
   "source": [
    "In `blue_squares.py`, when will Bit paint a blue square?\n",
    "\n",
    "### `blue_squares.py`"
   ]
  },
  {
   "cell_type": "code",
   "execution_count": 4,
   "id": "cf99d30e",
   "metadata": {
    "slideshow": {
     "slide_type": "skip"
    }
   },
   "outputs": [
    {
     "name": "stdout",
     "output_type": "stream",
     "text": [
      "Overwriting for_class/blue_squares.py\n"
     ]
    }
   ],
   "source": [
    "%%file for_class/blue_squares.py\n",
    "from byubit import Bit\n",
    "\n",
    "\n",
    "def reds(bit):\n",
    "    bit.paint('red')\n",
    "    bit.move()\n",
    "    bit.paint('red')\n",
    "    bit.move()\n",
    "    \n",
    "    \n",
    "def blues(bit):\n",
    "    bit.paint('blue')\n",
    "    bit.move()\n",
    "    bit.paint('blue')\n",
    "    bit.move()\n",
    "    \n",
    "    \n",
    "def greens(bit):\n",
    "    bit.paint('green')\n",
    "    bit.move()\n",
    "    bit.paint('green')\n",
    "    bit.move()\n",
    "\n",
    "    \n",
    "@Bit.empty_world(5, 3)\n",
    "def run(bit):\n",
    "    reds(bit)\n",
    "    greens(bit)\n",
    "\n",
    "\n",
    "if __name__ == '__main__':\n",
    "    run(Bit.new_bit)\n"
   ]
  },
  {
   "cell_type": "markdown",
   "id": "4d0cc84c",
   "metadata": {
    "slideshow": {
     "slide_type": "slide"
    }
   },
   "source": [
    "Defining a function is not the same as calling a function."
   ]
  },
  {
   "cell_type": "markdown",
   "id": "622b8670",
   "metadata": {
    "slideshow": {
     "slide_type": "slide"
    }
   },
   "source": [
    "## Docstrings"
   ]
  },
  {
   "cell_type": "code",
   "execution_count": 1,
   "id": "0dab4707",
   "metadata": {
    "slideshow": {
     "slide_type": "skip"
    }
   },
   "outputs": [
    {
     "name": "stdout",
     "output_type": "stream",
     "text": [
      "Overwriting for_class/documented.py\n"
     ]
    }
   ],
   "source": [
    "%%file for_class/documented.py\n",
    "from byubit import Bit\n",
    "\n",
    "\n",
    "def spin(bit):\n",
    "    \"\"\"\n",
    "    Spins Bit 360 degrees\n",
    "    \n",
    "    Bit ends facing the same direction as the start.\n",
    "    \"\"\"\n",
    "    bit.left()\n",
    "    bit.left()\n",
    "    bit.left()\n",
    "    bit.left()\n",
    "    \n",
    "    \n",
    "@Bit.empty_world(5, 3)\n",
    "def run(bit):\n",
    "    spin(bit)\n",
    "    bit.move()\n",
    "    spin(bit)\n",
    "\n",
    "    \n",
    "if __name__ == '__main__':\n",
    "    run(Bit.new_bit)\n"
   ]
  },
  {
   "cell_type": "markdown",
   "id": "c3d7b5af",
   "metadata": {
    "slideshow": {
     "slide_type": "slide"
    }
   },
   "source": [
    "The very first line after `def` can have a string. When this is the case, we call that string a **docstring** because it documents the function: you use it to describe what the function is for and how to use it.\n",
    "\n",
    "Strings that use single quotation characters (e.g. `\"` or `'`) are only one line. \n",
    "\n",
    "If you want to use multiple lines for your string, use triple quotes (`\"\"\"` or `'''`)."
   ]
  },
  {
   "cell_type": "markdown",
   "id": "6ef171d5",
   "metadata": {
    "slideshow": {
     "slide_type": "slide"
    }
   },
   "source": [
    "<img src='https://upload.wikimedia.org/wikipedia/commons/4/44/Jelly_cc11.jpg'/>"
   ]
  },
  {
   "cell_type": "markdown",
   "id": "c8d6ece9",
   "metadata": {
    "slideshow": {
     "slide_type": "notes"
    }
   },
   "source": [
    "**NOTES**\n",
    "\n",
    "Gordon Bean:\n",
    "> When our oldest child was just learning how to crawl, my wife and I discovered that our daughter would often get right up behind us without us realizing it. When we would turn around to move to another activity, we would stumble over her. It wasn't a great setup. We were often warning each other that there was a baby right behind. So one day my wife declared: \"We need a code word we can use to say 'be careful turning around: there is a baby right behind you'\" I agreed that was a good idea, and after a moment's thought she declared \"jellyfish\".\n",
    "\n",
    "> So, for several years, we've used the term *jellyfish* to communicate \"watch out, there is someone/something right behind you that you might run into as you turn around\". It's become second nature. So much, in fact, that I almost used it with a colleague one day as I navigated a crowded room and was passing right behind her.\n",
    "\n",
    "Human beings have a natural ability for creating ideas (\"watch out for the baby right behind you\") and giving those ideas names (\"jellyfish\"). \n",
    "\n",
    "Defining functions is just like that. We get to come up with the idea we want and name it. Then we can use it just like it is an ordinary word. \n"
   ]
  },
  {
   "cell_type": "markdown",
   "id": "1cd9ffb5",
   "metadata": {
    "slideshow": {
     "slide_type": "fragment"
    }
   },
   "source": [
    "<div class='alert alert-info'>\n",
    "    Functions give you the ability to <b>create</b> and <b>name</b> new ideas.\n",
    "</div>"
   ]
  },
  {
   "cell_type": "markdown",
   "id": "a8053d80",
   "metadata": {
    "slideshow": {
     "slide_type": "slide"
    }
   },
   "source": [
    "## Smiles 😁 😃 🙂 🙃"
   ]
  },
  {
   "cell_type": "code",
   "execution_count": 21,
   "id": "12ebda6c",
   "metadata": {
    "slideshow": {
     "slide_type": "skip"
    }
   },
   "outputs": [
    {
     "name": "stdout",
     "output_type": "stream",
     "text": [
      "Overwriting for_class/worlds/smiles.start.txt\n"
     ]
    }
   ],
   "source": [
    "%%file for_class/worlds/smiles.start.txt\n",
    "-------------------------\n",
    "-------------------------\n",
    "-------------------------\n",
    "-------------------------\n",
    "-------------------------\n",
    "-------------------------\n",
    "0 4\n",
    "0"
   ]
  },
  {
   "cell_type": "code",
   "execution_count": 22,
   "id": "083b536c",
   "metadata": {
    "slideshow": {
     "slide_type": "skip"
    }
   },
   "outputs": [
    {
     "name": "stdout",
     "output_type": "stream",
     "text": [
      "Overwriting for_class/worlds/smiles.finish.txt\n"
     ]
    }
   ],
   "source": [
    "%%file for_class/worlds/smiles.finish.txt\n",
    "-------------------------\n",
    "-b---b-b---b-b---b-b---b-\n",
    "-------------------------\n",
    "-b---b-b---b-b---b-b---b-\n",
    "--bbb---bbb---bbb---bbb--\n",
    "-------------------------\n",
    "23 4\n",
    "0"
   ]
  },
  {
   "cell_type": "code",
   "execution_count": 8,
   "id": "382fc637",
   "metadata": {
    "slideshow": {
     "slide_type": "skip"
    }
   },
   "outputs": [
    {
     "name": "stdout",
     "output_type": "stream",
     "text": [
      "Overwriting smiles_impl.py\n"
     ]
    }
   ],
   "source": [
    "%%file smiles_impl.py\n",
    "from byubit import Bit\n",
    "\n",
    "\n",
    "def paint_eye_and_corner(bit):\n",
    "    \"Paint blue, skip, and blue again. End on the second blue square.\"\n",
    "    bit.paint('blue')\n",
    "    bit.move()\n",
    "    bit.move()\n",
    "    bit.paint('blue')\n",
    "    \n",
    "    \n",
    "def turn_left(bit):\n",
    "    bit.move()\n",
    "    bit.left()\n",
    "    bit.move()\n",
    "    \n",
    "    \n",
    "def paint_bottom(bit):\n",
    "    \"Paint 3 blue squares in a row. End on the last blue square.\"\n",
    "    bit.paint('blue')\n",
    "    bit.move()\n",
    "    bit.paint('blue')\n",
    "    bit.move()\n",
    "    bit.paint('blue')\n",
    "\n",
    "    \n",
    "def draw_smile(bit):\n",
    "    \"\"\"\n",
    "    Draw a smile in a 4x4 box.\n",
    "    Starts on the left eye, ends on the right eye facing the original direction\n",
    "    \"\"\"\n",
    "    bit.right()\n",
    "    paint_eye_and_corner(bit)\n",
    "    turn_left(bit)\n",
    "    paint_bottom(bit)\n",
    "    turn_left(bit)\n",
    "    paint_eye_and_corner(bit)\n",
    "    bit.right()\n",
    "    bit.snapshot('Smile!')\n",
    "    \n",
    "    \n",
    "@Bit.worlds('for_class/worlds/smiles')\n",
    "@Bit.pictures('images/', ext='svg', title='Smiles')\n",
    "def run(bit):\n",
    "    bit.move()\n",
    "    draw_smile(bit)\n",
    "    \n",
    "    bit.move()\n",
    "    bit.move()\n",
    "    \n",
    "    draw_smile(bit)\n",
    "    \n",
    "    bit.move()\n",
    "    bit.move()\n",
    "    \n",
    "    draw_smile(bit)\n",
    "    \n",
    "    bit.move()\n",
    "    bit.move()\n",
    "    \n",
    "    draw_smile(bit)\n",
    "    \n",
    "    \n",
    "if __name__ == '__main__':\n",
    "    run(Bit.new_bit)\n"
   ]
  },
  {
   "cell_type": "code",
   "execution_count": 9,
   "id": "047dddb2",
   "metadata": {
    "slideshow": {
     "slide_type": "skip"
    }
   },
   "outputs": [
    {
     "name": "stdout",
     "output_type": "stream",
     "text": [
      "Saving bit world to images/smiles.start.svg\n",
      "Saving bit world to images/smiles.finish.svg\n"
     ]
    }
   ],
   "source": [
    "! python smiles_impl.py"
   ]
  },
  {
   "cell_type": "code",
   "execution_count": 10,
   "id": "14311fde",
   "metadata": {
    "slideshow": {
     "slide_type": "skip"
    }
   },
   "outputs": [],
   "source": [
    "! cat smiles_impl.py | grep -v '@Bit.pi' | sed -e 's#for_class/worlds/##' > for_class/smiles_complete.py"
   ]
  },
  {
   "cell_type": "markdown",
   "id": "7a2c2d6e",
   "metadata": {
    "cell_style": "split",
    "slideshow": {
     "slide_type": "slide"
    }
   },
   "source": [
    "Given the following starting world:\n",
    "\n",
    "<img src='images/smiles.start.svg'>\n",
    "\n",
    "Draw four blue smiles:\n",
    "\n",
    "<img src='images/smiles.finish.svg'>"
   ]
  },
  {
   "cell_type": "markdown",
   "id": "5da5d04a",
   "metadata": {
    "cell_style": "split",
    "slideshow": {
     "slide_type": "-"
    }
   },
   "source": [
    "### `smiles.py`\n",
    "\n",
    "- Draw out a strategy\n",
    "- Identify the pieces\n",
    "  - What are the ideas, how do they fit together?\n",
    "- Implement one piece at a time"
   ]
  },
  {
   "cell_type": "code",
   "execution_count": 11,
   "id": "f7574860",
   "metadata": {
    "slideshow": {
     "slide_type": "skip"
    }
   },
   "outputs": [
    {
     "name": "stdout",
     "output_type": "stream",
     "text": [
      "Overwriting for_class/smiles.py\n"
     ]
    }
   ],
   "source": [
    "%%file for_class/smiles.py\n",
    "from byubit import Bit\n",
    "\n",
    "\n",
    "@Bit.worlds('smiles')\n",
    "def run(bit):\n",
    "    pass\n",
    "\n",
    "\n",
    "if __name__ == '__main__':\n",
    "    run(Bit.new_bit)\n"
   ]
  },
  {
   "cell_type": "markdown",
   "id": "ebdd0b78",
   "metadata": {
    "slideshow": {
     "slide_type": "slide"
    }
   },
   "source": [
    "## Key Ideas\n",
    "- Define functions with `def`\n",
    "- Make functions to represent complex ideas: abstraction\n",
    "- Make functions to define tasks that will be repeated\n",
    "- Naming functions and variables\n",
    "- Docstrings"
   ]
  }
 ],
 "metadata": {
  "celltoolbar": "Slideshow",
  "kernelspec": {
   "display_name": "Python 3 (ipykernel)",
   "language": "python",
   "name": "python3"
  },
  "language_info": {
   "codemirror_mode": {
    "name": "ipython",
    "version": 3
   },
   "file_extension": ".py",
   "mimetype": "text/x-python",
   "name": "python",
   "nbconvert_exporter": "python",
   "pygments_lexer": "ipython3",
   "version": "3.9.13"
  },
  "toc": {
   "base_numbering": 1,
   "nav_menu": {},
   "number_sections": false,
   "sideBar": true,
   "skip_h1_title": true,
   "title_cell": "Table of Contents",
   "title_sidebar": "Contents",
   "toc_cell": false,
   "toc_position": {},
   "toc_section_display": true,
   "toc_window_display": false
  }
 },
 "nbformat": 4,
 "nbformat_minor": 5
}
