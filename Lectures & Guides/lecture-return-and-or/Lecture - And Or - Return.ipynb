{
 "cells": [
  {
   "cell_type": "markdown",
   "id": "ed3b9ce2",
   "metadata": {
    "slideshow": {
     "slide_type": "slide"
    }
   },
   "source": [
    "# `return`, `and`/`or`"
   ]
  },
  {
   "cell_type": "code",
   "execution_count": null,
   "id": "590629d9",
   "metadata": {
    "slideshow": {
     "slide_type": "skip"
    }
   },
   "outputs": [],
   "source": [
    "!mkdir -p images for_class/worlds"
   ]
  },
  {
   "cell_type": "markdown",
   "id": "d180126a",
   "metadata": {
    "slideshow": {
     "slide_type": "slide"
    }
   },
   "source": [
    "## `return`"
   ]
  },
  {
   "cell_type": "code",
   "execution_count": null,
   "id": "6e870444",
   "metadata": {
    "slideshow": {
     "slide_type": "skip"
    }
   },
   "outputs": [],
   "source": [
    "%%file for_class/worlds/blue-trail.start.txt\n",
    "-------\n",
    "bbbb---\n",
    "-------\n",
    "0 1\n",
    "0"
   ]
  },
  {
   "cell_type": "code",
   "execution_count": null,
   "id": "c140fc11",
   "metadata": {
    "slideshow": {
     "slide_type": "skip"
    }
   },
   "outputs": [],
   "source": [
    "%%file for_class/worlds/blue-trail.finish.txt\n",
    "-------\n",
    "bbbb---\n",
    "-------\n",
    "4 1\n",
    "0"
   ]
  },
  {
   "cell_type": "code",
   "execution_count": null,
   "id": "c06745d7",
   "metadata": {
    "slideshow": {
     "slide_type": "skip"
    }
   },
   "outputs": [],
   "source": [
    "%%file for_class/worlds/blue-trail2.start.txt\n",
    "-------\n",
    "bbbbbbb\n",
    "-------\n",
    "0 1\n",
    "0"
   ]
  },
  {
   "cell_type": "code",
   "execution_count": null,
   "id": "fe9a708c",
   "metadata": {
    "slideshow": {
     "slide_type": "skip"
    }
   },
   "outputs": [],
   "source": [
    "%%file for_class/worlds/blue-trail2.finish.txt\n",
    "-------\n",
    "bbbbbbb\n",
    "-------\n",
    "6 1\n",
    "0"
   ]
  },
  {
   "cell_type": "code",
   "execution_count": null,
   "id": "5bc6b462",
   "metadata": {
    "scrolled": true,
    "slideshow": {
     "slide_type": "skip"
    }
   },
   "outputs": [],
   "source": [
    "from byubit import Bit\n",
    "Bit.load('for_class/worlds/blue-trail.start.txt').draw('images/blue-trail.start.svg', message='Blue Trail')\n",
    "Bit.load('for_class/worlds/blue-trail.finish.txt').draw('images/blue-trail.finish.svg', message='Blue Trail')\n",
    "Bit.load('for_class/worlds/blue-trail2.start.txt').draw('images/blue-trail2.start.svg', message='Blue Trail 2')\n",
    "Bit.load('for_class/worlds/blue-trail2.finish.txt').draw('images/blue-trail2.finish.svg', message='Blue Trail 2')"
   ]
  },
  {
   "cell_type": "markdown",
   "id": "18b1a673",
   "metadata": {
    "slideshow": {
     "slide_type": "slide"
    }
   },
   "source": [
    "### ```blue_trail.py```\n",
    "\n",
    "Move Bit along the blue trail. Stop when the blue stops, or when Bit is blocked in front.\n",
    "\n",
    "<center>\n",
    "<div style='width: 800px'>\n",
    "    <div style='float: left; width: 400px'><img src='images/blue-trail.start.svg'></div>\n",
    "    <div style='float: right; width: 400px'><img src='images/blue-trail.finish.svg' ></div>\n",
    "</div>\n",
    "</center>\n",
    "    \n",
    "<div style='width: 500px'></div>\n",
    "\n",
    "<hr style='width: 400px'/>\n",
    "\n",
    "<center>\n",
    "<div style='width: 800px'>\n",
    "    <div style='float: left; width: 400px'><img src='images/blue-trail2.start.svg'></div>\n",
    "    <div style='float: right; width: 400px'><img src='images/blue-trail2.finish.svg' ></div>\n",
    "</div>\n",
    "</center>"
   ]
  },
  {
   "cell_type": "code",
   "execution_count": null,
   "id": "79aefd92",
   "metadata": {
    "slideshow": {
     "slide_type": "skip"
    }
   },
   "outputs": [],
   "source": [
    "%%file for_class/blue_trail.py\n",
    "from byubit import Bit\n",
    "\n",
    "\n",
    "def keep_going(bit):\n",
    "    if not bit.front_clear():\n",
    "        return False\n",
    "    \n",
    "    elif not bit.is_blue():\n",
    "        return False\n",
    "    \n",
    "    else:\n",
    "        return True\n",
    "\n",
    "    \n",
    "@Bit.worlds('blue_trail', 'blue_trail2')\n",
    "def run(bit):\n",
    "    while keep_going(bit):\n",
    "        bit.move()\n",
    "      \n",
    "    \n",
    "if __name__ == '__main__':\n",
    "    run(Bit.new_bit)\n",
    "    "
   ]
  },
  {
   "cell_type": "code",
   "execution_count": null,
   "id": "4bec595a",
   "metadata": {
    "slideshow": {
     "slide_type": "skip"
    }
   },
   "outputs": [],
   "source": [
    "! cd for_class && python blue_trail.py && cd .."
   ]
  },
  {
   "cell_type": "markdown",
   "id": "b72eb8f9",
   "metadata": {
    "slideshow": {
     "slide_type": "slide"
    }
   },
   "source": [
    "## 🖌 `and`"
   ]
  },
  {
   "cell_type": "code",
   "execution_count": 1,
   "id": "20e22260",
   "metadata": {
    "slideshow": {
     "slide_type": "fragment"
    }
   },
   "outputs": [
    {
     "name": "stdout",
     "output_type": "stream",
     "text": [
      "True\n"
     ]
    }
   ],
   "source": [
    "print(True and True)"
   ]
  },
  {
   "cell_type": "code",
   "execution_count": 2,
   "id": "5363775e",
   "metadata": {
    "slideshow": {
     "slide_type": "fragment"
    }
   },
   "outputs": [
    {
     "name": "stdout",
     "output_type": "stream",
     "text": [
      "False\n"
     ]
    }
   ],
   "source": [
    "print(True and False)"
   ]
  },
  {
   "cell_type": "code",
   "execution_count": 3,
   "id": "a2c54a87",
   "metadata": {
    "slideshow": {
     "slide_type": "fragment"
    }
   },
   "outputs": [
    {
     "name": "stdout",
     "output_type": "stream",
     "text": [
      "False\n"
     ]
    }
   ],
   "source": [
    "print(False and False)"
   ]
  },
  {
   "cell_type": "markdown",
   "id": "a78ff9e8",
   "metadata": {
    "slideshow": {
     "slide_type": "slide"
    }
   },
   "source": [
    "### `blue_trail_and.py`"
   ]
  },
  {
   "cell_type": "code",
   "execution_count": null,
   "id": "8937a5dc",
   "metadata": {
    "slideshow": {
     "slide_type": "skip"
    }
   },
   "outputs": [],
   "source": [
    "%%file for_class/blue_trail_and.py\n",
    "from byubit import Bit\n",
    "\n",
    "\n",
    "def should_keep_going(bit):\n",
    "    return bit.front_clear() and bit.is_blue()\n",
    "\n",
    "\n",
    "@Bit.worlds('blue_trail', 'blue_trail2')\n",
    "def go(bit):\n",
    "    while should_keep_going(bit):\n",
    "        bit.move()\n",
    "        \n",
    "        \n",
    "if __name__ == '__main__':\n",
    "    go(Bit.new_bit)\n",
    "    "
   ]
  },
  {
   "cell_type": "code",
   "execution_count": null,
   "id": "3e713301",
   "metadata": {
    "slideshow": {
     "slide_type": "skip"
    }
   },
   "outputs": [],
   "source": [
    "! cd for_class && python blue_trail_and.py && cd .."
   ]
  },
  {
   "cell_type": "markdown",
   "id": "3a000336",
   "metadata": {
    "slideshow": {
     "slide_type": "slide"
    }
   },
   "source": [
    "## 🖌 `or`"
   ]
  },
  {
   "cell_type": "code",
   "execution_count": null,
   "id": "e532d8f3",
   "metadata": {
    "slideshow": {
     "slide_type": "skip"
    }
   },
   "outputs": [],
   "source": [
    "%%file for_class/worlds/red-or-green.start.txt\n",
    "-------\n",
    "-rg-rg-\n",
    "-------\n",
    "0 1\n",
    "0"
   ]
  },
  {
   "cell_type": "code",
   "execution_count": null,
   "id": "0a9bb162",
   "metadata": {
    "slideshow": {
     "slide_type": "skip"
    }
   },
   "outputs": [],
   "source": [
    "%%file for_class/worlds/red-or-green.finish.txt\n",
    "-------\n",
    "-bb-bb-\n",
    "-------\n",
    "6 1\n",
    "0"
   ]
  },
  {
   "cell_type": "code",
   "execution_count": null,
   "id": "09b758a5",
   "metadata": {
    "slideshow": {
     "slide_type": "skip"
    }
   },
   "outputs": [],
   "source": [
    "from byubit import Bit\n",
    "Bit.load('for_class/worlds/red-or-green.start.txt').draw('images/red-or-green.start.svg', message='Red or Green')\n",
    "Bit.load('for_class/worlds/red-or-green.finish.txt').draw('images/red-or-green.finish.svg', message='Blue now')"
   ]
  },
  {
   "cell_type": "code",
   "execution_count": 4,
   "id": "55f8d0b5",
   "metadata": {
    "slideshow": {
     "slide_type": "slide"
    }
   },
   "outputs": [
    {
     "name": "stdout",
     "output_type": "stream",
     "text": [
      "True\n"
     ]
    }
   ],
   "source": [
    "print(True or True)"
   ]
  },
  {
   "cell_type": "code",
   "execution_count": 5,
   "id": "8deda3a3",
   "metadata": {
    "slideshow": {
     "slide_type": "fragment"
    }
   },
   "outputs": [
    {
     "name": "stdout",
     "output_type": "stream",
     "text": [
      "True\n"
     ]
    }
   ],
   "source": [
    "print(True or False)"
   ]
  },
  {
   "cell_type": "code",
   "execution_count": 7,
   "id": "6e0821b3",
   "metadata": {
    "slideshow": {
     "slide_type": "fragment"
    }
   },
   "outputs": [
    {
     "name": "stdout",
     "output_type": "stream",
     "text": [
      "False\n"
     ]
    }
   ],
   "source": [
    "print(False or False)"
   ]
  },
  {
   "cell_type": "markdown",
   "id": "80053e6b",
   "metadata": {
    "slideshow": {
     "slide_type": "slide"
    }
   },
   "source": [
    "### `red_or_green.py`\n",
    "\n",
    "If the square is red or green, paint it blue.\n",
    "\n",
    "<img src='images/red-or-green.start.svg' />\n",
    "<img src='images/red-or-green.finish.svg' />"
   ]
  },
  {
   "cell_type": "code",
   "execution_count": null,
   "id": "2dc9fe31",
   "metadata": {
    "slideshow": {
     "slide_type": "skip"
    }
   },
   "outputs": [],
   "source": [
    "%%file for_class/red_or_green.py\n",
    "from byubit import Bit\n",
    "\n",
    "\n",
    "def should_be_blue(bit):\n",
    "    return bit.is_red() or bit.is_green()\n",
    "        \n",
    "    \n",
    "@Bit.worlds('red-or-green')\n",
    "def go(bit):\n",
    "    while bit.front_clear():\n",
    "        bit.move()\n",
    "        if should_be_blue(bit):\n",
    "            bit.paint('blue')\n",
    "\n",
    "            \n",
    "if __name__ == '__main__':\n",
    "    go(Bit.new_bit)\n"
   ]
  },
  {
   "cell_type": "code",
   "execution_count": null,
   "id": "a19aaf9c",
   "metadata": {
    "slideshow": {
     "slide_type": "skip"
    }
   },
   "outputs": [],
   "source": [
    "! cd for_class && python red_or_green.py && cd .."
   ]
  },
  {
   "cell_type": "markdown",
   "id": "5bed50ec",
   "metadata": {
    "slideshow": {
     "slide_type": "slide"
    }
   },
   "source": [
    "## 🎨 🖌 Complex logic"
   ]
  },
  {
   "cell_type": "code",
   "execution_count": null,
   "id": "b3d165ef",
   "metadata": {
    "slideshow": {
     "slide_type": "skip"
    }
   },
   "outputs": [],
   "source": [
    "%%file for_class/worlds/frog-on-rock.start.txt\n",
    "----------\n",
    "--rg-g-g--\n",
    "kbkbkbbkbk\n",
    "0 1\n",
    "0"
   ]
  },
  {
   "cell_type": "code",
   "execution_count": null,
   "id": "b3e1281c",
   "metadata": {
    "slideshow": {
     "slide_type": "skip"
    }
   },
   "outputs": [],
   "source": [
    "%%file for_class/worlds/frog-on-rock.finish.txt\n",
    "----------\n",
    "--rg-g----\n",
    "kbkbkbbkbk\n",
    "9 1\n",
    "0"
   ]
  },
  {
   "cell_type": "code",
   "execution_count": null,
   "id": "41cf94b5",
   "metadata": {
    "slideshow": {
     "slide_type": "skip"
    }
   },
   "outputs": [],
   "source": [
    "from byubit import Bit\n",
    "Bit.load('for_class/worlds/frog-on-rock.start.txt').draw('images/frog-on-rock.start.svg', message='Frogs')\n",
    "Bit.load('for_class/worlds/frog-on-rock.finish.txt').draw('images/frog-on-rock.finish.svg', message='No Frogs')"
   ]
  },
  {
   "cell_type": "markdown",
   "id": "d3ba162e",
   "metadata": {
    "slideshow": {
     "slide_type": "slide"
    }
   },
   "source": [
    "### `cross_the_pond.py`\n",
    "\n",
    "The green squares above blue are lilypads. They don't jump away as Bit passes by.\n",
    "\n",
    "The red squares above black are flowers. They don't jump either.\n",
    "\n",
    "The green squares above black is a frog. It will jump if Bit passes by.\n",
    "\n",
    "Move Bit to the other side of the pond and clear the frogs.\n",
    "\n",
    "\n",
    "<div class='big centered'> 🐸 </div>\n",
    "\n",
    "<img src='images/frog-on-rock.start.svg' />\n",
    "<img src='images/frog-on-rock.finish.svg' />"
   ]
  },
  {
   "cell_type": "code",
   "execution_count": null,
   "id": "6d28f08b",
   "metadata": {
    "slideshow": {
     "slide_type": "skip"
    }
   },
   "outputs": [],
   "source": [
    "%%file for_class/cross_the_pond.py\n",
    "from byubit import Bit\n",
    "\n",
    "\n",
    "def is_frog(bit):\n",
    "    \"\"\"Square is a frog if it is green and above a black square\"\"\"\n",
    "    return bit.is_green() and not bit.right_clear()\n",
    "        \n",
    "    \n",
    "@Bit.worlds('frog-on-rock')\n",
    "def go(bit):\n",
    "    while bit.front_clear():\n",
    "        bit.move()\n",
    "        if is_frog(bit):\n",
    "            bit.erase()\n",
    "\n",
    "            \n",
    "if __name__ == '__main__':\n",
    "    go(Bit.new_bit)\n"
   ]
  },
  {
   "cell_type": "code",
   "execution_count": null,
   "id": "2d750a23",
   "metadata": {
    "slideshow": {
     "slide_type": "skip"
    }
   },
   "outputs": [],
   "source": [
    "! cd for_class && python cross_the_pond.py && cd .."
   ]
  },
  {
   "cell_type": "markdown",
   "id": "e9a62189",
   "metadata": {
    "slideshow": {
     "slide_type": "slide"
    }
   },
   "source": [
    "## Freedom"
   ]
  },
  {
   "cell_type": "code",
   "execution_count": null,
   "id": "0dead48a",
   "metadata": {
    "slideshow": {
     "slide_type": "skip"
    }
   },
   "outputs": [],
   "source": [
    "%%file for_class/worlds/freedom.start.txt\n",
    "kk-kk--\n",
    "-------\n",
    "kkk-k--\n",
    "0 1\n",
    "0"
   ]
  },
  {
   "cell_type": "code",
   "execution_count": null,
   "id": "ec22f817",
   "metadata": {
    "slideshow": {
     "slide_type": "skip"
    }
   },
   "outputs": [],
   "source": [
    "%%file for_class/worlds/freedom.finish.txt\n",
    "kk-kk--\n",
    "-------\n",
    "kkk-k--\n",
    "5 1\n",
    "0"
   ]
  },
  {
   "cell_type": "code",
   "execution_count": null,
   "id": "b0011707",
   "metadata": {
    "slideshow": {
     "slide_type": "skip"
    }
   },
   "outputs": [],
   "source": [
    "from byubit import Bit\n",
    "Bit.load('for_class/worlds/freedom.start.txt').draw('images/freedom.start.svg', message='Bondage')\n",
    "Bit.load('for_class/worlds/freedom.finish.txt').draw('images/freedom.finish.svg', message='Freedom')"
   ]
  },
  {
   "cell_type": "markdown",
   "id": "b5f57b53",
   "metadata": {
    "slideshow": {
     "slide_type": "slide"
    }
   },
   "source": [
    "### `to_freedom.py`\n",
    "\n",
    "Move Bit to the first space open on both sides.\n",
    "\n",
    "<img src='images/freedom.start.svg' />\n",
    "<img src='images/freedom.finish.svg' />"
   ]
  },
  {
   "cell_type": "code",
   "execution_count": null,
   "id": "a478b087",
   "metadata": {
    "slideshow": {
     "slide_type": "notes"
    }
   },
   "outputs": [],
   "source": [
    "%%file for_class/to_freedom.py\n",
    "from byubit import Bit\n",
    "\n",
    "\n",
    "def found_freedom(bit):\n",
    "    return bit.left_clear() and bit.right_clear()\n",
    "\n",
    "\n",
    "@Bit.worlds('freedom')\n",
    "def go(bit):\n",
    "    while not found_freedom(bit):\n",
    "        bit.move()\n",
    "        \n",
    "        \n",
    "if __name__ == '__main__':\n",
    "    go(Bit.new_bit)\n"
   ]
  },
  {
   "cell_type": "code",
   "execution_count": null,
   "id": "fffe07ac",
   "metadata": {
    "slideshow": {
     "slide_type": "skip"
    }
   },
   "outputs": [],
   "source": [
    "! cd for_class && python to_freedom.py && cd .."
   ]
  },
  {
   "cell_type": "markdown",
   "id": "24f56417",
   "metadata": {
    "slideshow": {
     "slide_type": "slide"
    }
   },
   "source": [
    "When you hear\n",
    "\n",
    "> Move until *condition* is true\n",
    "\n",
    "Think\n",
    "\n",
    "```python\n",
    "while not condition:\n",
    "   bit.move()\n",
    "```"
   ]
  },
  {
   "cell_type": "markdown",
   "id": "b93a6449",
   "metadata": {
    "slideshow": {
     "slide_type": "notes"
    }
   },
   "source": [
    "**NOTES**\n",
    "\n",
    "Strategy for composing a complex condition: \n",
    "1. Write a function that determines the condition where Bit should end\n",
    "2. `while not <function>(bit):`"
   ]
  },
  {
   "cell_type": "markdown",
   "id": "818a92f8",
   "metadata": {
    "slideshow": {
     "slide_type": "slide"
    }
   },
   "source": [
    "## Spiral 🧑🏻‍🎨"
   ]
  },
  {
   "cell_type": "code",
   "execution_count": null,
   "id": "b972d05d",
   "metadata": {
    "slideshow": {
     "slide_type": "skip"
    }
   },
   "outputs": [],
   "source": [
    "%%file for_class/worlds/spiral.start.txt\n",
    "------------\n",
    "---------k--\n",
    "-k----------\n",
    "-------k----\n",
    "--------k---\n",
    "--k---------\n",
    "----------k-\n",
    "k-----------\n",
    "------------\n",
    "0 0\n",
    "0"
   ]
  },
  {
   "cell_type": "code",
   "execution_count": null,
   "id": "f5131c08",
   "metadata": {
    "slideshow": {
     "slide_type": "skip"
    }
   },
   "outputs": [],
   "source": [
    "%%file for_class/worlds/spiral.finish.txt\n",
    "bbbbbbbbbbbb\n",
    "b--------k-b\n",
    "bkbbbbbbbb-b\n",
    "b-b----k-b-b\n",
    "b-bbbbbbkb-b\n",
    "b-k------b-b\n",
    "bbbbbbbbbbkb\n",
    "k----------b\n",
    "bbbbbbbbbbbb\n",
    "7 4\n",
    "0"
   ]
  },
  {
   "cell_type": "code",
   "execution_count": null,
   "id": "06b897b4",
   "metadata": {
    "cell_style": "center",
    "slideshow": {
     "slide_type": "skip"
    }
   },
   "outputs": [],
   "source": [
    "%%file spiral_solution.py\n",
    "# Solution \n",
    "from byubit import Bit, use_text_renderer\n",
    "use_text_renderer()\n",
    "\n",
    "def end_of_spiral(bit):\n",
    "    return not bit.front_clear() and not bit.left_clear()\n",
    "\n",
    "\n",
    "@Bit.worlds('for_class/worlds/spiral')\n",
    "@Bit.pictures('images/', ext='svg', title='Spiral')\n",
    "def run(bit):\n",
    "    bit.paint('blue')\n",
    "    while not end_of_spiral(bit): \n",
    "        if not bit.front_clear():\n",
    "            bit.left()\n",
    "            bit.snapshot('Turned left')\n",
    "        bit.move()\n",
    "        bit.paint('blue')\n",
    "        \n",
    "        \n",
    "if __name__ == '__main__':\n",
    "    run(Bit.new_bit)\n",
    "    "
   ]
  },
  {
   "cell_type": "code",
   "execution_count": null,
   "id": "57ae6aeb",
   "metadata": {
    "slideshow": {
     "slide_type": "skip"
    }
   },
   "outputs": [],
   "source": [
    "%%bash\n",
    "python spiral_solution.py \\\n",
    "&& cat spiral_solution.py \\\n",
    "| grep -v '@Bit.pi' \\\n",
    "| sed -e 's#for_class/worlds/##g' \\\n",
    "| sed -e 's/, use_text_renderer//' \\\n",
    "| sed -e 's/use_text_renderer()//' \\\n",
    "> for_class/spiral_solution.py"
   ]
  },
  {
   "cell_type": "code",
   "execution_count": null,
   "id": "657d1fe3",
   "metadata": {
    "slideshow": {
     "slide_type": "skip"
    }
   },
   "outputs": [],
   "source": [
    "%%file for_class/spiral.py\n",
    "from byubit import Bit\n",
    "\n",
    "\n",
    "@Bit.worlds('spiral')\n",
    "def run(bit):\n",
    "    pass\n",
    "\n",
    "\n",
    "if __name__ == '__main__':\n",
    "    run(Bit.new_bit)\n",
    "    "
   ]
  },
  {
   "cell_type": "markdown",
   "id": "19bea8c1",
   "metadata": {
    "slideshow": {
     "slide_type": "slide"
    }
   },
   "source": [
    "### `spiral.py`\n",
    "\n",
    "As long as Bit can move forward or left, keep going!\n",
    "\n",
    "If blocked in front, turn left.\n",
    "\n",
    "<div style='width: 1200px'>\n",
    "    <div style='float: left'> <img src='images/spiral.start.svg' width='600px' /> </div>\n",
    "    <div style='float: left'> <img src='images/spiral.finish.svg' width='600px' /> </div>\n",
    "</div>"
   ]
  },
  {
   "cell_type": "markdown",
   "id": "74eecb3f",
   "metadata": {
    "slideshow": {
     "slide_type": "notes"
    }
   },
   "source": [
    "**NOTES**\n",
    "\n",
    "Draw it out!\n",
    "\n",
    "What ending condition do we use?\n",
    "\n",
    "Under what event do we need to turn?"
   ]
  },
  {
   "cell_type": "markdown",
   "id": "13baacfd",
   "metadata": {
    "slideshow": {
     "slide_type": "slide"
    }
   },
   "source": [
    "## Hurdles 👩🏼‍🎨"
   ]
  },
  {
   "cell_type": "code",
   "execution_count": null,
   "id": "dcdc980d",
   "metadata": {
    "slideshow": {
     "slide_type": "skip"
    }
   },
   "outputs": [],
   "source": [
    "%%file for_class/hurdles.py\n",
    "from byubit import Bit\n",
    "\n",
    "\n",
    "@Bit.worlds('hurdles', 'more-hurdles')\n",
    "def run(bit):\n",
    "    pass\n",
    "\n",
    "\n",
    "if __name__ == '__main__':\n",
    "    run(Bit.new_bit)\n",
    "    "
   ]
  },
  {
   "cell_type": "code",
   "execution_count": null,
   "id": "58794054",
   "metadata": {
    "slideshow": {
     "slide_type": "skip"
    }
   },
   "outputs": [],
   "source": [
    "%%file for_class/worlds/hurdles.start.txt\n",
    "--------------------------\n",
    "--------------------------\n",
    "--------------------------\n",
    "---kkkkk------------------\n",
    "---kkkkk-----kkk--------kk\n",
    "---kkkkk-----kkk---k-----k\n",
    "kkkkkkkkkkkkkkkkkkkkkkkkkk\n",
    "0 1\n",
    "0"
   ]
  },
  {
   "cell_type": "code",
   "execution_count": null,
   "id": "f354396e",
   "metadata": {
    "slideshow": {
     "slide_type": "skip"
    }
   },
   "outputs": [],
   "source": [
    "%%file for_class/worlds/hurdles.finish.txt\n",
    "--------------------------\n",
    "--------------------------\n",
    "--ggggggg-----------------\n",
    "--gkkkkkg---ggggg---------\n",
    "--gkkkkkg---gkkkg-ggg---kk\n",
    "gggkkkkkgggggkkkgggkgggggk\n",
    "kkkkkkkkkkkkkkkkkkkkkkkkkk\n",
    "24 1\n",
    "0"
   ]
  },
  {
   "cell_type": "code",
   "execution_count": null,
   "id": "2701e3c8",
   "metadata": {
    "slideshow": {
     "slide_type": "skip"
    }
   },
   "outputs": [],
   "source": [
    "%%file for_class/worlds/more-hurdles.start.txt\n",
    "----------------\n",
    "----------------\n",
    "-kk-k-kk---kk---\n",
    "-kk-k-kk---kk--k\n",
    "-kk-k-kk---kk---\n",
    "kkkkkkkkkkkkkkkk\n",
    "0 1\n",
    "0"
   ]
  },
  {
   "cell_type": "code",
   "execution_count": null,
   "id": "296ea684",
   "metadata": {
    "slideshow": {
     "slide_type": "skip"
    }
   },
   "outputs": [],
   "source": [
    "%%file for_class/worlds/more-hurdles.finish.txt\n",
    "----------------\n",
    "ggggggggg-gggg--\n",
    "gkkgkgkkg-gkkg--\n",
    "gkkgkgkkg-gkkg-k\n",
    "gkkgkgkkgggkkggg\n",
    "kkkkkkkkkkkkkkkk\n",
    "15 1\n",
    "0"
   ]
  },
  {
   "cell_type": "markdown",
   "id": "2642971c",
   "metadata": {
    "cell_style": "split",
    "slideshow": {
     "slide_type": "slide"
    }
   },
   "source": [
    "<img src='images/hurdles.start.svg' width=1400px/>\n",
    "<img src='images/hurdles.finish.svg' width=1400px/>"
   ]
  },
  {
   "cell_type": "markdown",
   "id": "92bab44a",
   "metadata": {
    "cell_style": "split",
    "slideshow": {
     "slide_type": "slide"
    }
   },
   "source": [
    "<img src='images/more-hurdles.start.svg' />\n",
    "<img src='images/more-hurdles.finish.svg' />"
   ]
  },
  {
   "cell_type": "code",
   "execution_count": null,
   "id": "59ca7df6",
   "metadata": {
    "slideshow": {
     "slide_type": "skip"
    }
   },
   "outputs": [],
   "source": [
    "%%file hurdles_solution.py\n",
    "# solution\n",
    "from byubit import Bit, use_text_renderer\n",
    "use_text_renderer()\n",
    "\n",
    "\n",
    "def is_finished(bit):\n",
    "    return not bit.front_clear() and not bit.left_clear()\n",
    "\n",
    "\n",
    "def go_green(bit):\n",
    "    \"\"\"\n",
    "    Bit moves forward until blocked, painting green on the way\n",
    "    The first square is not painted; the last square IS painted.\n",
    "    \"\"\"\n",
    "    while bit.front_clear():\n",
    "        bit.move()\n",
    "        bit.paint('green')\n",
    "\n",
    "        \n",
    "def cover_green(bit):\n",
    "    \"\"\"\n",
    "    Bit moves forward until the right side is clear, painting green on the way\n",
    "    The first square is not painted; the last square IS painted.\n",
    "    \"\"\"\n",
    "    while not bit.right_clear():\n",
    "        bit.move()\n",
    "        bit.paint('green')\n",
    "              \n",
    "\n",
    "def jump_hurdle(bit):\n",
    "    \"\"\"\n",
    "    Bit starts at base of hurdle on left side facing right\n",
    "    Bit ends at base of hurdle on right side facing right\n",
    "    \"\"\"\n",
    "    # Up\n",
    "    bit.left()\n",
    "    cover_green(bit)\n",
    "    bit.right()\n",
    "    \n",
    "    # Over\n",
    "    bit.move()\n",
    "    bit.paint('green')\n",
    "    cover_green(bit)\n",
    "    \n",
    "    # Down\n",
    "    bit.right()\n",
    "    go_green(bit)\n",
    "    bit.left()\n",
    "    \n",
    "    bit.snapshot('Hurdle cleared!')\n",
    "\n",
    "    \n",
    "@Bit.worlds('for_class/worlds/hurdles', 'for_class/worlds/more-hurdles')\n",
    "@Bit.pictures('images/', ext='svg', title='Hurdles')\n",
    "def run(bit):\n",
    "    bit.paint('green')\n",
    "    while not is_finished(bit):\n",
    "        if not bit.front_clear():\n",
    "            jump_hurdle(bit)\n",
    "        else:\n",
    "            bit.move()\n",
    "            bit.paint('green')\n",
    "            # go_green(bit)\n",
    "            \n",
    "            \n",
    "if __name__ == '__main__':\n",
    "    run(Bit.new_bit)\n",
    "    "
   ]
  },
  {
   "cell_type": "code",
   "execution_count": null,
   "id": "191539fd",
   "metadata": {
    "slideshow": {
     "slide_type": "skip"
    }
   },
   "outputs": [],
   "source": [
    "%%bash\n",
    "python hurdles_solution.py \\\n",
    "&& cat hurdles_solution.py \\\n",
    "| grep -v '@Bit.pi' \\\n",
    "| sed -e 's#for_class/worlds/##g' \\\n",
    "| sed -e 's/, use_text_renderer//' \\\n",
    "| sed -e 's/use_text_renderer()//' \\\n",
    "> for_class/hurdles_solution.py"
   ]
  },
  {
   "cell_type": "code",
   "execution_count": null,
   "id": "e347b36d",
   "metadata": {
    "slideshow": {
     "slide_type": "skip"
    }
   },
   "outputs": [],
   "source": [
    "%%file for_class/another_hurdles_solution.py\n",
    "# Another hurdles solution\n",
    "# This one is a little trickier than the first\n",
    "# What happens when the order of if/else conditions is changed (i.e. the not front clear block comes first)?\n",
    "# Which solution is easier to understand? This one or the other one? Which seems simpler?\n",
    "\n",
    "from byubit import Bit\n",
    "\n",
    "\n",
    "def jump(bit):\n",
    "    bit.left()\n",
    "    while not bit.right_clear():\n",
    "        bit.move()\n",
    "        bit.paint('green')\n",
    "    bit.right()\n",
    "    bit.move()\n",
    "    bit.paint('green')\n",
    "\n",
    "    \n",
    "def fall(bit):\n",
    "    bit.right()\n",
    "    while bit.front_clear():\n",
    "        bit.move()\n",
    "        bit.paint('green')\n",
    "    bit.left()\n",
    "    \n",
    "    \n",
    "@Bit.run('hurdles', 'more-hurdles')\n",
    "def run(bit):\n",
    "    bit.paint('green')\n",
    "    while bit.left_clear():\n",
    "        if bit.right_clear():\n",
    "            fall(bit)\n",
    "\n",
    "        elif not bit.front_clear():\n",
    "            jump(bit)\n",
    "        \n",
    "        else:\n",
    "            bit.move()\n",
    "            bit.paint('green')\n",
    "            \n",
    "\n",
    "if __name__ == '__main__':\n",
    "    run(Bit.new_bit)\n",
    "    "
   ]
  },
  {
   "cell_type": "markdown",
   "id": "55ccffe8",
   "metadata": {
    "slideshow": {
     "slide_type": "slide"
    }
   },
   "source": [
    "## Key Ideas\n",
    "\n",
    "- `return`\n",
    "- `and`, `or`\n",
    "- Writing functions for complex logical statements"
   ]
  }
 ],
 "metadata": {
  "celltoolbar": "Slideshow",
  "kernelspec": {
   "display_name": "Python 3 (ipykernel)",
   "language": "python",
   "name": "python3"
  },
  "language_info": {
   "codemirror_mode": {
    "name": "ipython",
    "version": 3
   },
   "file_extension": ".py",
   "mimetype": "text/x-python",
   "name": "python",
   "nbconvert_exporter": "python",
   "pygments_lexer": "ipython3",
   "version": "3.11.5"
  },
  "toc": {
   "base_numbering": 1,
   "nav_menu": {},
   "number_sections": false,
   "sideBar": true,
   "skip_h1_title": true,
   "title_cell": "Table of Contents",
   "title_sidebar": "Contents",
   "toc_cell": false,
   "toc_position": {},
   "toc_section_display": true,
   "toc_window_display": false
  }
 },
 "nbformat": 4,
 "nbformat_minor": 5
}
